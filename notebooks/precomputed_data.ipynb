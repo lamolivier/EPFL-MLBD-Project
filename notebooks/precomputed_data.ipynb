{
 "cells": [
  {
   "cell_type": "code",
   "execution_count": 16,
   "metadata": {},
   "outputs": [],
   "source": [
    "import pickle\n",
    "import scipy.sparse\n",
    "\n",
    "import numpy as np\n",
    "import pandas as pd\n",
    "\n",
    "from helper_functions import *\n",
    "from scipy.sparse import dok_matrix"
   ]
  },
  {
   "cell_type": "code",
   "execution_count": 2,
   "metadata": {},
   "outputs": [
    {
     "data": {
      "text/html": [
       "<div>\n",
       "<style scoped>\n",
       "    .dataframe tbody tr th:only-of-type {\n",
       "        vertical-align: middle;\n",
       "    }\n",
       "\n",
       "    .dataframe tbody tr th {\n",
       "        vertical-align: top;\n",
       "    }\n",
       "\n",
       "    .dataframe thead th {\n",
       "        text-align: right;\n",
       "    }\n",
       "</style>\n",
       "<table border=\"1\" class=\"dataframe\">\n",
       "  <thead>\n",
       "    <tr style=\"text-align: right;\">\n",
       "      <th></th>\n",
       "      <th>user_id</th>\n",
       "      <th>artist_id</th>\n",
       "      <th>plays</th>\n",
       "    </tr>\n",
       "  </thead>\n",
       "  <tbody>\n",
       "    <tr>\n",
       "      <th>0</th>\n",
       "      <td>00000c289a1829a808ac09c00daf10bc3c4e223b</td>\n",
       "      <td>3bd73256-3905-4f3a-97e2-8b341527f805</td>\n",
       "      <td>2137</td>\n",
       "    </tr>\n",
       "    <tr>\n",
       "      <th>1</th>\n",
       "      <td>00000c289a1829a808ac09c00daf10bc3c4e223b</td>\n",
       "      <td>f2fb0ff0-5679-42ec-a55c-15109ce6e320</td>\n",
       "      <td>1099</td>\n",
       "    </tr>\n",
       "    <tr>\n",
       "      <th>2</th>\n",
       "      <td>00000c289a1829a808ac09c00daf10bc3c4e223b</td>\n",
       "      <td>b3ae82c2-e60b-4551-a76d-6620f1b456aa</td>\n",
       "      <td>897</td>\n",
       "    </tr>\n",
       "    <tr>\n",
       "      <th>3</th>\n",
       "      <td>00000c289a1829a808ac09c00daf10bc3c4e223b</td>\n",
       "      <td>3d6bbeb7-f90e-4d10-b440-e153c0d10b53</td>\n",
       "      <td>717</td>\n",
       "    </tr>\n",
       "    <tr>\n",
       "      <th>4</th>\n",
       "      <td>00000c289a1829a808ac09c00daf10bc3c4e223b</td>\n",
       "      <td>bbd2ffd7-17f4-4506-8572-c1ea58c3f9a8</td>\n",
       "      <td>706</td>\n",
       "    </tr>\n",
       "  </tbody>\n",
       "</table>\n",
       "</div>"
      ],
      "text/plain": [
       "                                    user_id  \\\n",
       "0  00000c289a1829a808ac09c00daf10bc3c4e223b   \n",
       "1  00000c289a1829a808ac09c00daf10bc3c4e223b   \n",
       "2  00000c289a1829a808ac09c00daf10bc3c4e223b   \n",
       "3  00000c289a1829a808ac09c00daf10bc3c4e223b   \n",
       "4  00000c289a1829a808ac09c00daf10bc3c4e223b   \n",
       "\n",
       "                              artist_id  plays  \n",
       "0  3bd73256-3905-4f3a-97e2-8b341527f805   2137  \n",
       "1  f2fb0ff0-5679-42ec-a55c-15109ce6e320   1099  \n",
       "2  b3ae82c2-e60b-4551-a76d-6620f1b456aa    897  \n",
       "3  3d6bbeb7-f90e-4d10-b440-e153c0d10b53    717  \n",
       "4  bbd2ffd7-17f4-4506-8572-c1ea58c3f9a8    706  "
      ]
     },
     "execution_count": 2,
     "metadata": {},
     "output_type": "execute_result"
    }
   ],
   "source": [
    "col_names_consumption = ['user-mboxsha1', 'musicbrainz-artist-id', 'artist-name', 'plays']\n",
    "\n",
    "df = pd.read_csv('../data/usersha1-artmbid-artname-plays.tsv', sep='\\t', names=col_names_consumption)\n",
    "df = df.rename({'user-mboxsha1':'user_id', 'musicbrainz-artist-id':'artist_id'}, axis=1)\n",
    "df = df[['user_id', 'artist_id', 'plays']]\n",
    "df.head()"
   ]
  },
  {
   "cell_type": "code",
   "execution_count": null,
   "metadata": {},
   "outputs": [],
   "source": [
    "# Useful to compute tf-idf weights: compute the number of artists for each user\n",
    "nb_artists_per_user = {}\n",
    "for user in df['user_id'].unique():\n",
    "    nb_artists_per_user[user] = df[df['user_id'] == user]['plays'].sum()\n",
    "# Store data\n",
    "with open('nb_artists_per_user.pkl', 'wb') as handle:\n",
    "    pickle.dump(nb_artists_per_user, handle)\n",
    "    \n",
    "# Free memory\n",
    "nb_artists_per_user = 0"
   ]
  },
  {
   "cell_type": "markdown",
   "metadata": {},
   "source": [
    "# Data Processing"
   ]
  },
  {
   "cell_type": "markdown",
   "metadata": {},
   "source": [
    "## Filter the data"
   ]
  },
  {
   "cell_type": "code",
   "execution_count": 4,
   "metadata": {},
   "outputs": [
    {
     "data": {
      "text/plain": [
       "user_id           0\n",
       "artist_id    226137\n",
       "plays             0\n",
       "dtype: int64"
      ]
     },
     "execution_count": 4,
     "metadata": {},
     "output_type": "execute_result"
    }
   ],
   "source": [
    "df.isna().sum()"
   ]
  },
  {
   "cell_type": "code",
   "execution_count": 5,
   "metadata": {},
   "outputs": [
    {
     "data": {
      "text/plain": [
       "(17535655, 3)"
      ]
     },
     "execution_count": 5,
     "metadata": {},
     "output_type": "execute_result"
    }
   ],
   "source": [
    "df.shape"
   ]
  },
  {
   "cell_type": "code",
   "execution_count": 6,
   "metadata": {},
   "outputs": [
    {
     "data": {
      "text/plain": [
       "(17309518, 3)"
      ]
     },
     "execution_count": 6,
     "metadata": {},
     "output_type": "execute_result"
    }
   ],
   "source": [
    "# Since there are 1.29% of NaN for the artists, we remove all the rows from df that contains a NaN\n",
    "df = df.dropna()\n",
    "df.shape"
   ]
  },
  {
   "cell_type": "code",
   "execution_count": 13,
   "metadata": {},
   "outputs": [],
   "source": [
    "T1 = 1000  # Number of plays per user threshold\n",
    "T2 = 50    # Number of artists per user threshold\n",
    "\n",
    "T3 = 100 # Number of plays per artist threshold\n",
    "T4 = 10  # Number of users per artist threshold"
   ]
  },
  {
   "cell_type": "code",
   "execution_count": 14,
   "metadata": {},
   "outputs": [],
   "source": [
    "plays_per_user = df[['user_id', 'plays']].groupby('user_id').sum()\n",
    "artists_per_user = df[['user_id', 'plays']].groupby('user_id').count().rename({'plays':'n_artists'}, axis=1)\n",
    "\n",
    "plays_per_artist = df[['artist_id', 'plays']].groupby('artist_id').sum()\n",
    "users_per_artist = df[['artist_id', 'plays']].groupby('artist_id').count().rename({'plays':'n_users'}, axis=1)"
   ]
  },
  {
   "cell_type": "code",
   "execution_count": 15,
   "metadata": {},
   "outputs": [
    {
     "name": "stdout",
     "output_type": "stream",
     "text": [
      "Number of users after filtering with T1: 315799\n",
      "Number of users after filtering with T1 and T2: 89008\n",
      "Number of artists after filtering with T3: 123227\n",
      "Number of artists after filtering with T3 and T4: 60938\n"
     ]
    }
   ],
   "source": [
    "# Store the list of intesting users in a set for performance (membership of elem and intersection)\n",
    "\n",
    "users_filtered = set(plays_per_user[plays_per_user['plays'] > T1].index)\n",
    "print('Number of users after filtering with T1: {}'.format(len(users_filtered)))\n",
    "users_filtered = users_filtered & set(artists_per_user[artists_per_user['n_artists'] > T2].index)\n",
    "print('Number of users after filtering with T1 and T2: {}'.format(len(users_filtered)))\n",
    "\n",
    "artists_filtered = set(plays_per_artist[plays_per_artist['plays'] > T3].index)\n",
    "print('Number of artists after filtering with T3: {}'.format(len(artists_filtered)))\n",
    "artists_filtered = artists_filtered & set(users_per_artist[users_per_artist['n_users'] > T4].index)\n",
    "print('Number of artists after filtering with T3 and T4: {}'.format(len(artists_filtered)))"
   ]
  },
  {
   "cell_type": "markdown",
   "metadata": {},
   "source": [
    "## Storing data in sparse matrix\n",
    "\n",
    "- One user per column\n",
    "- One artist per row"
   ]
  },
  {
   "cell_type": "code",
   "execution_count": 17,
   "metadata": {},
   "outputs": [],
   "source": [
    "# Dictionnary for retrieving the index of a user in the matrix in O(1)\n",
    "\n",
    "user2id = {}\n",
    "id2user = {}\n",
    "for i, user in enumerate(sorted(users_filtered)):\n",
    "    user2id[user] = i\n",
    "    id2user[i] = user\n",
    "\n",
    "artist2id = {}\n",
    "id2artist = {}\n",
    "for i, artist in enumerate(sorted(artists_filtered)):\n",
    "    artist2id[artist] = i\n",
    "    id2artist[i] = artist"
   ]
  },
  {
   "cell_type": "code",
   "execution_count": 18,
   "metadata": {},
   "outputs": [],
   "source": [
    "# Create the sparse matrix\n",
    "S = dok_matrix((len(artists_filtered), len(users_filtered)), dtype=np.uint8)"
   ]
  },
  {
   "cell_type": "code",
   "execution_count": 19,
   "metadata": {},
   "outputs": [
    {
     "name": "stdout",
     "output_type": "stream",
     "text": [
      "Processed 0 lines...\n",
      "Processed 1000000 lines...\n",
      "Processed 2000000 lines...\n",
      "Processed 3000000 lines...\n",
      "Processed 4000000 lines...\n",
      "Processed 5000000 lines...\n",
      "Processed 6000000 lines...\n",
      "Processed 7000000 lines...\n",
      "Processed 8000000 lines...\n",
      "Processed 9000000 lines...\n",
      "Processed 10000000 lines...\n",
      "Processed 11000000 lines...\n",
      "Processed 12000000 lines...\n",
      "Processed 13000000 lines...\n",
      "Processed 14000000 lines...\n",
      "Processed 15000000 lines...\n",
      "Processed 16000000 lines...\n",
      "Processed 17000000 lines...\n"
     ]
    }
   ],
   "source": [
    "# Fill the data dictionnary\n",
    "data = {}\n",
    "\n",
    "\n",
    "for i, (index, row) in enumerate(df.iterrows()):\n",
    "    \n",
    "    if i % 1000000 == 0:\n",
    "        print('Processed {} lines...'.format(i))\n",
    "    \n",
    "    user = row['user_id']\n",
    "    artist = row['artist_id']\n",
    "    \n",
    "    # Keep only interesting users and artists\n",
    "    if (user in users_filtered) and (artist in artists_filtered):\n",
    "        \n",
    "        data[(artist2id[artist], user2id[user])] = row['plays']"
   ]
  },
  {
   "cell_type": "code",
   "execution_count": 20,
   "metadata": {},
   "outputs": [],
   "source": [
    "# store it in the sparse matrix\n",
    "dict.update(S, data)\n",
    "\n",
    "# free the memory\n",
    "data = {}\n",
    "del data"
   ]
  },
  {
   "cell_type": "code",
   "execution_count": 21,
   "metadata": {},
   "outputs": [],
   "source": [
    "S = S.tocsr()\n",
    "scipy.sparse.save_npz('../data/matrix_plays.npz', S)"
   ]
  },
  {
   "cell_type": "code",
   "execution_count": 22,
   "metadata": {},
   "outputs": [],
   "source": [
    "save_to_pickle(user2id, 'user2id', '../data/')\n",
    "save_to_pickle(id2user, 'id2user', '../data/')\n",
    "\n",
    "save_to_pickle(artist2id, 'artist2id', '../data/')\n",
    "save_to_pickle(id2artist, 'id2artist', '../data/')"
   ]
  },
  {
   "cell_type": "code",
   "execution_count": 23,
   "metadata": {},
   "outputs": [],
   "source": [
    "# Load data\n",
    "user2id = load_pickle('../data/user2id.pickle')\n",
    "id2user = load_pickle('../data/id2user.pickle')\n",
    "artist2id = load_pickle('../data/artist2id.pickle')\n",
    "id2artist = load_pickle('../data/id2artist.pickle')"
   ]
  },
  {
   "cell_type": "code",
   "execution_count": null,
   "metadata": {},
   "outputs": [],
   "source": []
  }
 ],
 "metadata": {
  "kernelspec": {
   "display_name": "Python 3",
   "language": "python",
   "name": "python3"
  },
  "language_info": {
   "codemirror_mode": {
    "name": "ipython",
    "version": 3
   },
   "file_extension": ".py",
   "mimetype": "text/x-python",
   "name": "python",
   "nbconvert_exporter": "python",
   "pygments_lexer": "ipython3",
   "version": "3.8.5"
  }
 },
 "nbformat": 4,
 "nbformat_minor": 5
}
