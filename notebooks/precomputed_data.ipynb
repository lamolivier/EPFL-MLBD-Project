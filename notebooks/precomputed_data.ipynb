{
 "cells": [
  {
   "cell_type": "code",
   "execution_count": 8,
   "id": "structured-corner",
   "metadata": {},
   "outputs": [],
   "source": [
    "import pickle\n",
    "import scipy.sparse\n",
    "\n",
    "import numpy as np\n",
    "import pandas as pd\n",
    "import matplotlib.pyplot as plt\n",
    "\n",
    "from helper_functions import *\n",
    "from scipy.sparse import dok_matrix"
   ]
  },
  {
   "cell_type": "code",
   "execution_count": 2,
   "id": "leading-blink",
   "metadata": {},
   "outputs": [
    {
     "data": {
      "text/html": [
       "<div>\n",
       "<style scoped>\n",
       "    .dataframe tbody tr th:only-of-type {\n",
       "        vertical-align: middle;\n",
       "    }\n",
       "\n",
       "    .dataframe tbody tr th {\n",
       "        vertical-align: top;\n",
       "    }\n",
       "\n",
       "    .dataframe thead th {\n",
       "        text-align: right;\n",
       "    }\n",
       "</style>\n",
       "<table border=\"1\" class=\"dataframe\">\n",
       "  <thead>\n",
       "    <tr style=\"text-align: right;\">\n",
       "      <th></th>\n",
       "      <th>user_id</th>\n",
       "      <th>artist_id</th>\n",
       "      <th>plays</th>\n",
       "    </tr>\n",
       "  </thead>\n",
       "  <tbody>\n",
       "    <tr>\n",
       "      <th>0</th>\n",
       "      <td>00000c289a1829a808ac09c00daf10bc3c4e223b</td>\n",
       "      <td>3bd73256-3905-4f3a-97e2-8b341527f805</td>\n",
       "      <td>2137</td>\n",
       "    </tr>\n",
       "    <tr>\n",
       "      <th>1</th>\n",
       "      <td>00000c289a1829a808ac09c00daf10bc3c4e223b</td>\n",
       "      <td>f2fb0ff0-5679-42ec-a55c-15109ce6e320</td>\n",
       "      <td>1099</td>\n",
       "    </tr>\n",
       "    <tr>\n",
       "      <th>2</th>\n",
       "      <td>00000c289a1829a808ac09c00daf10bc3c4e223b</td>\n",
       "      <td>b3ae82c2-e60b-4551-a76d-6620f1b456aa</td>\n",
       "      <td>897</td>\n",
       "    </tr>\n",
       "    <tr>\n",
       "      <th>3</th>\n",
       "      <td>00000c289a1829a808ac09c00daf10bc3c4e223b</td>\n",
       "      <td>3d6bbeb7-f90e-4d10-b440-e153c0d10b53</td>\n",
       "      <td>717</td>\n",
       "    </tr>\n",
       "    <tr>\n",
       "      <th>4</th>\n",
       "      <td>00000c289a1829a808ac09c00daf10bc3c4e223b</td>\n",
       "      <td>bbd2ffd7-17f4-4506-8572-c1ea58c3f9a8</td>\n",
       "      <td>706</td>\n",
       "    </tr>\n",
       "  </tbody>\n",
       "</table>\n",
       "</div>"
      ],
      "text/plain": [
       "                                    user_id  \\\n",
       "0  00000c289a1829a808ac09c00daf10bc3c4e223b   \n",
       "1  00000c289a1829a808ac09c00daf10bc3c4e223b   \n",
       "2  00000c289a1829a808ac09c00daf10bc3c4e223b   \n",
       "3  00000c289a1829a808ac09c00daf10bc3c4e223b   \n",
       "4  00000c289a1829a808ac09c00daf10bc3c4e223b   \n",
       "\n",
       "                              artist_id  plays  \n",
       "0  3bd73256-3905-4f3a-97e2-8b341527f805   2137  \n",
       "1  f2fb0ff0-5679-42ec-a55c-15109ce6e320   1099  \n",
       "2  b3ae82c2-e60b-4551-a76d-6620f1b456aa    897  \n",
       "3  3d6bbeb7-f90e-4d10-b440-e153c0d10b53    717  \n",
       "4  bbd2ffd7-17f4-4506-8572-c1ea58c3f9a8    706  "
      ]
     },
     "execution_count": 2,
     "metadata": {},
     "output_type": "execute_result"
    }
   ],
   "source": [
    "col_names_consumption = ['user-mboxsha1', 'musicbrainz-artist-id', 'artist-name', 'plays']\n",
    "\n",
    "df = pd.read_csv('../data/usersha1-artmbid-artname-plays.tsv', sep='\\t', names=col_names_consumption)\n",
    "df = df.rename({'user-mboxsha1':'user_id', 'musicbrainz-artist-id':'artist_id'}, axis=1)\n",
    "df = df[['user_id', 'artist_id', 'plays']]\n",
    "df.head()"
   ]
  },
  {
   "cell_type": "markdown",
   "id": "standard-communications",
   "metadata": {},
   "source": [
    "# Data Processing"
   ]
  },
  {
   "cell_type": "markdown",
   "id": "premier-uncertainty",
   "metadata": {},
   "source": [
    "## Filter the data"
   ]
  },
  {
   "cell_type": "code",
   "execution_count": 3,
   "id": "extra-buyer",
   "metadata": {},
   "outputs": [
    {
     "data": {
      "text/plain": [
       "user_id           0\n",
       "artist_id    226137\n",
       "plays             0\n",
       "dtype: int64"
      ]
     },
     "execution_count": 3,
     "metadata": {},
     "output_type": "execute_result"
    }
   ],
   "source": [
    "df.isna().sum()"
   ]
  },
  {
   "cell_type": "code",
   "execution_count": 4,
   "id": "afraid-insured",
   "metadata": {},
   "outputs": [
    {
     "data": {
      "text/plain": [
       "(17535655, 3)"
      ]
     },
     "execution_count": 4,
     "metadata": {},
     "output_type": "execute_result"
    }
   ],
   "source": [
    "df.shape"
   ]
  },
  {
   "cell_type": "code",
   "execution_count": 5,
   "id": "western-macintosh",
   "metadata": {},
   "outputs": [
    {
     "data": {
      "text/plain": [
       "(17309518, 3)"
      ]
     },
     "execution_count": 5,
     "metadata": {},
     "output_type": "execute_result"
    }
   ],
   "source": [
    "# Since there are 1.29% of NaN for the artists, we remove all the rows from df that contains a NaN\n",
    "df = df.dropna()\n",
    "df.shape"
   ]
  },
  {
   "cell_type": "code",
   "execution_count": 6,
   "id": "other-interview",
   "metadata": {},
   "outputs": [],
   "source": [
    "# Some plays are equal to 0 which is not normal, we delete these rows\n",
    "df = df.loc[df['plays'] >= 1]"
   ]
  },
  {
   "cell_type": "markdown",
   "id": "stylish-palestinian",
   "metadata": {},
   "source": [
    "### Thresholds distributions"
   ]
  },
  {
   "cell_type": "code",
   "execution_count": 63,
   "id": "continued-invention",
   "metadata": {},
   "outputs": [],
   "source": [
    "T1 = 100  # Number of plays per user threshold\n",
    "T2 = 47    # Number of artists per user threshold\n",
    "\n",
    "T3 = 65 # Number of plays per artist threshold\n",
    "T4 = 60  # Number of users per artist threshold"
   ]
  },
  {
   "cell_type": "markdown",
   "id": "offensive-morris",
   "metadata": {},
   "source": [
    "#### Number of plays per user threshold distribution"
   ]
  },
  {
   "cell_type": "code",
   "execution_count": 30,
   "id": "dynamic-holly",
   "metadata": {},
   "outputs": [
    {
     "data": {
      "text/plain": [
       "<matplotlib.lines.Line2D at 0x145e89198>"
      ]
     },
     "execution_count": 30,
     "metadata": {},
     "output_type": "execute_result"
    },
    {
     "data": {
      "image/png": "[encoded data removed]",
      "text/plain": [
       "<Figure size 720x432 with 1 Axes>"
      ]
     },
     "metadata": {
      "needs_background": "light"
     },
     "output_type": "display_data"
    }
   ],
   "source": [
    "grouped_user = df[['user_id', 'plays']].groupby('user_id').sum()\n",
    "grouped_user = grouped_user.sort_values(by='plays', ascending=False)\n",
    "# Only show users having less than 100'000 plays\n",
    "grouped_user = grouped_user[grouped_user['plays'] <= 100000]\n",
    "\n",
    "grouped_user.hist(bins=100, figsize=(10, 6), ec='black', color='c')\n",
    "plt.yscale('log')\n",
    "plt.title('Histogram for the number of users per number of plays', fontsize=20)\n",
    "plt.xlabel('Number of plays', fontsize=14)\n",
    "plt.ylabel('Number of users', fontsize=14)\n",
    "\n",
    "plt.axvline(T1, linestyle='--', color='k') \n",
    "plt.show()"
   ]
  },
  {
   "cell_type": "code",
   "execution_count": 66,
   "id": "upper-pacific",
   "metadata": {},
   "outputs": [
    {
     "data": {
      "image/png": "[encoded data removed]",
      "text/plain": [
       "<Figure size 720x432 with 1 Axes>"
      ]
     },
     "metadata": {
      "needs_background": "light"
     },
     "output_type": "display_data"
    }
   ],
   "source": [
    "grouped_user = df[['user_id', 'plays']].groupby('user_id').sum()\n",
    "grouped_user = grouped_user.sort_values(by='plays', ascending=False)\n",
    "# Only show users having less than 5'000 plays\n",
    "nb_users = 5000\n",
    "grouped_user = grouped_user[grouped_user['plays'] <= nb_users]\n",
    "\n",
    "grouped_user.hist(bins=100, figsize=(10, 6), ec='black', color='c')\n",
    "plt.yscale('log')\n",
    "plt.title('Histogram for the number of users per number of plays', fontsize=20)\n",
    "plt.xlabel('Number of plays', fontsize=14)\n",
    "plt.ylabel('Number of users', fontsize=14)\n",
    "\n",
    "plt.axvline(T1, linestyle='--', color='k') \n",
    "plt.show()"
   ]
  },
  {
   "cell_type": "markdown",
   "id": "amateur-military",
   "metadata": {},
   "source": [
    "#### Number of artists per user threshold"
   ]
  },
  {
   "cell_type": "code",
   "execution_count": 69,
   "id": "desirable-bibliography",
   "metadata": {},
   "outputs": [
    {
     "data": {
      "image/png": "[encoded data removed]",
      "text/plain": [
       "<Figure size 720x432 with 1 Axes>"
      ]
     },
     "metadata": {
      "needs_background": "light"
     },
     "output_type": "display_data"
    }
   ],
   "source": [
    "grouped_user = df[['user_id', 'plays']].groupby('user_id').count().rename(columns = {'plays': 'count'})\n",
    "grouped_user = grouped_user.sort_values(by='count', ascending=False)\n",
    "\n",
    "grouped_user.hist(bins=100, figsize=(10, 6), ec='black', color='c')\n",
    "plt.yscale('log')\n",
    "plt.title('Histogram for the number of artists per user', fontsize=20)\n",
    "plt.xlabel('Number of artists', fontsize=14)\n",
    "plt.ylabel('Number of users', fontsize=14)\n",
    "\n",
    "plt.axvline(T2, linestyle='--', color='k') \n",
    "plt.show()"
   ]
  },
  {
   "cell_type": "markdown",
   "id": "protecting-payment",
   "metadata": {},
   "source": [
    "#### Number of plays per artist threshold"
   ]
  },
  {
   "cell_type": "code",
   "execution_count": 32,
   "id": "universal-wyoming",
   "metadata": {},
   "outputs": [
    {
     "data": {
      "text/plain": [
       "<matplotlib.lines.Line2D at 0x12ba74978>"
      ]
     },
     "execution_count": 32,
     "metadata": {},
     "output_type": "execute_result"
    },
    {
     "data": {
      "image/png": "[encoded data removed]",
      "text/plain": [
       "<Figure size 720x432 with 1 Axes>"
      ]
     },
     "metadata": {
      "needs_background": "light"
     },
     "output_type": "display_data"
    }
   ],
   "source": [
    "grouped_artist = df[['artist_id', 'plays']].groupby('artist_id').sum()\n",
    "grouped_artist = grouped_artist.sort_values(by='plays', ascending=False)\n",
    "\n",
    "grouped_artist.hist(bins=100, figsize=(10, 6), ec='black', color='c')\n",
    "plt.yscale('log')\n",
    "plt.title('Histogram for the number of play per artist per number of plays', fontsize=20)\n",
    "plt.xlabel('Number of plays', fontsize=14)\n",
    "plt.ylabel('Number of artists', fontsize=14)\n",
    "plt.savefig('artists_p_plays.pdf', bbox_inches='tight')\n",
    "\n",
    "plt.axvline(T3, linestyle='--', color='k') \n",
    "plt.show()"
   ]
  },
  {
   "cell_type": "code",
   "execution_count": 77,
   "id": "transsexual-ensemble",
   "metadata": {},
   "outputs": [
    {
     "data": {
      "image/png": "[encoded data removed]",
      "text/plain": [
       "<Figure size 720x432 with 1 Axes>"
      ]
     },
     "metadata": {
      "needs_background": "light"
     },
     "output_type": "display_data"
    }
   ],
   "source": [
    "grouped_artist = df[['artist_id', 'plays']].groupby('artist_id').sum()\n",
    "grouped_artist = grouped_artist.sort_values(by='plays', ascending=False)\n",
    "# Only show artists having less than 10'000 plays\n",
    "nb_artists = 5000\n",
    "grouped_artist = grouped_artist[grouped_artist['plays'] <= nb_artists]\n",
    "\n",
    "grouped_artist.hist(bins=100, figsize=(10, 6), ec='black', color='c')\n",
    "plt.yscale('log')\n",
    "plt.title('Histogram for the number of play per artist per number of plays', fontsize=20)\n",
    "plt.xlabel('Number of plays', fontsize=14)\n",
    "plt.ylabel('Number of artists', fontsize=14)\n",
    "plt.savefig('artists_p_plays.pdf', bbox_inches='tight')\n",
    "\n",
    "plt.axvline(T3, linestyle='--', color='k') \n",
    "plt.show()"
   ]
  },
  {
   "cell_type": "markdown",
   "id": "surgical-synthetic",
   "metadata": {},
   "source": [
    "#### Number of users per artist threshold"
   ]
  },
  {
   "cell_type": "code",
   "execution_count": 52,
   "id": "suited-genealogy",
   "metadata": {},
   "outputs": [
    {
     "data": {
      "image/png": "[encoded data removed]",
      "text/plain": [
       "<Figure size 720x432 with 1 Axes>"
      ]
     },
     "metadata": {
      "needs_background": "light"
     },
     "output_type": "display_data"
    }
   ],
   "source": [
    "grouped_artist = df[['artist_id', 'plays']].groupby('artist_id').count().rename(columns = {'plays': 'count'})\n",
    "grouped_artist = grouped_artist.sort_values(by='count', ascending=False)\n",
    "\n",
    "grouped_artist.hist(bins=100, figsize=(10, 6), ec='black', color='c')\n",
    "plt.yscale('log')\n",
    "plt.title('Histogram for the number of users per artist', fontsize=20)\n",
    "plt.xlabel('Number of users', fontsize=14)\n",
    "plt.ylabel('Number of artists', fontsize=14)\n",
    "\n",
    "plt.axvline(T4, linestyle='--', color='k') \n",
    "plt.show()"
   ]
  },
  {
   "cell_type": "code",
   "execution_count": 74,
   "id": "impressive-talent",
   "metadata": {},
   "outputs": [
    {
     "data": {
      "image/png": "[encoded data removed]",
      "text/plain": [
       "<Figure size 720x432 with 1 Axes>"
      ]
     },
     "metadata": {
      "needs_background": "light"
     },
     "output_type": "display_data"
    }
   ],
   "source": [
    "grouped_artist = df[['artist_id', 'plays']].groupby('artist_id').count().rename(columns = {'plays': 'count'})\n",
    "grouped_artist = grouped_artist.sort_values(by='count', ascending=False)\n",
    "# Keep only a maximum count of 5'000 \n",
    "nb_users_count = 5000\n",
    "grouped_artist = grouped_artist[grouped_artist['count'] <= nb_users_count]\n",
    "\n",
    "grouped_artist.hist(bins=100, figsize=(10, 6), ec='black', color='c')\n",
    "plt.yscale('log')\n",
    "plt.title('Histogram for the number of users per artist', fontsize=20)\n",
    "plt.xlabel('Number of users', fontsize=14)\n",
    "plt.ylabel('Number of artists', fontsize=14)\n",
    "\n",
    "plt.axvline(T4, linestyle='--', color='k')\n",
    "plt.show()"
   ]
  },
  {
   "cell_type": "markdown",
   "id": "simple-regulation",
   "metadata": {},
   "source": [
    "## Construction of the matrix of plays"
   ]
  },
  {
   "cell_type": "code",
   "execution_count": 78,
   "id": "cooked-above",
   "metadata": {},
   "outputs": [],
   "source": [
    "plays_per_user = df[['user_id', 'plays']].groupby('user_id').sum()\n",
    "artists_per_user = df[['user_id', 'plays']].groupby('user_id').count().rename({'plays':'n_artists'}, axis=1)\n",
    "\n",
    "plays_per_artist = df[['artist_id', 'plays']].groupby('artist_id').sum()\n",
    "users_per_artist = df[['artist_id', 'plays']].groupby('artist_id').count().rename({'plays':'n_users'}, axis=1)"
   ]
  },
  {
   "cell_type": "code",
   "execution_count": 79,
   "id": "cloudy-hollywood",
   "metadata": {},
   "outputs": [
    {
     "name": "stdout",
     "output_type": "stream",
     "text": [
      "Number of users after filtering with T1: 355302\n",
      "Number of users after filtering with T1 and T2: 92207\n",
      "Number of artists after filtering with T3: 123227\n",
      "Number of artists after filtering with T3 and T4: 60938\n"
     ]
    }
   ],
   "source": [
    "# Store the list of intesting users in a set for performance (membership of elem and intersection)\n",
    "\n",
    "users_filtered = set(plays_per_user[plays_per_user['plays'] > T1].index)\n",
    "print('Number of users after filtering with T1: {}'.format(len(users_filtered)))\n",
    "users_filtered = users_filtered & set(artists_per_user[artists_per_user['n_artists'] > T2].index)\n",
    "print('Number of users after filtering with T1 and T2: {}'.format(len(users_filtered)))\n",
    "\n",
    "artists_filtered = set(plays_per_artist[plays_per_artist['plays'] > T3].index)\n",
    "print('Number of artists after filtering with T3: {}'.format(len(artists_filtered)))\n",
    "artists_filtered = artists_filtered & set(users_per_artist[users_per_artist['n_users'] > T4].index)\n",
    "print('Number of artists after filtering with T3 and T4: {}'.format(len(artists_filtered)))"
   ]
  },
  {
   "cell_type": "markdown",
   "id": "joined-arrangement",
   "metadata": {},
   "source": [
    "However, we would like to have a single matrix where we keep the users and the artists who all satisfy the 4 different thresholds. But since the thresholds are interdependent, removing users will also make us remove artists, and the other way around. Therefore we iterate on removing alternatively the users and the artists, until we converge to two subsets of artists and users which both satisfy the 4 thresholds."
   ]
  },
  {
   "cell_type": "code",
   "execution_count": 80,
   "id": "absolute-automation",
   "metadata": {},
   "outputs": [
    {
     "name": "stdout",
     "output_type": "stream",
     "text": [
      "iteration 1, num users 92207, num artists 34501\n",
      "iteration 2, num users 71479, num artists 27543\n",
      "iteration 3, num users 65662, num artists 25517\n",
      "iteration 4, num users 63626, num artists 24765\n",
      "iteration 5, num users 62811, num artists 24477\n",
      "iteration 6, num users 62462, num artists 24353\n",
      "iteration 7, num users 62333, num artists 24304\n",
      "iteration 8, num users 62280, num artists 24280\n",
      "iteration 9, num users 62249, num artists 24265\n",
      "iteration 10, num users 62229, num artists 24256\n",
      "iteration 11, num users 62220, num artists 24252\n",
      "iteration 12, num users 62218, num artists 24251\n",
      "iteration 13, num users 62218, num artists 24251\n",
      "Converged!\n"
     ]
    }
   ],
   "source": [
    "num_iterations = 15\n",
    "users_filtered_iteration = None\n",
    "artists_filtered_iteration = None\n",
    "\n",
    "plays_per_user_filtered = plays_per_user.copy()\n",
    "artists_per_user_filtered = artists_per_user.copy()\n",
    "\n",
    "plays_per_artist_filtered = plays_per_artist.copy()\n",
    "users_per_artist_filtered = users_per_artist.copy()\n",
    "\n",
    "previous_users_filtered_iteration = set(plays_per_user_filtered.index)\n",
    "previous_artists_filtered_iteration = set(plays_per_artist_filtered.index)\n",
    "\n",
    "for i in range(num_iterations):\n",
    "    \n",
    "    # Filter users\n",
    "    users_filtered_iteration = set(plays_per_user_filtered[plays_per_user_filtered['plays'] > T1].index)\n",
    "    users_filtered_iteration = users_filtered_iteration & set(artists_per_user_filtered[artists_per_user_filtered['n_artists'] > T2].index)\n",
    "    users_filtered_iteration = users_filtered_iteration & previous_users_filtered_iteration\n",
    "    \n",
    "    temp = df[df['user_id'].isin(users_filtered_iteration)]\n",
    "    temp = temp[temp['artist_id'].isin(previous_artists_filtered_iteration)]\n",
    "    \n",
    "    temp = temp[['artist_id', 'plays']].groupby('artist_id')\n",
    "    plays_per_artist_filtered = temp.sum()\n",
    "    users_per_artist_filtered = temp.count().rename({'plays':'n_users'}, axis=1)\n",
    "    \n",
    "    # Filter artists\n",
    "    artists_filtered_iteration = set(plays_per_artist_filtered[plays_per_artist_filtered['plays'] > T3].index)\n",
    "    artists_filtered_iteration = artists_filtered_iteration & set(users_per_artist_filtered[users_per_artist_filtered['n_users'] > T4].index)\n",
    "    artists_filtered_iteration = artists_filtered_iteration & previous_artists_filtered_iteration\n",
    "    \n",
    "    temp = df[df['user_id'].isin(users_filtered_iteration)]\n",
    "    temp = temp[temp['artist_id'].isin(artists_filtered_iteration)]\n",
    "    temp = temp[['user_id', 'plays']].groupby('user_id')\n",
    "    plays_per_user_filtered = temp.sum()\n",
    "    artists_per_user_filtered = temp.count().rename({'plays':'n_artists'}, axis=1)\n",
    "    \n",
    "    print(\"iteration {}, num users {}, num artists {}\".format(i+1, len(users_filtered_iteration), len(artists_filtered_iteration)))\n",
    "    \n",
    "    # Stop condition\n",
    "    if previous_users_filtered_iteration == users_filtered_iteration and previous_artists_filtered_iteration == artists_filtered_iteration:\n",
    "        print(\"Converged!\")\n",
    "        break\n",
    "        \n",
    "    previous_users_filtered_iteration = users_filtered_iteration.copy()\n",
    "    previous_artists_filtered_iteration = artists_filtered_iteration.copy()\n",
    "    "
   ]
  },
  {
   "cell_type": "markdown",
   "id": "featured-bikini",
   "metadata": {},
   "source": [
    "## Storing data in sparse matrix\n",
    "\n",
    "- One user per column\n",
    "- One artist per row"
   ]
  },
  {
   "cell_type": "code",
   "execution_count": 92,
   "id": "encouraging-border",
   "metadata": {},
   "outputs": [],
   "source": [
    "# Dictionnary for retrieving the index of a user in the matrix in O(1)\n",
    "\n",
    "user2id = {}\n",
    "id2user = {}\n",
    "for i, user in enumerate(sorted(users_filtered_iteration)):\n",
    "    user2id[user] = i\n",
    "    id2user[i] = user\n",
    "\n",
    "artist2id = {}\n",
    "id2artist = {}\n",
    "for i, artist in enumerate(sorted(artists_filtered_iteration)):\n",
    "    artist2id[artist] = i\n",
    "    id2artist[i] = artist"
   ]
  },
  {
   "cell_type": "code",
   "execution_count": 106,
   "id": "assured-minister",
   "metadata": {},
   "outputs": [],
   "source": [
    "save_to_pickle(user2id, 'user2id', '../data/')\n",
    "save_to_pickle(id2user, 'id2user', '../data/')\n",
    "\n",
    "save_to_pickle(artist2id, 'artist2id', '../data/')\n",
    "save_to_pickle(id2artist, 'id2artist', '../data/')"
   ]
  },
  {
   "cell_type": "code",
   "execution_count": 93,
   "id": "geographic-offense",
   "metadata": {},
   "outputs": [],
   "source": [
    "# Create the sparse matrix\n",
    "S = dok_matrix((len(artists_filtered_iteration), len(users_filtered_iteration)), dtype=np.uint8)"
   ]
  },
  {
   "cell_type": "code",
   "execution_count": 94,
   "id": "developed-jaguar",
   "metadata": {},
   "outputs": [
    {
     "name": "stdout",
     "output_type": "stream",
     "text": [
      "Processed 0 lines...\n",
      "Processed 1000000 lines...\n",
      "Processed 2000000 lines...\n",
      "Processed 3000000 lines...\n",
      "Processed 4000000 lines...\n",
      "Processed 5000000 lines...\n",
      "Processed 6000000 lines...\n",
      "Processed 7000000 lines...\n",
      "Processed 8000000 lines...\n",
      "Processed 9000000 lines...\n",
      "Processed 10000000 lines...\n",
      "Processed 11000000 lines...\n",
      "Processed 12000000 lines...\n",
      "Processed 13000000 lines...\n",
      "Processed 14000000 lines...\n",
      "Processed 15000000 lines...\n",
      "Processed 16000000 lines...\n",
      "Processed 17000000 lines...\n"
     ]
    }
   ],
   "source": [
    "# Fill the data dictionnary\n",
    "data = {}\n",
    "\n",
    "for i, (index, row) in enumerate(df.iterrows()):\n",
    "    \n",
    "    if i % 1000000 == 0:\n",
    "        print('Processed {} lines...'.format(i))\n",
    "    \n",
    "    user = row['user_id']\n",
    "    artist = row['artist_id']\n",
    "    \n",
    "    # Keep only interesting users and artists\n",
    "    if (user in users_filtered_iteration) and (artist in artists_filtered_iteration):\n",
    "        \n",
    "        data[(artist2id[artist], user2id[user])] = row['plays']"
   ]
  },
  {
   "cell_type": "code",
   "execution_count": 97,
   "id": "noble-oakland",
   "metadata": {},
   "outputs": [],
   "source": [
    "# store it in the sparse matrix\n",
    "dict.update(S, data)\n",
    "S = S.tocsr()\n",
    "\n",
    "# free the memory\n",
    "data = {}\n",
    "del data"
   ]
  },
  {
   "cell_type": "code",
   "execution_count": 99,
   "id": "interim-provincial",
   "metadata": {},
   "outputs": [],
   "source": [
    "scipy.sparse.save_npz('../data/matrix_plays.npz', S)"
   ]
  },
  {
   "cell_type": "markdown",
   "id": "fitted-playback",
   "metadata": {},
   "source": [
    "## Compute random user jumper and user jumper for the artist embedding"
   ]
  },
  {
   "cell_type": "code",
   "execution_count": 115,
   "id": "returning-malawi",
   "metadata": {},
   "outputs": [],
   "source": [
    "NB_SAMPLE = 3000"
   ]
  },
  {
   "cell_type": "code",
   "execution_count": 116,
   "id": "understanding-signal",
   "metadata": {},
   "outputs": [],
   "source": [
    "'''\n",
    "Random user jumper: Selects pair of random artists.\n",
    "'''\n",
    "\n",
    "selected_artists = np.random.choice(np.arange(S.shape[0]), size = (NB_SAMPLE, 2), replace=False)\n",
    "artists_tuples = []\n",
    "for tup in selected_artists:\n",
    "    artists_tuples.append((tup[0], tup[1]))\n",
    "save_to_pickle(artists_tuples, 'random_user_jumper_tuples', '../data/artist_embeddings/')"
   ]
  },
  {
   "cell_type": "code",
   "execution_count": 117,
   "id": "specific-berry",
   "metadata": {},
   "outputs": [],
   "source": [
    "'''\n",
    "User jumper: Select NB_SAMPLE users from the set of users and for each user selected, we select 2 artists\n",
    "'''\n",
    "\n",
    "selected_users = list(set(np.random.randint(S.shape[1] - 1, size=int(2*NB_SAMPLE))))\n",
    "\n",
    "S_filter = S[:, selected_users]\n",
    "\n",
    "# Create and store artists tuples\n",
    "artists_tuples = []\n",
    "for i in range(S_filter.shape[1]):\n",
    "    idx = S_filter[:, i].nonzero()[0]\n",
    "\n",
    "    if len(artists_tuples) >= NB_SAMPLE:\n",
    "        break\n",
    "    \n",
    "save_to_pickle(artists_tuples, 'user_jumper_tuples', '../data/artist_embeddings/')"
   ]
  },
  {
   "cell_type": "markdown",
   "id": "changing-storage",
   "metadata": {},
   "source": [
    "## Compute random artist jumper and artist jumper for the user embedding"
   ]
  },
  {
   "cell_type": "code",
   "execution_count": 118,
   "id": "statutory-carry",
   "metadata": {},
   "outputs": [],
   "source": [
    "'''\n",
    "Random artist jumper: Selects pair of random users.\n",
    "'''\n",
    "S2 = S.T\n",
    "selected_users = np.random.choice(np.arange(S2.shape[0]), size = (NB_SAMPLE, 2), replace=False)\n",
    "users_tuples = []\n",
    "for tup in selected_users:\n",
    "    users_tuples.append((tup[0], tup[1]))\n",
    "save_to_pickle(users_tuples, 'random_artist_jumper_tuples', '../data/user_embeddings/')"
   ]
  },
  {
   "cell_type": "code",
   "execution_count": 119,
   "id": "substantial-grade",
   "metadata": {},
   "outputs": [],
   "source": [
    "'''\n",
    "Artist jumper: Select NB_SAMPLE artists from the set of users and for each artist selected, we select 2 users.\n",
    "'''\n",
    "\n",
    "selected_artists = list(set(np.random.randint(S2.shape[1] - 1, size=int(2*NB_SAMPLE))))\n",
    "\n",
    "S2_filter = S2[:, selected_artists]\n",
    "\n",
    "# Create and store artists tuples\n",
    "users_tuples = []\n",
    "for i in range(S2_filter.shape[1]):\n",
    "    idx = S2_filter[:, i].nonzero()[0]\n",
    "    if len(idx) >= 2:\n",
    "        selected_users = np.random.choice(idx, 2, replace=False)\n",
    "        users_tuples.append((selected_users[0], selected_users[1]))\n",
    "    if len(users_tuples) >= NB_SAMPLE:\n",
    "        break\n",
    "    \n",
    "save_to_pickle(users_tuples, 'artist_jumper_tuples', '../data/user_embeddings/')"
   ]
  },
  {
   "cell_type": "code",
   "execution_count": null,
   "id": "instant-lingerie",
   "metadata": {},
   "outputs": [],
   "source": []
  }
 ],
 "metadata": {
  "kernelspec": {
   "display_name": "Python 3",
   "language": "python",
   "name": "python3"
  },
  "language_info": {
   "codemirror_mode": {
    "name": "ipython",
    "version": 3
   },
   "file_extension": ".py",
   "mimetype": "text/x-python",
   "name": "python",
   "nbconvert_exporter": "python",
   "pygments_lexer": "ipython3",
   "version": "3.6.9"
  }
 },
 "nbformat": 4,
 "nbformat_minor": 5
}
