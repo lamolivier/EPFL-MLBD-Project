{
 "cells": [
  {
   "cell_type": "code",
   "execution_count": 1,
   "metadata": {},
   "outputs": [],
   "source": [
    "import pickle\n",
    "import scipy.sparse\n",
    "\n",
    "import numpy as np\n",
    "import pandas as pd\n",
    "\n",
    "from helper_functions import *\n",
    "from scipy.sparse import dok_matrix"
   ]
  },
  {
   "cell_type": "code",
   "execution_count": 2,
   "metadata": {},
   "outputs": [
    {
     "data": {
      "text/html": [
       "<div>\n",
       "<style scoped>\n",
       "    .dataframe tbody tr th:only-of-type {\n",
       "        vertical-align: middle;\n",
       "    }\n",
       "\n",
       "    .dataframe tbody tr th {\n",
       "        vertical-align: top;\n",
       "    }\n",
       "\n",
       "    .dataframe thead th {\n",
       "        text-align: right;\n",
       "    }\n",
       "</style>\n",
       "<table border=\"1\" class=\"dataframe\">\n",
       "  <thead>\n",
       "    <tr style=\"text-align: right;\">\n",
       "      <th></th>\n",
       "      <th>user_id</th>\n",
       "      <th>artist_id</th>\n",
       "      <th>plays</th>\n",
       "    </tr>\n",
       "  </thead>\n",
       "  <tbody>\n",
       "    <tr>\n",
       "      <th>0</th>\n",
       "      <td>00000c289a1829a808ac09c00daf10bc3c4e223b</td>\n",
       "      <td>3bd73256-3905-4f3a-97e2-8b341527f805</td>\n",
       "      <td>2137</td>\n",
       "    </tr>\n",
       "    <tr>\n",
       "      <th>1</th>\n",
       "      <td>00000c289a1829a808ac09c00daf10bc3c4e223b</td>\n",
       "      <td>f2fb0ff0-5679-42ec-a55c-15109ce6e320</td>\n",
       "      <td>1099</td>\n",
       "    </tr>\n",
       "    <tr>\n",
       "      <th>2</th>\n",
       "      <td>00000c289a1829a808ac09c00daf10bc3c4e223b</td>\n",
       "      <td>b3ae82c2-e60b-4551-a76d-6620f1b456aa</td>\n",
       "      <td>897</td>\n",
       "    </tr>\n",
       "    <tr>\n",
       "      <th>3</th>\n",
       "      <td>00000c289a1829a808ac09c00daf10bc3c4e223b</td>\n",
       "      <td>3d6bbeb7-f90e-4d10-b440-e153c0d10b53</td>\n",
       "      <td>717</td>\n",
       "    </tr>\n",
       "    <tr>\n",
       "      <th>4</th>\n",
       "      <td>00000c289a1829a808ac09c00daf10bc3c4e223b</td>\n",
       "      <td>bbd2ffd7-17f4-4506-8572-c1ea58c3f9a8</td>\n",
       "      <td>706</td>\n",
       "    </tr>\n",
       "  </tbody>\n",
       "</table>\n",
       "</div>"
      ],
      "text/plain": [
       "                                    user_id  \\\n",
       "0  00000c289a1829a808ac09c00daf10bc3c4e223b   \n",
       "1  00000c289a1829a808ac09c00daf10bc3c4e223b   \n",
       "2  00000c289a1829a808ac09c00daf10bc3c4e223b   \n",
       "3  00000c289a1829a808ac09c00daf10bc3c4e223b   \n",
       "4  00000c289a1829a808ac09c00daf10bc3c4e223b   \n",
       "\n",
       "                              artist_id  plays  \n",
       "0  3bd73256-3905-4f3a-97e2-8b341527f805   2137  \n",
       "1  f2fb0ff0-5679-42ec-a55c-15109ce6e320   1099  \n",
       "2  b3ae82c2-e60b-4551-a76d-6620f1b456aa    897  \n",
       "3  3d6bbeb7-f90e-4d10-b440-e153c0d10b53    717  \n",
       "4  bbd2ffd7-17f4-4506-8572-c1ea58c3f9a8    706  "
      ]
     },
     "execution_count": 2,
     "metadata": {},
     "output_type": "execute_result"
    }
   ],
   "source": [
    "col_names_consumption = ['user-mboxsha1', 'musicbrainz-artist-id', 'artist-name', 'plays']\n",
    "\n",
    "df = pd.read_csv('../data/usersha1-artmbid-artname-plays.tsv', sep='\\t', names=col_names_consumption)\n",
    "df = df.rename({'user-mboxsha1':'user_id', 'musicbrainz-artist-id':'artist_id'}, axis=1)\n",
    "df = df[['user_id', 'artist_id', 'plays']]\n",
    "df.head()"
   ]
  },
  {
   "cell_type": "markdown",
   "metadata": {},
   "source": [
    "# Data Processing"
   ]
  },
  {
   "cell_type": "markdown",
   "metadata": {},
   "source": [
    "## Filter the data"
   ]
  },
  {
   "cell_type": "code",
   "execution_count": 3,
   "metadata": {},
   "outputs": [
    {
     "data": {
      "text/plain": [
       "user_id           0\n",
       "artist_id    226137\n",
       "plays             0\n",
       "dtype: int64"
      ]
     },
     "execution_count": 3,
     "metadata": {},
     "output_type": "execute_result"
    }
   ],
   "source": [
    "df.isna().sum()"
   ]
  },
  {
   "cell_type": "code",
   "execution_count": 4,
   "metadata": {},
   "outputs": [
    {
     "data": {
      "text/plain": [
       "(17535655, 3)"
      ]
     },
     "execution_count": 4,
     "metadata": {},
     "output_type": "execute_result"
    }
   ],
   "source": [
    "df.shape"
   ]
  },
  {
   "cell_type": "code",
   "execution_count": 6,
   "metadata": {},
   "outputs": [
    {
     "data": {
      "text/plain": [
       "(17309518, 3)"
      ]
     },
     "execution_count": 6,
     "metadata": {},
     "output_type": "execute_result"
    }
   ],
   "source": [
    "# Since there are 1.29% of NaN for the artists, we remove all the rows from df that contains a NaN\n",
    "df = df.dropna()\n",
    "df.shape"
   ]
  },
  {
   "cell_type": "code",
   "execution_count": 7,
   "metadata": {},
   "outputs": [],
   "source": [
    "# Some plays are equal to 0 which is not normal, we delete these rows\n",
    "df = df.loc[df['plays'] >= 1]"
   ]
  },
  {
   "cell_type": "code",
   "execution_count": 8,
   "metadata": {},
   "outputs": [],
   "source": [
    "T1 = 1000  # Number of plays per user threshold\n",
    "T2 = 50    # Number of artists per user threshold\n",
    "\n",
    "T3 = 100 # Number of plays per artist threshold\n",
    "T4 = 10  # Number of users per artist threshold"
   ]
  },
  {
   "cell_type": "code",
   "execution_count": 87,
   "metadata": {},
   "outputs": [],
   "source": [
    "plays_per_user = df[['user_id', 'plays']].groupby('user_id').sum()\n",
    "artists_per_user = df[['user_id', 'plays']].groupby('user_id').count().rename({'plays':'n_artists'}, axis=1)\n",
    "\n",
    "plays_per_artist = df[['artist_id', 'plays']].groupby('artist_id').sum()\n",
    "users_per_artist = df[['artist_id', 'plays']].groupby('artist_id').count().rename({'plays':'n_users'}, axis=1)"
   ]
  },
  {
   "cell_type": "code",
   "execution_count": 13,
   "metadata": {},
   "outputs": [
    {
     "name": "stdout",
     "output_type": "stream",
     "text": [
      "Number of users after filtering with T1: 315799\n",
      "Number of users after filtering with T1 and T2: 89008\n",
      "Number of artists after filtering with T3: 123227\n",
      "Number of artists after filtering with T3 and T4: 60938\n"
     ]
    }
   ],
   "source": [
    "# Store the list of intesting users in a set for performance (membership of elem and intersection)\n",
    "\n",
    "users_filtered = set(plays_per_user[plays_per_user['plays'] > T1].index)\n",
    "print('Number of users after filtering with T1: {}'.format(len(users_filtered)))\n",
    "users_filtered = users_filtered & set(artists_per_user[artists_per_user['n_artists'] > T2].index)\n",
    "print('Number of users after filtering with T1 and T2: {}'.format(len(users_filtered)))\n",
    "\n",
    "artists_filtered = set(plays_per_artist[plays_per_artist['plays'] > T3].index)\n",
    "print('Number of artists after filtering with T3: {}'.format(len(artists_filtered)))\n",
    "artists_filtered = artists_filtered & set(users_per_artist[users_per_artist['n_users'] > T4].index)\n",
    "print('Number of artists after filtering with T3 and T4: {}'.format(len(artists_filtered)))"
   ]
  },
  {
   "cell_type": "markdown",
   "metadata": {},
   "source": [
    "However, we would like to have a single matrix where we keep the users and the artists who all satisfy the 4 different thresholds. But since the thresholds are interdependent, removing users will also make us remove artists, and the other way around. Therefore we iterate on removing alternatively the users and the artists, until we converge to two subsets of artists and users which both satisfy the 4 thresholds."
   ]
  },
  {
   "cell_type": "code",
   "execution_count": 103,
   "metadata": {},
   "outputs": [
    {
     "name": "stdout",
     "output_type": "stream",
     "text": [
      "iteration 1, num users 89008, num artists 33333\n",
      "iteration 2, num users 68472, num artists 26454\n",
      "iteration 3, num users 62687, num artists 24492\n",
      "iteration 4, num users 60636, num artists 23752\n",
      "iteration 5, num users 59796, num artists 23426\n",
      "iteration 6, num users 59427, num artists 23301\n",
      "iteration 7, num users 59278, num artists 23238\n",
      "iteration 8, num users 59212, num artists 23211\n",
      "iteration 9, num users 59169, num artists 23194\n",
      "iteration 10, num users 59147, num artists 23187\n",
      "iteration 11, num users 59139, num artists 23182\n",
      "iteration 12, num users 59135, num artists 23178\n",
      "iteration 13, num users 59131, num artists 23178\n",
      "iteration 14, num users 59131, num artists 23178\n",
      "Converged!\n"
     ]
    }
   ],
   "source": [
    "num_iterations = 15\n",
    "users_filtered_iteration = None\n",
    "artists_filtered_iteration = None\n",
    "\n",
    "plays_per_user_filtered = plays_per_user.copy()\n",
    "artists_per_user_filtered = artists_per_user.copy()\n",
    "\n",
    "plays_per_artist_filtered = plays_per_artist.copy()\n",
    "users_per_artist_filtered = users_per_artist.copy()\n",
    "\n",
    "previous_users_filtered_iteration = set(plays_per_user_filtered.index)\n",
    "previous_artists_filtered_iteration = set(plays_per_artist_filtered.index)\n",
    "\n",
    "for i in range(num_iterations):\n",
    "    \n",
    "    # Filter users\n",
    "    users_filtered_iteration = set(plays_per_user_filtered[plays_per_user_filtered['plays'] > T1].index)\n",
    "    users_filtered_iteration = users_filtered_iteration & set(artists_per_user_filtered[artists_per_user_filtered['n_artists'] > T2].index)\n",
    "    users_filtered_iteration = users_filtered_iteration & previous_users_filtered_iteration\n",
    "    \n",
    "    temp = df[df['user_id'].isin(users_filtered_iteration)]\n",
    "    temp = temp[temp['artist_id'].isin(previous_artists_filtered_iteration)]\n",
    "    \n",
    "    temp = temp[['artist_id', 'plays']].groupby('artist_id')\n",
    "    plays_per_artist_filtered = temp.sum()\n",
    "    users_per_artist_filtered = temp.count().rename({'plays':'n_users'}, axis=1)\n",
    "    \n",
    "    # Filter artists\n",
    "    artists_filtered_iteration = set(plays_per_artist_filtered[plays_per_artist_filtered['plays'] > T3].index)\n",
    "    artists_filtered_iteration = artists_filtered_iteration & set(users_per_artist_filtered[users_per_artist_filtered['n_users'] > T4].index)\n",
    "    artists_filtered_iteration = artists_filtered_iteration & previous_artists_filtered_iteration\n",
    "    \n",
    "    temp = df[df['user_id'].isin(users_filtered_iteration)]\n",
    "    temp = temp[temp['artist_id'].isin(artists_filtered_iteration)]\n",
    "    temp = temp[['user_id', 'plays']].groupby('user_id')\n",
    "    plays_per_user_filtered = temp.sum()\n",
    "    artists_per_user_filtered = temp.count().rename({'plays':'n_artists'}, axis=1)\n",
    "    \n",
    "    print(\"iteration {}, num users {}, num artists {}\".format(i+1, len(users_filtered_iteration), len(artists_filtered_iteration)))\n",
    "    \n",
    "    # Stop condition\n",
    "    if previous_users_filtered_iteration == users_filtered_iteration and previous_artists_filtered_iteration == artists_filtered_iteration:\n",
    "        print(\"Converged!\")\n",
    "        break\n",
    "        \n",
    "    previous_users_filtered_iteration = users_filtered_iteration.copy()\n",
    "    previous_artists_filtered_iteration = artists_filtered_iteration.copy()\n",
    "    "
   ]
  },
  {
   "cell_type": "markdown",
   "metadata": {},
   "source": [
    "## Storing data in sparse matrix\n",
    "\n",
    "- One user per column\n",
    "- One artist per row"
   ]
  },
  {
   "cell_type": "code",
   "execution_count": 10,
   "metadata": {},
   "outputs": [],
   "source": [
    "# Dictionnary for retrieving the index of a user in the matrix in O(1)\n",
    "\n",
    "user2id = {}\n",
    "id2user = {}\n",
    "for i, user in enumerate(sorted(users_filtered)):\n",
    "    user2id[user] = i\n",
    "    id2user[i] = user\n",
    "\n",
    "artist2id = {}\n",
    "id2artist = {}\n",
    "for i, artist in enumerate(sorted(artists_filtered)):\n",
    "    artist2id[artist] = i\n",
    "    id2artist[i] = artist"
   ]
  },
  {
   "cell_type": "code",
   "execution_count": 11,
   "metadata": {},
   "outputs": [],
   "source": [
    "# Create the sparse matrix\n",
    "S = dok_matrix((len(artists_filtered), len(users_filtered)), dtype=np.uint8)"
   ]
  },
  {
   "cell_type": "code",
   "execution_count": 12,
   "metadata": {},
   "outputs": [
    {
     "name": "stdout",
     "output_type": "stream",
     "text": [
      "Processed 0 lines...\n",
      "Processed 1000000 lines...\n",
      "Processed 2000000 lines...\n",
      "Processed 3000000 lines...\n",
      "Processed 4000000 lines...\n",
      "Processed 5000000 lines...\n",
      "Processed 6000000 lines...\n",
      "Processed 7000000 lines...\n",
      "Processed 8000000 lines...\n",
      "Processed 9000000 lines...\n",
      "Processed 10000000 lines...\n",
      "Processed 11000000 lines...\n",
      "Processed 12000000 lines...\n",
      "Processed 13000000 lines...\n",
      "Processed 14000000 lines...\n",
      "Processed 15000000 lines...\n",
      "Processed 16000000 lines...\n",
      "Processed 17000000 lines...\n"
     ]
    }
   ],
   "source": [
    "# Fill the data dictionnary\n",
    "data = {}\n",
    "\n",
    "for i, (index, row) in enumerate(df.iterrows()):\n",
    "    \n",
    "    if i % 1000000 == 0:\n",
    "        print('Processed {} lines...'.format(i))\n",
    "    \n",
    "    user = row['user_id']\n",
    "    artist = row['artist_id']\n",
    "    \n",
    "    # Keep only interesting users and artists\n",
    "    if (user in users_filtered) and (artist in artists_filtered):\n",
    "        \n",
    "        data[(artist2id[artist], user2id[user])] = row['plays']"
   ]
  },
  {
   "cell_type": "code",
   "execution_count": 13,
   "metadata": {},
   "outputs": [],
   "source": [
    "# store it in the sparse matrix\n",
    "dict.update(S, data)\n",
    "S = S.tocsr()\n",
    "\n",
    "# free the memory\n",
    "data = {}\n",
    "del data"
   ]
  },
  {
   "cell_type": "markdown",
   "metadata": {},
   "source": [
    "By using thresholds on both users and artists, some artists have have been played by only few users and vice versa. In order to fulfill the thresholds, we will use independent matrix for artist and user embeddings."
   ]
  },
  {
   "cell_type": "markdown",
   "metadata": {},
   "source": [
    "## Artist matrix plays"
   ]
  },
  {
   "cell_type": "code",
   "execution_count": 14,
   "metadata": {},
   "outputs": [],
   "source": [
    "artists_to_keep = []\n",
    "artist2id_am = {}\n",
    "id2artist_am = {}\n",
    "user2id_am = user2id\n",
    "id2user_am = id2user\n",
    "\n",
    "counts_per_artist = S.getnnz(axis = 1)\n",
    "\n",
    "counter_artist_idx = 0\n",
    "for idx, counts in enumerate(counts_per_artist):\n",
    "    if counts >= T4:\n",
    "        artists_to_keep.append(idx)\n",
    "        id2artist_am[counter_artist_idx] = id2artist[idx]\n",
    "        counter_artist_idx += 1\n",
    "        \n",
    "matrix_plays_am = S[artists_to_keep]\n",
    "\n",
    "for (k, v) in id2artist_am.items():\n",
    "    artist2id_am[v] = k"
   ]
  },
  {
   "cell_type": "code",
   "execution_count": 15,
   "metadata": {},
   "outputs": [],
   "source": [
    "save_to_pickle(user2id_am, 'user2id_am', '../data/artist_embeddings/')\n",
    "save_to_pickle(id2user_am, 'id2user_am', '../data/artist_embeddings/')\n",
    "\n",
    "save_to_pickle(artist2id_am, 'artist2id_am', '../data/artist_embeddings/')\n",
    "save_to_pickle(id2artist_am, 'id2artist_am', '../data/artist_embeddings/')\n",
    "\n",
    "scipy.sparse.save_npz('../data/artist_embeddings/matrix_plays_am.npz', matrix_plays_am)"
   ]
  },
  {
   "cell_type": "markdown",
   "metadata": {},
   "source": [
    "## User matrix plays"
   ]
  },
  {
   "cell_type": "code",
   "execution_count": 16,
   "metadata": {},
   "outputs": [],
   "source": [
    "users_to_keep = []\n",
    "artist2id_um = artist2id\n",
    "id2artist_um = id2artist\n",
    "user2id_um = {}\n",
    "id2user_um = {}\n",
    "\n",
    "\n",
    "counts_per_user = (S.T).getnnz(axis = 1)\n",
    "\n",
    "counter_user_idx = 0\n",
    "for idx, counts in enumerate(counts_per_user):\n",
    "    if counts >= T2:\n",
    "        users_to_keep.append(idx)\n",
    "        id2user_um[counter_user_idx] = id2user[idx]\n",
    "        counter_user_idx += 1\n",
    "        \n",
    "matrix_plays_um = S.T[users_to_keep]\n",
    "\n",
    "for k, v in id2user_um.items():\n",
    "    user2id_um[v] = k"
   ]
  },
  {
   "cell_type": "code",
   "execution_count": 17,
   "metadata": {},
   "outputs": [],
   "source": [
    "save_to_pickle(user2id_um, 'user2id_um', '../data/user_embeddings/')\n",
    "save_to_pickle(id2user_um, 'id2user_um', '../data/user_embeddings/')\n",
    "\n",
    "save_to_pickle(artist2id_um, 'artist2id_um', '../data/user_embeddings/')\n",
    "save_to_pickle(id2artist_um, 'id2artist_um', '../data/user_embeddings/')\n",
    "\n",
    "scipy.sparse.save_npz('../data/user_embeddings/matrix_plays_um.npz', matrix_plays_um)"
   ]
  },
  {
   "cell_type": "markdown",
   "metadata": {},
   "source": [
    "## Compute random user jumper and user jumper for the artist embedding"
   ]
  },
  {
   "cell_type": "code",
   "execution_count": 18,
   "metadata": {},
   "outputs": [],
   "source": [
    "NB_SAMPLE = 5000"
   ]
  },
  {
   "cell_type": "code",
   "execution_count": 19,
   "metadata": {},
   "outputs": [],
   "source": [
    "'''\n",
    "Random user jumper: Selects pair of random artists.\n",
    "'''\n",
    "\n",
    "selected_artists = np.random.choice(np.arange(matrix_plays_am.shape[0]), size = (NB_SAMPLE, 2), replace=False)\n",
    "artists_tuples = []\n",
    "for tup in selected_artists:\n",
    "    artists_tuples.append((tup[0], tup[1]))\n",
    "save_to_pickle(artists_tuples, 'random_user_jumper_tuples', '../data/artist_embeddings/')"
   ]
  },
  {
   "cell_type": "code",
   "execution_count": 20,
   "metadata": {},
   "outputs": [],
   "source": [
    "'''\n",
    "User jumper: Select NB_SAMPLE users from the set of users and for each user selected, we select 2 artists\n",
    "'''\n",
    "\n",
    "selected_users = list(set(np.random.randint(matrix_plays_am.shape[1] - 1, size=int(2*NB_SAMPLE))))\n",
    "\n",
    "matrix_plays_am_filter = matrix_plays_am[:, selected_users]\n",
    "\n",
    "# Create and store artists tuples\n",
    "artists_tuples = []\n",
    "for i in range(matrix_plays_am_filter.shape[1]):\n",
    "    idx = matrix_plays_am_filter[:, i].nonzero()[0]\n",
    "    \n",
    "    if len(idx) >= 2:\n",
    "        selected_artists = np.random.choice(idx, 2, replace=False)\n",
    "        artists_tuples.append((selected_artists[0], selected_artists[1]))\n",
    "    if len(artists_tuples) >= NB_SAMPLE:\n",
    "        break\n",
    "    \n",
    "save_to_pickle(artists_tuples, 'user_jumper_tuples', '../data/artist_embeddings/')"
   ]
  },
  {
   "cell_type": "markdown",
   "metadata": {},
   "source": [
    "## Compute random artist jumper and artist jumper for the user embedding"
   ]
  },
  {
   "cell_type": "code",
   "execution_count": 21,
   "metadata": {},
   "outputs": [],
   "source": [
    "'''\n",
    "Random artist jumper: Selects pair of random users.\n",
    "'''\n",
    "selected_users = np.random.choice(np.arange(matrix_plays_um.shape[0]), size = (NB_SAMPLE, 2), replace=False)\n",
    "users_tuples = []\n",
    "for tup in selected_users:\n",
    "    users_tuples.append((tup[0], tup[1]))\n",
    "save_to_pickle(users_tuples, 'random_artist_jumper_tuples', '../data/user_embeddings/')"
   ]
  },
  {
   "cell_type": "code",
   "execution_count": 22,
   "metadata": {},
   "outputs": [],
   "source": [
    "'''\n",
    "Artist jumper: Select NB_SAMPLE artists from the set of users and for each artist selected, we select 2 users.\n",
    "'''\n",
    "\n",
    "selected_artists = list(set(np.random.randint(matrix_plays_um.shape[1] - 1, size=int(2*NB_SAMPLE))))\n",
    "\n",
    "matrix_plays_um_filter = matrix_plays_um[:, selected_artists]\n",
    "\n",
    "# Create and store artists tuples\n",
    "users_tuples = []\n",
    "for i in range(matrix_plays_um_filter.shape[1]):\n",
    "    idx = matrix_plays_um_filter[:, i].nonzero()[0]\n",
    "    if len(idx) >= 2:\n",
    "        selected_users = np.random.choice(idx, 2, replace=False)\n",
    "        users_tuples.append((selected_users[0], selected_users[1]))\n",
    "    if len(users_tuples) >= NB_SAMPLE:\n",
    "        break\n",
    "    \n",
    "save_to_pickle(users_tuples, 'artist_jumper_tuples', '../data/user_embeddings/')"
   ]
  },
  {
   "cell_type": "code",
   "execution_count": null,
   "metadata": {},
   "outputs": [],
   "source": []
  }
 ],
 "metadata": {
  "kernelspec": {
   "display_name": "Python 3",
   "language": "python",
   "name": "python3"
  },
  "language_info": {
   "codemirror_mode": {
    "name": "ipython",
    "version": 3
   },
   "file_extension": ".py",
   "mimetype": "text/x-python",
   "name": "python",
   "nbconvert_exporter": "python",
   "pygments_lexer": "ipython3",
   "version": "3.7.6"
  }
 },
 "nbformat": 4,
 "nbformat_minor": 5
}
