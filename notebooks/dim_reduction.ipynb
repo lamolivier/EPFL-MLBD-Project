{
 "cells": [
  {
   "cell_type": "markdown",
   "metadata": {},
   "source": [
    "## Imports"
   ]
  },
  {
   "cell_type": "code",
   "execution_count": 2,
   "metadata": {},
   "outputs": [],
   "source": [
    "import scipy.sparse\n",
    "import numpy as np\n",
    "\n",
    "from fbpca import pca"
   ]
  },
  {
   "cell_type": "markdown",
   "metadata": {},
   "source": [
    "## Load embedding matrices"
   ]
  },
  {
   "cell_type": "code",
   "execution_count": 3,
   "metadata": {},
   "outputs": [],
   "source": [
    "user_embedding = scipy.sparse.load_npz('../data/users_embedding.npz')\n",
    "artist_embedding = scipy.sparse.load_npz('../data/artists_embedding.npz')"
   ]
  },
  {
   "cell_type": "code",
   "execution_count": 5,
   "metadata": {},
   "outputs": [
    {
     "data": {
      "text/plain": [
       "<355189x60938 sparse matrix of type '<class 'numpy.float64'>'\n",
       "\twith 16860953 stored elements in Compressed Sparse Row format>"
      ]
     },
     "execution_count": 5,
     "metadata": {},
     "output_type": "execute_result"
    }
   ],
   "source": [
    "user_embedding"
   ]
  },
  {
   "cell_type": "code",
   "execution_count": 6,
   "metadata": {},
   "outputs": [
    {
     "data": {
      "text/plain": [
       "<60938x355189 sparse matrix of type '<class 'numpy.float64'>'\n",
       "\twith 16860953 stored elements in Compressed Sparse Row format>"
      ]
     },
     "execution_count": 6,
     "metadata": {},
     "output_type": "execute_result"
    }
   ],
   "source": [
    "artist_embedding"
   ]
  },
  {
   "cell_type": "markdown",
   "metadata": {},
   "source": [
    "# Dimentionality Reduction"
   ]
  },
  {
   "cell_type": "code",
   "execution_count": null,
   "metadata": {},
   "outputs": [],
   "source": [
    "dir_1 = '/dlabdata1/youtube_large/jouven/channel_embedding/channels_more_10k/bipartite_matrix/'\n",
    "check_directory(dir_1)\n",
    "(graph_reduced, s, Va) = pca(graph_sparse_matrix, raw = False, k=200, n_iter = 1)\n",
    "# Save the array into npz format\n",
    "np.savez_compressed('/dlabdata1/youtube_large/jouven/channel_embedding/channels_more_10k/bipartite_matrix/fpca_'+ str(200) +'.npz', graph_reduced)"
   ]
  }
 ],
 "metadata": {
  "kernelspec": {
   "display_name": "Python 3",
   "language": "python",
   "name": "python3"
  },
  "language_info": {
   "codemirror_mode": {
    "name": "ipython",
    "version": 3
   },
   "file_extension": ".py",
   "mimetype": "text/x-python",
   "name": "python",
   "nbconvert_exporter": "python",
   "pygments_lexer": "ipython3",
   "version": "3.8.5"
  }
 },
 "nbformat": 4,
 "nbformat_minor": 5
}
