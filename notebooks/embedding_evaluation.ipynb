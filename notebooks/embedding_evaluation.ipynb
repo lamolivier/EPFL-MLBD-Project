{
 "cells": [
  {
   "cell_type": "code",
   "execution_count": 1,
   "id": "dense-cinema",
   "metadata": {},
   "outputs": [],
   "source": [
    "import pickle\n",
    "import glob\n",
    "\n",
    "import pandas as pd\n",
    "import numpy as np\n",
    "\n",
    "from helper_functions import *\n",
    "from annoy import AnnoyIndex\n",
    "from scipy.spatial import distance"
   ]
  },
  {
   "cell_type": "code",
   "execution_count": 12,
   "id": "domestic-translator",
   "metadata": {},
   "outputs": [],
   "source": [
    "'''\n",
    "Create a Pandas DataFrame from the embedding\n",
    "PARAMETERS:\n",
    "    - model_path: Path where the embedding is stoed\n",
    "RETURN:\n",
    "    - df: Pandas DataFrame\n",
    "'''\n",
    "def get_dataframe_in_embedding_space(model_path):\n",
    "    graph_matrix = load_pickle(model_path)\n",
    "    df = pd.DataFrame(graph_matrix)\n",
    "    df = df.rename(lambda x: 'd_'+str(x), axis='columns')\n",
    "    return df\n",
    "\n",
    "'''\n",
    "Build the Annoy index in order to compute afterwords the nearest neighbors\n",
    "PARAMETERS:\n",
    "    - df: DataFrame representing the embedding space\n",
    "RETURN:\n",
    "    - The annoy index\n",
    "'''\n",
    "def get_annoy_index(df):\n",
    "    nb_trees = 100\n",
    "    index = AnnoyIndex(df.shape[1], \"euclidean\")  # Length of item vector that will be indexed\n",
    "    df.apply(lambda row: index.add_item(row.name, np.array(row)), axis = 1)\n",
    "    index.build(nb_trees) # 100 trees\n",
    "    return index\n",
    "\n",
    "\n",
    "'''\n",
    "Get the random walk distance computed from the random_walk_channels pairs. The random walk distance is the sum of the euclidean distance between the pairs of random_walk_channels.\n",
    "PARAMETERS:\n",
    "    - df_embedding: DataFrame representing the channels in the embedding space\n",
    "    - embedding_type: Our project contains 2 embeddings, a user embedding and a artist embedding\n",
    "RETURN:\n",
    "    - random_walk_distance: The distance of the random walk\n",
    "'''\n",
    "def get_random_walk(df_embedding, embedding_type):\n",
    "    if embedding_type == 'users':\n",
    "        random_walk_channels = load_pickle('../data/random_users_tuples.pickle')\n",
    "    else:\n",
    "        random_walk_channels = load_pickle('../data/random_artists_tuples.pickle')\n",
    "        \n",
    "    random_walk_distance = 0\n",
    "    for val in random_walk_channels:\n",
    "        random_walk_distance += distance.euclidean(df_embedding.iloc[val[0]], df_embedding.iloc[val[1]])\n",
    "    return random_walk_distance\n",
    "\n",
    "\n",
    "\n",
    "'''\n",
    "Get the position of ref_channel relative to second_channel in terms of its nearest neighbors ranking.\n",
    "PARAMETER:\n",
    "    - ref_channel: The reference channel on which we compute the k nearest neighbors\n",
    "    - second_channel: The channel on which we compute the ranking relatively to ref_channel\n",
    "    - index: Annoy index to compute the neirest neighbors\n",
    "    - df_embedding: DataFrame representing the channels in the embedding space\n",
    "RETURN: \n",
    "    - The position of second_channel relatively to ref_channel in terms of it's ranking\n",
    "'''\n",
    "def get_ranking_position_between_channels(ref_channel, second_channel, index, df_embedding):\n",
    "    nearest_neighbors_index = index.get_nns_by_item(ref_channel, len(df_embedding))\n",
    "    dist_k_th_nearest = distance.euclidean(df_embedding.iloc[ref_channel], \n",
    "                                           df_embedding.iloc[nearest_neighbors_index[len(nearest_neighbors_index)-1]])\n",
    "    for i in range(0, len(nearest_neighbors_index)):\n",
    "        if nearest_neighbors_index[i] == second_channel:\n",
    "            return i\n",
    "        \n",
    "        \n",
    "        \n",
    "        \n",
    "'''\n",
    "Compute the Jumper ratio as well as the position ratio.\n",
    "PARAMETER:\n",
    "    - files: List of path where are stored the embedding\n",
    "    - channels_tuple: The pairs of channels corresponding to the user jumper channel pairs\n",
    "RETURN: \n",
    "    - user_jumper_tab: List of Jumper ratio corresponding the embedding contained in files\n",
    "    - ranking_position_tab: List of Position ratio corresponding the embedding contained in files\n",
    "'''\n",
    "def get_user_walk_and_position_ratio(files, embedding_type, save_path):\n",
    "    \n",
    "    if embedding_type == 'users':\n",
    "        channels_tuple = load_pickle('../data/users_tuples_artist_walk.pickle')\n",
    "    else:\n",
    "         channels_tuple = load_pickle('../data/artists_tuples_user_walk.pickle')\n",
    "    \n",
    "    len_random_set = len(channels_tuple)\n",
    "    \n",
    "    user_jumper_tab = []\n",
    "    ranking_position_tab = []\n",
    "\n",
    "    for file in files:     \n",
    "        print('file ', file)                  \n",
    "        df_embedding = get_dataframe_in_embedding_space(file)\n",
    "        n_comp = df_embedding.shape[1]\n",
    "        print('n_comp ', n_comp)\n",
    "        random_walk_distance = get_random_walk(df_embedding, embedding_type)\n",
    "        index = get_annoy_index(df_embedding)\n",
    "        users_walk = 0\n",
    "        ranking_position = 0\n",
    "        \n",
    "        for ind, channel in enumerate(channels_tuple):\n",
    "            ref_channel = channel[0]\n",
    "            second_channel = channel[1]\n",
    "            # For every pair sum the users_walk and the ranking_position results\n",
    "            users_walk += distance.euclidean(df_embedding.iloc[ref_channel], df_embedding.iloc[second_channel])\n",
    "            ranking_position += get_ranking_position_between_channels(ref_channel, second_channel, index, df_embedding)\n",
    "\n",
    "        user_jumper_tab.append(users_walk / random_walk_distance)\n",
    "        ranking_position_tab.append(ranking_position / (df_embedding.shape[0]*len_random_set))\n",
    "        \n",
    "    save_to_pickle(user_jumper_tab, 'user_jumper_tab', save_path)\n",
    "    save_to_pickle(ranking_position_tab, 'user_ranking_position_tab', save_path)\n",
    "        \n",
    "    return user_jumper_tab, ranking_position_tab\n",
    "    "
   ]
  },
  {
   "cell_type": "code",
   "execution_count": 13,
   "id": "roman-mexico",
   "metadata": {},
   "outputs": [
    {
     "name": "stdout",
     "output_type": "stream",
     "text": [
      "file  ../data/user_embeddings/user_embedding_transformed_pca100.pickle\n",
      "n_comp  100\n",
      "file  ../data/user_embeddings/user_embedding_transformed_pca200.pickle\n",
      "n_comp  200\n"
     ]
    },
    {
     "ename": "KeyboardInterrupt",
     "evalue": "",
     "output_type": "error",
     "traceback": [
      "\u001b[0;31m---------------------------------------------------------------------------\u001b[0m",
      "\u001b[0;31mKeyboardInterrupt\u001b[0m                         Traceback (most recent call last)",
      "\u001b[0;32m<ipython-input-13-183888f603ee>\u001b[0m in \u001b[0;36m<module>\u001b[0;34m\u001b[0m\n\u001b[1;32m      1\u001b[0m \u001b[0muser_files\u001b[0m \u001b[0;34m=\u001b[0m \u001b[0mglob\u001b[0m\u001b[0;34m.\u001b[0m\u001b[0mglob\u001b[0m\u001b[0;34m(\u001b[0m\u001b[0;34m\"../data/user_embeddings/*.pickle\"\u001b[0m\u001b[0;34m)\u001b[0m\u001b[0;34m\u001b[0m\u001b[0;34m\u001b[0m\u001b[0m\n\u001b[0;32m----> 2\u001b[0;31m \u001b[0muser_jumper_tab\u001b[0m\u001b[0;34m,\u001b[0m \u001b[0muser_ranking_position_tab\u001b[0m \u001b[0;34m=\u001b[0m \u001b[0mget_user_walk_and_position_ratio\u001b[0m\u001b[0;34m(\u001b[0m\u001b[0muser_files\u001b[0m\u001b[0;34m,\u001b[0m \u001b[0;34m'users'\u001b[0m\u001b[0;34m,\u001b[0m \u001b[0;34m'../data/user_embeddings/'\u001b[0m\u001b[0;34m)\u001b[0m\u001b[0;34m\u001b[0m\u001b[0;34m\u001b[0m\u001b[0m\n\u001b[0m",
      "\u001b[0;32m<ipython-input-12-067a3fe2f43c>\u001b[0m in \u001b[0;36mget_user_walk_and_position_ratio\u001b[0;34m(files, embedding_type, save_path)\u001b[0m\n\u001b[1;32m    113\u001b[0m             \u001b[0;31m# For every pair sum the users_walk and the ranking_position results\u001b[0m\u001b[0;34m\u001b[0m\u001b[0;34m\u001b[0m\u001b[0;34m\u001b[0m\u001b[0m\n\u001b[1;32m    114\u001b[0m             \u001b[0musers_walk\u001b[0m \u001b[0;34m+=\u001b[0m \u001b[0mdistance\u001b[0m\u001b[0;34m.\u001b[0m\u001b[0meuclidean\u001b[0m\u001b[0;34m(\u001b[0m\u001b[0mdf_embedding\u001b[0m\u001b[0;34m.\u001b[0m\u001b[0miloc\u001b[0m\u001b[0;34m[\u001b[0m\u001b[0mref_channel\u001b[0m\u001b[0;34m]\u001b[0m\u001b[0;34m,\u001b[0m \u001b[0mdf_embedding\u001b[0m\u001b[0;34m.\u001b[0m\u001b[0miloc\u001b[0m\u001b[0;34m[\u001b[0m\u001b[0msecond_channel\u001b[0m\u001b[0;34m]\u001b[0m\u001b[0;34m)\u001b[0m\u001b[0;34m\u001b[0m\u001b[0;34m\u001b[0m\u001b[0m\n\u001b[0;32m--> 115\u001b[0;31m             \u001b[0mranking_position\u001b[0m \u001b[0;34m+=\u001b[0m \u001b[0mget_ranking_position_between_channels\u001b[0m\u001b[0;34m(\u001b[0m\u001b[0mref_channel\u001b[0m\u001b[0;34m,\u001b[0m \u001b[0msecond_channel\u001b[0m\u001b[0;34m,\u001b[0m \u001b[0mindex\u001b[0m\u001b[0;34m,\u001b[0m \u001b[0mdf_embedding\u001b[0m\u001b[0;34m)\u001b[0m\u001b[0;34m\u001b[0m\u001b[0;34m\u001b[0m\u001b[0m\n\u001b[0m\u001b[1;32m    116\u001b[0m \u001b[0;34m\u001b[0m\u001b[0m\n\u001b[1;32m    117\u001b[0m         \u001b[0muser_jumper_tab\u001b[0m\u001b[0;34m.\u001b[0m\u001b[0mappend\u001b[0m\u001b[0;34m(\u001b[0m\u001b[0musers_walk\u001b[0m \u001b[0;34m/\u001b[0m \u001b[0mrandom_walk_distance\u001b[0m\u001b[0;34m)\u001b[0m\u001b[0;34m\u001b[0m\u001b[0;34m\u001b[0m\u001b[0m\n",
      "\u001b[0;32m<ipython-input-12-067a3fe2f43c>\u001b[0m in \u001b[0;36mget_ranking_position_between_channels\u001b[0;34m(ref_channel, second_channel, index, df_embedding)\u001b[0m\n\u001b[1;32m     67\u001b[0m '''\n\u001b[1;32m     68\u001b[0m \u001b[0;32mdef\u001b[0m \u001b[0mget_ranking_position_between_channels\u001b[0m\u001b[0;34m(\u001b[0m\u001b[0mref_channel\u001b[0m\u001b[0;34m,\u001b[0m \u001b[0msecond_channel\u001b[0m\u001b[0;34m,\u001b[0m \u001b[0mindex\u001b[0m\u001b[0;34m,\u001b[0m \u001b[0mdf_embedding\u001b[0m\u001b[0;34m)\u001b[0m\u001b[0;34m:\u001b[0m\u001b[0;34m\u001b[0m\u001b[0;34m\u001b[0m\u001b[0m\n\u001b[0;32m---> 69\u001b[0;31m     \u001b[0mnearest_neighbors_index\u001b[0m \u001b[0;34m=\u001b[0m \u001b[0mindex\u001b[0m\u001b[0;34m.\u001b[0m\u001b[0mget_nns_by_item\u001b[0m\u001b[0;34m(\u001b[0m\u001b[0mref_channel\u001b[0m\u001b[0;34m,\u001b[0m \u001b[0mlen\u001b[0m\u001b[0;34m(\u001b[0m\u001b[0mdf_embedding\u001b[0m\u001b[0;34m)\u001b[0m\u001b[0;34m)\u001b[0m\u001b[0;34m\u001b[0m\u001b[0;34m\u001b[0m\u001b[0m\n\u001b[0m\u001b[1;32m     70\u001b[0m     dist_k_th_nearest = distance.euclidean(df_embedding.iloc[ref_channel], \n\u001b[1;32m     71\u001b[0m                                            df_embedding.iloc[nearest_neighbors_index[len(nearest_neighbors_index)-1]])\n",
      "\u001b[0;31mKeyboardInterrupt\u001b[0m: "
     ]
    }
   ],
   "source": [
    "user_files = glob.glob(\"../data/user_embeddings/*.pickle\")\n",
    "user_jumper_tab, user_ranking_position_tab = get_user_walk_and_position_ratio(user_files, 'users', '../data/user_embeddings/')"
   ]
  },
  {
   "cell_type": "code",
   "execution_count": null,
   "id": "lasting-eagle",
   "metadata": {},
   "outputs": [],
   "source": [
    "artist_files = glob.glob(\"../data/artist_embeddings/*.pickle\")\n",
    "artist_jumper_tab, artist_ranking_position_tab = get_user_walk_and_position_ratio(artist_files, 'artists', '../data/artist_embeddings/')"
   ]
  },
  {
   "cell_type": "code",
   "execution_count": 7,
   "id": "included-street",
   "metadata": {},
   "outputs": [
    {
     "data": {
      "text/plain": [
       "[0.8802545346905915,\n",
       " 0.9117009061461726,\n",
       " 0.9342720251387152,\n",
       " 0.7645890741687803,\n",
       " 0.8161118158661519,\n",
       " 0.8389139952430437]"
      ]
     },
     "execution_count": 7,
     "metadata": {},
     "output_type": "execute_result"
    }
   ],
   "source": [
    "user_jumper_tab"
   ]
  },
  {
   "cell_type": "code",
   "execution_count": 8,
   "id": "funny-kitchen",
   "metadata": {},
   "outputs": [
    {
     "data": {
      "text/plain": [
       "[0.29570588616201515,\n",
       " 0.32108627800973566,\n",
       " 0.33904781398072575,\n",
       " 0.2262154909076576,\n",
       " 0.2534895337411913,\n",
       " 0.2661860812131006]"
      ]
     },
     "execution_count": 8,
     "metadata": {},
     "output_type": "execute_result"
    }
   ],
   "source": [
    "user_ranking_position_tab"
   ]
  },
  {
   "cell_type": "code",
   "execution_count": 9,
   "id": "seven-briefs",
   "metadata": {},
   "outputs": [
    {
     "data": {
      "text/plain": [
       "[0.11762417644235337,\n",
       " 0.11864663748741885,\n",
       " 0.12090121307717669,\n",
       " 0.10096131499168012,\n",
       " 0.10482059826160789,\n",
       " 0.10976425009713582]"
      ]
     },
     "execution_count": 9,
     "metadata": {},
     "output_type": "execute_result"
    }
   ],
   "source": [
    "artist_jumper_tab"
   ]
  },
  {
   "cell_type": "code",
   "execution_count": 10,
   "id": "alleged-option",
   "metadata": {},
   "outputs": [
    {
     "data": {
      "text/plain": [
       "[0.07904092684367718,\n",
       " 0.07633384751714857,\n",
       " 0.0751011848107913,\n",
       " 0.13934444845580754,\n",
       " 0.1158905444878401,\n",
       " 0.10788427582132659]"
      ]
     },
     "execution_count": 10,
     "metadata": {},
     "output_type": "execute_result"
    }
   ],
   "source": [
    "artist_ranking_position_tab"
   ]
  },
  {
   "cell_type": "code",
   "execution_count": null,
   "id": "coated-halloween",
   "metadata": {},
   "outputs": [],
   "source": []
  }
 ],
 "metadata": {
  "kernelspec": {
   "display_name": "Python 3",
   "language": "python",
   "name": "python3"
  },
  "language_info": {
   "codemirror_mode": {
    "name": "ipython",
    "version": 3
   },
   "file_extension": ".py",
   "mimetype": "text/x-python",
   "name": "python",
   "nbconvert_exporter": "python",
   "pygments_lexer": "ipython3",
   "version": "3.6.9"
  }
 },
 "nbformat": 4,
 "nbformat_minor": 5
}
