{
 "cells": [
  {
   "cell_type": "code",
   "execution_count": 46,
   "metadata": {},
   "outputs": [],
   "source": [
    "import pickle\n",
    "import glob\n",
    "import os\n",
    "\n",
    "import pandas as pd\n",
    "import numpy as np\n",
    "\n",
    "from helper_functions import *\n",
    "from annoy import AnnoyIndex\n",
    "from scipy.spatial import distance"
   ]
  },
  {
   "cell_type": "markdown",
   "metadata": {},
   "source": [
    "# Compute tuples or artists and users"
   ]
  },
  {
   "cell_type": "markdown",
   "metadata": {},
   "source": [
    "## Compute random user jumper and user jumper for the artist embedding"
   ]
  },
  {
   "cell_type": "code",
   "execution_count": 115,
   "metadata": {},
   "outputs": [],
   "source": [
    "NB_SAMPLE = 3000"
   ]
  },
  {
   "cell_type": "code",
   "execution_count": 116,
   "metadata": {},
   "outputs": [],
   "source": [
    "'''\n",
    "Random user jumper: Selects pair of random artists.\n",
    "'''\n",
    "\n",
    "selected_artists = np.random.choice(np.arange(S.shape[0]), size = (NB_SAMPLE, 2), replace=False)\n",
    "artists_tuples = []\n",
    "for tup in selected_artists:\n",
    "    artists_tuples.append((tup[0], tup[1]))\n",
    "save_to_pickle(artists_tuples, 'random_user_jumper_tuples', '../data/artist_embeddings/')"
   ]
  },
  {
   "cell_type": "code",
   "execution_count": 117,
   "metadata": {},
   "outputs": [],
   "source": [
    "'''\n",
    "User jumper: Select NB_SAMPLE users from the set of users and for each user selected, we select 2 artists\n",
    "'''\n",
    "\n",
    "selected_users = list(set(np.random.randint(S.shape[1] - 1, size=int(2*NB_SAMPLE))))\n",
    "\n",
    "S_filter = S[:, selected_users]\n",
    "\n",
    "# Create and store artists tuples\n",
    "artists_tuples = []\n",
    "for i in range(S_filter.shape[1]):\n",
    "    idx = S_filter[:, i].nonzero()[0]\n",
    "\n",
    "    if len(artists_tuples) >= NB_SAMPLE:\n",
    "        break\n",
    "    \n",
    "save_to_pickle(artists_tuples, 'user_jumper_tuples', '../data/artist_embeddings/')"
   ]
  },
  {
   "cell_type": "markdown",
   "metadata": {},
   "source": [
    "## Compute random artist jumper and artist jumper for the user embedding"
   ]
  },
  {
   "cell_type": "code",
   "execution_count": 118,
   "metadata": {},
   "outputs": [],
   "source": [
    "'''\n",
    "Random artist jumper: Selects pair of random users.\n",
    "'''\n",
    "S2 = S.T\n",
    "selected_users = np.random.choice(np.arange(S2.shape[0]), size = (NB_SAMPLE, 2), replace=False)\n",
    "users_tuples = []\n",
    "for tup in selected_users:\n",
    "    users_tuples.append((tup[0], tup[1]))\n",
    "save_to_pickle(users_tuples, 'random_artist_jumper_tuples', '../data/user_embeddings/')"
   ]
  },
  {
   "cell_type": "code",
   "execution_count": 119,
   "metadata": {},
   "outputs": [],
   "source": [
    "'''\n",
    "Artist jumper: Select NB_SAMPLE artists from the set of users and for each artist selected, we select 2 users.\n",
    "'''\n",
    "\n",
    "selected_artists = list(set(np.random.randint(S2.shape[1] - 1, size=int(2*NB_SAMPLE))))\n",
    "\n",
    "S2_filter = S2[:, selected_artists]\n",
    "\n",
    "# Create and store artists tuples\n",
    "users_tuples = []\n",
    "for i in range(S2_filter.shape[1]):\n",
    "    idx = S2_filter[:, i].nonzero()[0]\n",
    "    if len(idx) >= 2:\n",
    "        selected_users = np.random.choice(idx, 2, replace=False)\n",
    "        users_tuples.append((selected_users[0], selected_users[1]))\n",
    "    if len(users_tuples) >= NB_SAMPLE:\n",
    "        break\n",
    "    \n",
    "save_to_pickle(users_tuples, 'artist_jumper_tuples', '../data/user_embeddings/')"
   ]
  },
  {
   "cell_type": "markdown",
   "metadata": {},
   "source": [
    "# Compute embedding metrics"
   ]
  },
  {
   "cell_type": "code",
   "execution_count": 58,
   "metadata": {},
   "outputs": [],
   "source": [
    "'''\n",
    "Create a Pandas DataFrame from the embedding\n",
    "PARAMETERS:\n",
    "    - model_path: Path where the embedding is stoed\n",
    "RETURN:\n",
    "    - df: Pandas DataFrame\n",
    "'''\n",
    "def get_dataframe_in_embedding_space(model_path):\n",
    "    graph_matrix = load_pickle(model_path)\n",
    "    df = pd.DataFrame(graph_matrix)\n",
    "    df = df.rename(lambda x: 'd_'+ str(x), axis='columns')\n",
    "    return df\n",
    "\n",
    "'''\n",
    "Build the Annoy index in order to compute afterwords the nearest neighbors\n",
    "PARAMETERS:\n",
    "    - df: DataFrame representing the embedding space\n",
    "RETURN:\n",
    "    - The annoy index\n",
    "'''\n",
    "def get_annoy_index(df):\n",
    "    nb_trees = 100\n",
    "    index = AnnoyIndex(df.shape[1], \"euclidean\")  # Length of item vector that will be indexed\n",
    "    df.apply(lambda row: index.add_item(row.name, np.array(row)), axis = 1)\n",
    "    index.build(nb_trees) # 100 trees\n",
    "    return index\n",
    "\n",
    "\n",
    "'''\n",
    "Get the random walk distance computed from the random_walk_channels pairs. The random walk distance is the sum of the euclidean distance between the pairs of random_walk_channels.\n",
    "PARAMETERS:\n",
    "    - df_embedding: DataFrame representing the channels in the embedding space\n",
    "    - embedding_type: Our project contains 2 embeddings, a user embedding and a artist embedding\n",
    "RETURN:\n",
    "    - random_walk_distance: The distance of the random walk\n",
    "'''\n",
    "def get_random_walk(df_embedding, embedding_type, path):\n",
    "    if embedding_type == 'users':\n",
    "        random_walk_channels = load_pickle(path + 'random_artist_jumper_tuples.pickle')\n",
    "    elif embedding_type == 'artists':\n",
    "        random_walk_channels = load_pickle(path + 'random_user_jumper_tuples.pickle')\n",
    "        \n",
    "    random_walk_distance = 0\n",
    "    for val in random_walk_channels:\n",
    "        random_walk_distance += distance.euclidean(df_embedding.iloc[val[0]], df_embedding.iloc[val[1]])\n",
    "    return random_walk_distance\n",
    "\n",
    "\n",
    "\n",
    "'''\n",
    "Get the position of ref_channel relative to second_channel in terms of its nearest neighbors ranking.\n",
    "PARAMETER:\n",
    "    - ref_channel: The reference channel on which we compute the k nearest neighbors\n",
    "    - second_channel: The channel on which we compute the ranking relatively to ref_channel\n",
    "    - index: Annoy index to compute the neirest neighbors\n",
    "    - df_embedding: DataFrame representing the channels in the embedding space\n",
    "RETURN: \n",
    "    - The position of second_channel relatively to ref_channel in terms of it's ranking\n",
    "'''\n",
    "def get_ranking_position_between_channels(ref_channel, second_channel, index, df_embedding):\n",
    "    nearest_neighbors_index = index.get_nns_by_item(ref_channel, len(df_embedding))\n",
    "    dist_k_th_nearest = distance.euclidean(df_embedding.iloc[ref_channel], \n",
    "                                           df_embedding.iloc[nearest_neighbors_index[len(nearest_neighbors_index)-1]])\n",
    "    for i in range(0, len(nearest_neighbors_index)):\n",
    "        if nearest_neighbors_index[i] == second_channel:\n",
    "            return i\n",
    "        \n",
    "        \n",
    "        \n",
    "        \n",
    "'''\n",
    "Compute the Jumper ratio as well as the position ratio.\n",
    "PARAMETER:\n",
    "    - files: List of path where are stored the embedding\n",
    "    - channels_tuple: The pairs of channels corresponding to the user jumper channel pairs\n",
    "RETURN: \n",
    "    - user_jumper_tab: List of Jumper ratio corresponding the embedding contained in files\n",
    "    - ranking_position_tab: List of Position ratio corresponding the embedding contained in files\n",
    "'''\n",
    "def get_user_walk_and_position_ratio(files, embedding_type, path):\n",
    "    \n",
    "    if embedding_type == 'users':\n",
    "        channels_tuple = load_pickle(path + 'artist_jumper_tuples.pickle')\n",
    "    elif embedding_type == 'artists':\n",
    "         channels_tuple = load_pickle(path + 'user_jumper_tuples.pickle')\n",
    "    \n",
    "    len_random_set = len(channels_tuple)\n",
    "    \n",
    "    user_jumper_tab = []\n",
    "    ranking_position_tab = []\n",
    "\n",
    "    for file in files:     \n",
    "        print('file ', file)                  \n",
    "        df_embedding = get_dataframe_in_embedding_space(file)\n",
    "        n_comp = df_embedding.shape[1]\n",
    "        print('n_comp ', n_comp)\n",
    "        random_walk_distance = get_random_walk(df_embedding, embedding_type, path)\n",
    "        index = get_annoy_index(df_embedding)\n",
    "        users_walk = 0\n",
    "        ranking_position = 0\n",
    "        \n",
    "        temp_user_jumper_tab = []\n",
    "        temp_ranking_position_tab = []\n",
    "        \n",
    "        for ind, channel in enumerate(channels_tuple):\n",
    "            ref_channel = channel[0]\n",
    "            second_channel = channel[1]\n",
    "            # For every pair sum the users_walk and the ranking_position results\n",
    "            temp_user_jumper_tab.append(distance.euclidean(df_embedding.iloc[ref_channel], df_embedding.iloc[second_channel])/random_walk_distance)\n",
    "            temp_ranking_position_tab.append(get_ranking_position_between_channels(ref_channel, second_channel, index, df_embedding)/(df_embedding.shape[0]*len_random_set))\n",
    "\n",
    "        user_jumper_tab.append(temp_user_jumper_tab)\n",
    "        ranking_position_tab.append(temp_ranking_position_tab)\n",
    "        \n",
    "    save_to_pickle(user_jumper_tab, embedding_type + '_jumper_results', path + 'embedding_reduced/')\n",
    "    save_to_pickle(ranking_position_tab, embedding_type + '_ranking_position_results', path + 'embedding_reduced/')\n",
    "        \n",
    "    return user_jumper_tab, ranking_position_tab\n",
    "    "
   ]
  },
  {
   "cell_type": "code",
   "execution_count": 59,
   "metadata": {},
   "outputs": [
    {
     "name": "stdout",
     "output_type": "stream",
     "text": [
      "file  ../data/user_embeddings/embedding_reduced/user_embedding_norm_transformed_pca100.pickle\n",
      "n_comp  100\n",
      "file  ../data/user_embeddings/embedding_reduced/user_embedding_norm_transformed_pca25.pickle\n",
      "n_comp  25\n",
      "file  ../data/user_embeddings/embedding_reduced/user_embedding_norm_transformed_pca50.pickle\n",
      "n_comp  50\n",
      "file  ../data/user_embeddings/embedding_reduced/user_embedding_transformed_pca100.pickle\n",
      "n_comp  100\n",
      "file  ../data/user_embeddings/embedding_reduced/user_embedding_transformed_pca25.pickle\n",
      "n_comp  25\n",
      "file  ../data/user_embeddings/embedding_reduced/user_embedding_transformed_pca50.pickle\n",
      "n_comp  50\n"
     ]
    }
   ],
   "source": [
    "if os.path.exists(\"../data/user_embeddings/embedding_reduced/users_jumper_results.pickle\"):\n",
    "    os.remove(\"../data/user_embeddings/embedding_reduced/users_jumper_results.pickle\")\n",
    "    \n",
    "if os.path.exists(\"../data/user_embeddings/embedding_reduced/users_ranking_position_results.pickle\"):\n",
    "    os.remove(\"../data/user_embeddings/embedding_reduced/users_ranking_position_results.pickle\")\n",
    "\n",
    "    \n",
    "user_files = glob.glob(\"../data/user_embeddings/embedding_reduced/*.pickle\")\n",
    "user_jumper_tab, user_ranking_position_tab = get_user_walk_and_position_ratio(user_files, 'users', '../data/user_embeddings/')"
   ]
  },
  {
   "cell_type": "code",
   "execution_count": 60,
   "metadata": {},
   "outputs": [
    {
     "name": "stdout",
     "output_type": "stream",
     "text": [
      "file  ../data/artist_embeddings/embedding_reduced/artist_embedding_norm_transformed_pca100.pickle\n",
      "n_comp  100\n",
      "file  ../data/artist_embeddings/embedding_reduced/artist_embedding_norm_transformed_pca25.pickle\n",
      "n_comp  25\n",
      "file  ../data/artist_embeddings/embedding_reduced/artist_embedding_norm_transformed_pca50.pickle\n",
      "n_comp  50\n",
      "file  ../data/artist_embeddings/embedding_reduced/artist_embedding_transformed_pca100.pickle\n",
      "n_comp  100\n",
      "file  ../data/artist_embeddings/embedding_reduced/artist_embedding_transformed_pca25.pickle\n",
      "n_comp  25\n",
      "file  ../data/artist_embeddings/embedding_reduced/artist_embedding_transformed_pca50.pickle\n",
      "n_comp  50\n"
     ]
    }
   ],
   "source": [
    "if os.path.exists(\"../data/user_embeddings/embedding_reduced/artists_jumper_results.pickle\"):\n",
    "    os.remove(\"../data/user_embeddings/embedding_reduced/artists_jumper_results.pickle\")\n",
    "    \n",
    "if os.path.exists(\"../data/user_embeddings/embedding_reduced/artists_ranking_position_results.pickle\"):\n",
    "    os.remove(\"../data/user_embeddings/embedding_reduced/artists_ranking_position_results.pickle\")\n",
    "    \n",
    "artist_files = glob.glob(\"../data/artist_embeddings/embedding_reduced/*.pickle\")\n",
    "artist_jumper_tab, artist_ranking_position_tab = get_user_walk_and_position_ratio(artist_files, 'artists', '../data/artist_embeddings/')"
   ]
  },
  {
   "cell_type": "markdown",
   "metadata": {},
   "source": [
    "## User embedding"
   ]
  },
  {
   "cell_type": "code",
   "execution_count": 62,
   "metadata": {},
   "outputs": [
    {
     "data": {
      "text/plain": [
       "6"
      ]
     },
     "execution_count": 62,
     "metadata": {},
     "output_type": "execute_result"
    }
   ],
   "source": [
    "len(user_jumper_tab)"
   ]
  },
  {
   "cell_type": "code",
   "execution_count": 9,
   "metadata": {},
   "outputs": [
    {
     "data": {
      "text/plain": [
       "[0.30599426539423935,\n",
       " 0.26668201157182664,\n",
       " 0.28762464972728063,\n",
       " 0.267672144734661,\n",
       " 0.21927256150986288,\n",
       " 0.24153307363817914]"
      ]
     },
     "execution_count": 9,
     "metadata": {},
     "output_type": "execute_result"
    }
   ],
   "source": [
    "user_ranking_position_tab"
   ]
  },
  {
   "cell_type": "markdown",
   "metadata": {},
   "source": [
    "## Artist embedding"
   ]
  },
  {
   "cell_type": "code",
   "execution_count": 10,
   "metadata": {},
   "outputs": [
    {
     "data": {
      "text/plain": [
       "[0.27994425186460686,\n",
       " 0.27103268519426194,\n",
       " 0.27767645820374864,\n",
       " 0.2772808688676532,\n",
       " 0.26398939194861554,\n",
       " 0.2744653738416886]"
      ]
     },
     "execution_count": 10,
     "metadata": {},
     "output_type": "execute_result"
    }
   ],
   "source": [
    "artist_jumper_tab"
   ]
  },
  {
   "cell_type": "code",
   "execution_count": 11,
   "metadata": {},
   "outputs": [
    {
     "data": {
      "text/plain": [
       "[0.1578612495751671,\n",
       " 0.1806129017031079,\n",
       " 0.16770055889128055,\n",
       " 0.16007017295419357,\n",
       " 0.1858899305162192,\n",
       " 0.17114596314338582]"
      ]
     },
     "execution_count": 11,
     "metadata": {},
     "output_type": "execute_result"
    }
   ],
   "source": [
    "artist_ranking_position_tab"
   ]
  },
  {
   "cell_type": "code",
   "execution_count": null,
   "metadata": {},
   "outputs": [],
   "source": []
  },
  {
   "cell_type": "markdown",
   "metadata": {},
   "source": [
    "## Compute random user jumper and user jumper for the artist embedding"
   ]
  },
  {
   "cell_type": "code",
   "execution_count": 115,
   "metadata": {},
   "outputs": [],
   "source": [
    "NB_SAMPLE = 3000"
   ]
  },
  {
   "cell_type": "code",
   "execution_count": 116,
   "metadata": {},
   "outputs": [],
   "source": [
    "'''\n",
    "Random user jumper: Selects pair of random artists.\n",
    "'''\n",
    "\n",
    "selected_artists = np.random.choice(np.arange(S.shape[0]), size = (NB_SAMPLE, 2), replace=False)\n",
    "artists_tuples = []\n",
    "for tup in selected_artists:\n",
    "    artists_tuples.append((tup[0], tup[1]))\n",
    "save_to_pickle(artists_tuples, 'random_user_jumper_tuples', '../data/artist_embeddings/')"
   ]
  },
  {
   "cell_type": "code",
   "execution_count": 117,
   "metadata": {},
   "outputs": [],
   "source": [
    "'''\n",
    "User jumper: Select NB_SAMPLE users from the set of users and for each user selected, we select 2 artists\n",
    "'''\n",
    "\n",
    "selected_users = list(set(np.random.randint(S.shape[1] - 1, size=int(2*NB_SAMPLE))))\n",
    "\n",
    "S_filter = S[:, selected_users]\n",
    "\n",
    "# Create and store artists tuples\n",
    "artists_tuples = []\n",
    "for i in range(S_filter.shape[1]):\n",
    "    idx = S_filter[:, i].nonzero()[0]\n",
    "\n",
    "    if len(artists_tuples) >= NB_SAMPLE:\n",
    "        break\n",
    "    \n",
    "save_to_pickle(artists_tuples, 'user_jumper_tuples', '../data/artist_embeddings/')"
   ]
  },
  {
   "cell_type": "markdown",
   "metadata": {},
   "source": [
    "## Compute random artist jumper and artist jumper for the user embedding"
   ]
  },
  {
   "cell_type": "code",
   "execution_count": 118,
   "metadata": {},
   "outputs": [],
   "source": [
    "'''\n",
    "Random artist jumper: Selects pair of random users.\n",
    "'''\n",
    "S2 = S.T\n",
    "selected_users = np.random.choice(np.arange(S2.shape[0]), size = (NB_SAMPLE, 2), replace=False)\n",
    "users_tuples = []\n",
    "for tup in selected_users:\n",
    "    users_tuples.append((tup[0], tup[1]))\n",
    "save_to_pickle(users_tuples, 'random_artist_jumper_tuples', '../data/user_embeddings/')"
   ]
  },
  {
   "cell_type": "code",
   "execution_count": 119,
   "metadata": {},
   "outputs": [],
   "source": [
    "'''\n",
    "Artist jumper: Select NB_SAMPLE artists from the set of users and for each artist selected, we select 2 users.\n",
    "'''\n",
    "\n",
    "selected_artists = list(set(np.random.randint(S2.shape[1] - 1, size=int(2*NB_SAMPLE))))\n",
    "\n",
    "S2_filter = S2[:, selected_artists]\n",
    "\n",
    "# Create and store artists tuples\n",
    "users_tuples = []\n",
    "for i in range(S2_filter.shape[1]):\n",
    "    idx = S2_filter[:, i].nonzero()[0]\n",
    "    if len(idx) >= 2:\n",
    "        selected_users = np.random.choice(idx, 2, replace=False)\n",
    "        users_tuples.append((selected_users[0], selected_users[1]))\n",
    "    if len(users_tuples) >= NB_SAMPLE:\n",
    "        break\n",
    "    \n",
    "save_to_pickle(users_tuples, 'artist_jumper_tuples', '../data/user_embeddings/')"
   ]
  },
  {
   "cell_type": "code",
   "execution_count": null,
   "metadata": {},
   "outputs": [],
   "source": []
  }
 ],
 "metadata": {
  "kernelspec": {
   "display_name": "Python 3",
   "language": "python",
   "name": "python3"
  },
  "language_info": {
   "codemirror_mode": {
    "name": "ipython",
    "version": 3
   },
   "file_extension": ".py",
   "mimetype": "text/x-python",
   "name": "python",
   "nbconvert_exporter": "python",
   "pygments_lexer": "ipython3",
   "version": "3.8.5"
  }
 },
 "nbformat": 4,
 "nbformat_minor": 5
}
