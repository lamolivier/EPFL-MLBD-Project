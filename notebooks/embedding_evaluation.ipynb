{
 "cells": [
  {
   "cell_type": "code",
   "execution_count": 1,
   "id": "collect-reality",
   "metadata": {},
   "outputs": [],
   "source": [
    "import pickle\n",
    "import glob\n",
    "import os\n",
    "import scipy.sparse\n",
    "\n",
    "import pandas as pd\n",
    "import numpy as np\n",
    "import matplotlib.pyplot as plt\n",
    "\n",
    "from helper_functions import *\n",
    "from annoy import AnnoyIndex\n",
    "from scipy.spatial import distance\n",
    "from sklearn.metrics.pairwise import cosine_similarity"
   ]
  },
  {
   "cell_type": "markdown",
   "id": "united-finland",
   "metadata": {},
   "source": [
    "# Compute tuples or artists and users"
   ]
  },
  {
   "cell_type": "code",
   "execution_count": 2,
   "id": "willing-performance",
   "metadata": {},
   "outputs": [],
   "source": [
    "matrix_plays = scipy.sparse.load_npz('../data/matrix_plays.npz')"
   ]
  },
  {
   "cell_type": "code",
   "execution_count": 3,
   "id": "improved-diamond",
   "metadata": {},
   "outputs": [],
   "source": [
    "# Load precomputed data\n",
    "user2id = load_pickle('../data/user2id.pickle')\n",
    "id2user = load_pickle('../data/id2user.pickle')\n",
    "artist2id = load_pickle('../data/artist2id.pickle')\n",
    "id2artist = load_pickle('../data/id2artist.pickle')"
   ]
  },
  {
   "cell_type": "markdown",
   "id": "computational-alfred",
   "metadata": {},
   "source": [
    "## Compute random user jumper and user jumper tuples for the artist embedding"
   ]
  },
  {
   "cell_type": "code",
   "execution_count": 4,
   "id": "preceding-virgin",
   "metadata": {},
   "outputs": [],
   "source": [
    "NB_SAMPLE = 2000"
   ]
  },
  {
   "cell_type": "code",
   "execution_count": 5,
   "id": "liable-madagascar",
   "metadata": {},
   "outputs": [],
   "source": [
    "idx_artists = list(load_pickle('../data/artist_embeddings/word2vec/word2vec_100.pickle')['index'].apply(lambda x: artist2id[x]))\n",
    "idx_users = list(load_pickle('../data/user_embeddings/word2vec/word2vec_100.pickle')['index'].apply(lambda x: user2id[x]))\n"
   ]
  },
  {
   "cell_type": "code",
   "execution_count": 6,
   "id": "capable-hotel",
   "metadata": {},
   "outputs": [],
   "source": [
    "S1 = matrix_plays"
   ]
  },
  {
   "cell_type": "code",
   "execution_count": 7,
   "id": "objective-indication",
   "metadata": {},
   "outputs": [],
   "source": [
    "'''\n",
    "Random user jumper: Selects pair of random artists.\n",
    "'''\n",
    "if not os.path.exists(\"../data/artist_embeddings/random_user_jumper_tuples.pickle\"):\n",
    "    selected_artists = np.random.choice(idx_artists, size = (NB_SAMPLE, 2), replace=False)\n",
    "    artists_tuples = []\n",
    "    for tup in selected_artists:\n",
    "        artists_tuples.append((tup[0], tup[1]))\n",
    "    save_to_pickle(artists_tuples, 'random_user_jumper_tuples', '../data/artist_embeddings/')"
   ]
  },
  {
   "cell_type": "code",
   "execution_count": 8,
   "id": "afraid-anaheim",
   "metadata": {},
   "outputs": [],
   "source": [
    "'''\n",
    "User jumper: Select NB_SAMPLE users from the set of users and for each user selected, we select 2 artists\n",
    "'''\n",
    "if not os.path.exists(\"../data/artist_embeddings/user_jumper_tuples.pickle\"):\n",
    "    selected_users = np.random.choice(range(S1.shape[0]), size = (S1.shape[0]), replace=False)\n",
    "\n",
    "    matrix_plays_filter = S1[:, selected_users]\n",
    "\n",
    "    # Create and store artists tuples\n",
    "    artists_tuples = []\n",
    "    for i in range(matrix_plays_filter.shape[1]):\n",
    "        idx = list(set(matrix_plays_filter[:, i].nonzero()[0]).intersection(set(idx_artists)))\n",
    "        selected_artist = np.random.choice(idx, 2, replace=False)\n",
    "        artists_tuples.append((selected_artist[0], selected_artist[1]))\n",
    "\n",
    "        if len(artists_tuples) >= NB_SAMPLE:\n",
    "            break\n",
    "\n",
    "    save_to_pickle(artists_tuples, 'user_jumper_tuples', '../data/artist_embeddings/')"
   ]
  },
  {
   "cell_type": "markdown",
   "id": "intellectual-broadcasting",
   "metadata": {},
   "source": [
    "## Compute random artist jumper and artist jumper tuples for the user embedding"
   ]
  },
  {
   "cell_type": "code",
   "execution_count": 9,
   "id": "imposed-native",
   "metadata": {},
   "outputs": [],
   "source": [
    "S2 = matrix_plays.T"
   ]
  },
  {
   "cell_type": "code",
   "execution_count": 10,
   "id": "chubby-premiere",
   "metadata": {},
   "outputs": [],
   "source": [
    "'''\n",
    "Random artist jumper: Selects pair of random users.\n",
    "'''\n",
    "if not os.path.exists(\"../data/user_embeddings/random_artist_jumper_tuples.pickle\"):\n",
    "    selected_users = np.random.choice(idx_users, size = (NB_SAMPLE, 2), replace=False)\n",
    "    users_tuples = []\n",
    "    for tup in selected_users:\n",
    "        users_tuples.append((tup[0], tup[1]))\n",
    "    save_to_pickle(users_tuples, 'random_artist_jumper_tuples', '../data/user_embeddings/')"
   ]
  },
  {
   "cell_type": "code",
   "execution_count": 11,
   "id": "nasty-rotation",
   "metadata": {},
   "outputs": [],
   "source": [
    "'''\n",
    "Artist jumper: Select NB_SAMPLE artists from the set of users and for each artist selected, we select 2 users.\n",
    "'''\n",
    "if not os.path.exists(\"../data/user_embeddings/artist_jumper_tuples.pickle\"):\n",
    "    selected_artists = np.random.choice(idx_artists, size = (len(idx_artists)), replace=False)\n",
    "\n",
    "    S2_filter = S2[:, selected_artists]\n",
    "\n",
    "    # Create and store artists tuples\n",
    "    users_tuples = []\n",
    "    for i in range(S2_filter.shape[1]):\n",
    "        idx = list(set(S2_filter[:, i].nonzero()[0]).intersection(set(idx_users)))\n",
    "        selected_users = np.random.choice(idx, 2, replace=False)\n",
    "        users_tuples.append((selected_users[0], selected_users[1]))\n",
    "\n",
    "        if len(users_tuples) >= NB_SAMPLE:\n",
    "            break\n",
    "\n",
    "    save_to_pickle(users_tuples, 'artist_jumper_tuples', '../data/user_embeddings/')"
   ]
  },
  {
   "cell_type": "markdown",
   "id": "abandoned-orlando",
   "metadata": {},
   "source": [
    "# Compute embedding metrics"
   ]
  },
  {
   "cell_type": "markdown",
   "id": "comic-cleanup",
   "metadata": {},
   "source": [
    "In the following methods, `item` refers either to `user` or `artist`."
   ]
  },
  {
   "cell_type": "code",
   "execution_count": 182,
   "id": "functional-effectiveness",
   "metadata": {},
   "outputs": [],
   "source": [
    "'''\n",
    "Create a Pandas DataFrame from the embedding\n",
    "PARAMETERS:\n",
    "    - model_path: Path where the embedding is stoed\n",
    "    - embedding_type: user or artist embedding\n",
    "    - dim_type: the dimentionality reduction algorithm used\n",
    "RETURN:\n",
    "    - df: Pandas DataFrame\n",
    "'''\n",
    "def get_dataframe_in_embedding_space(model_path, embedding_type='users', dim_type='pca'):\n",
    "    if dim_type == 'pca':\n",
    "        graph_matrix = load_pickle(model_path)\n",
    "        df = pd.DataFrame(graph_matrix)\n",
    "        df = df.rename(lambda x: 'd_'+ str(x), axis='columns')\n",
    "        return df\n",
    "    else:\n",
    "        df = load_pickle(model_path)\n",
    "        if embedding_type == 'artists':\n",
    "            df['index'] = df['index'].apply(lambda x: artist2id[x])\n",
    "        elif embedding_type == 'users':\n",
    "            df['index'] = df['index'].apply(lambda x: user2id[x])\n",
    "        return df.set_index('index')\n",
    "\n",
    "'''\n",
    "Build the Annoy index in order to compute afterwords the nearest neighbors\n",
    "PARAMETERS:\n",
    "    - df: DataFrame representing the embedding space\n",
    "RETURN:\n",
    "    - The annoy index\n",
    "'''\n",
    "def get_annoy_index(df):\n",
    "    nb_trees = 100 # 100 trees\n",
    "    index = AnnoyIndex(df.shape[1], \"euclidean\")  # Length of item vector that will be indexed\n",
    "    df.apply(lambda row: index.add_item(row.name, np.array(row)), axis = 1)\n",
    "    index.build(nb_trees) \n",
    "    return index\n",
    "\n",
    "\n",
    "'''\n",
    "Get the random walk distance computed from the random_walk_items pairs. The random walk distance is the sum \n",
    "of the euclidean distance between the pairs of random_walk_items.\n",
    "PARAMETERS:\n",
    "    - df_embedding: DataFrame corresponding to the embedding\n",
    "    - embedding_type: Our project contains 2 embeddings, a user embedding and a artist embedding\n",
    "    - path: the general path where are stored the random_items_jumper_tuples\n",
    "RETURN:\n",
    "    - random_walk_distance: The distance of the random walk\n",
    "'''\n",
    "def get_random_walk(df_embedding, embedding_type, path):\n",
    "    if embedding_type == 'users':\n",
    "        random_walk_items = load_pickle(path + 'random_artist_jumper_tuples.pickle')\n",
    "    elif embedding_type == 'artists':\n",
    "        random_walk_items = load_pickle(path + 'random_user_jumper_tuples.pickle')\n",
    "    \n",
    "    random_walk_distance = 0\n",
    "    for val in random_walk_items:\n",
    "        random_walk_distance += distance.euclidean(df_embedding.loc[val[0]], df_embedding.loc[val[1]])\n",
    "    return random_walk_distance\n",
    "\n",
    "\n",
    "\n",
    "'''\n",
    "Get the position of ref_item relative to second_item in terms of its nearest neighbors ranking.\n",
    "PARAMETER:\n",
    "    - ref_item: The reference item on which we compute the k nearest neighbors\n",
    "    - second_item: The item on which we compute the ranking relatively to ref_item\n",
    "    - index: Annoy index to compute the neirest neighbors\n",
    "    - df_embedding: DataFrame representing the items in the embedding space\n",
    "RETURN:\n",
    "    - The position of second_item relatively to ref_item in terms of it's ranking\n",
    "'''\n",
    "def get_ranking_position_between_items(ref_item, second_item, index, df_embedding):\n",
    "    nearest_neighbors_index = index.get_nns_by_item(ref_item, len(df_embedding))\n",
    "    dist_k_th_nearest = distance.euclidean(df_embedding.loc[ref_item], \n",
    "                                           df_embedding.loc[nearest_neighbors_index[len(nearest_neighbors_index)-1]])\n",
    "    for i in range(0, len(nearest_neighbors_index)):\n",
    "        if nearest_neighbors_index[i] == second_item:\n",
    "            return i\n",
    "        \n",
    "        \n",
    "        \n",
    "        \n",
    "'''\n",
    "Compute the Jumper ratio as well as the position ratio.\n",
    "PARAMETER:\n",
    "    - files: List of path where are stored the embedding\n",
    "    - embedding_type: Our project contains 2 embeddings, a user embedding and a artist embedding\n",
    "    - path: path where are stored the item_jumper_tuples\n",
    "    - dim_type: the dimentionality reduction algorithm used\n",
    "RETURN: \n",
    "    - user_jumper_tab: List of Jumper ratio corresponding the embedding contained in files\n",
    "    - ranking_position_tab: List of Position ratio corresponding the embedding contained in files\n",
    "'''\n",
    "def get_user_walk_and_position_ratio(files, embedding_type, path, dim_type):\n",
    "    \n",
    "    if embedding_type == 'users':\n",
    "        items_tuple = load_pickle(path + 'artist_jumper_tuples.pickle')\n",
    "    elif embedding_type == 'artists':\n",
    "        items_tuple = load_pickle(path + 'user_jumper_tuples.pickle')\n",
    "    \n",
    "    len_random_set = len(items_tuple)\n",
    "    \n",
    "    user_jumper_tab = []\n",
    "    ranking_position_tab = []\n",
    "\n",
    "    for file in files:     \n",
    "        print('file ', file)                  \n",
    "        df_embedding = get_dataframe_in_embedding_space(file, embedding_type, dim_type)\n",
    "        n_comp = df_embedding.shape[1]\n",
    "        print('n_comp ', n_comp)\n",
    "        random_walk_distance = get_random_walk(df_embedding, embedding_type, path)\n",
    "        index = get_annoy_index(df_embedding)\n",
    "        users_walk = 0\n",
    "        ranking_position = 0\n",
    "        \n",
    "        temp_user_jumper_tab = []\n",
    "        temp_ranking_position_tab = []\n",
    "        \n",
    "        for ind, item in enumerate(items_tuple):\n",
    "            ref_item = item[0]\n",
    "            second_item = item[1]\n",
    "            # For every pair sum the users_walk and the ranking_position results\n",
    "            temp_user_jumper_tab.append(distance.euclidean(df_embedding.loc[ref_item], df_embedding.loc[second_item])/random_walk_distance)\n",
    "            temp_ranking_position_tab.append(get_ranking_position_between_items(ref_item, second_item, index, df_embedding)/(df_embedding.shape[0]*len_random_set))\n",
    "\n",
    "        user_jumper_tab.append(temp_user_jumper_tab)\n",
    "        ranking_position_tab.append(temp_ranking_position_tab)\n",
    "        \n",
    "    save_to_pickle(user_jumper_tab, embedding_type + '_jumper_results', path + dim_type + '/')\n",
    "    save_to_pickle(ranking_position_tab, embedding_type + '_ranking_position_results', path + dim_type + '/')\n",
    "        \n",
    "    return user_jumper_tab, ranking_position_tab\n",
    "    "
   ]
  },
  {
   "cell_type": "code",
   "execution_count": 15,
   "id": "smooth-gauge",
   "metadata": {},
   "outputs": [
    {
     "name": "stdout",
     "output_type": "stream",
     "text": [
      "file  ../data/user_embeddings/pca/user_embedding_norm_transformed_pca100.pickle\n",
      "n_comp  100\n",
      "file  ../data/user_embeddings/pca/user_embedding_norm_transformed_pca25.pickle\n",
      "n_comp  25\n",
      "file  ../data/user_embeddings/pca/user_embedding_norm_transformed_pca50.pickle\n",
      "n_comp  50\n",
      "file  ../data/user_embeddings/pca/user_embedding_transformed_pca100.pickle\n",
      "n_comp  100\n",
      "file  ../data/user_embeddings/pca/user_embedding_transformed_pca25.pickle\n",
      "n_comp  25\n",
      "file  ../data/user_embeddings/pca/user_embedding_transformed_pca50.pickle\n",
      "n_comp  50\n"
     ]
    }
   ],
   "source": [
    "if os.path.exists(\"../data/user_embeddings/pca/users_jumper_results.pickle\"):\n",
    "    os.remove(\"../data/user_embeddings/pca/users_jumper_results.pickle\")\n",
    "    \n",
    "if os.path.exists(\"../data/user_embeddings/pca/users_ranking_position_results.pickle\"):\n",
    "    os.remove(\"../data/user_embeddings/pca/users_ranking_position_results.pickle\")\n",
    "\n",
    "    \n",
    "user_files = glob.glob(\"../data/user_embeddings/pca/*.pickle\")\n",
    "user_jumper_tab, user_ranking_position_tab = get_user_walk_and_position_ratio(user_files, 'users', '../data/user_embeddings/', 'pca')"
   ]
  },
  {
   "cell_type": "code",
   "execution_count": 16,
   "id": "desperate-florence",
   "metadata": {},
   "outputs": [
    {
     "name": "stdout",
     "output_type": "stream",
     "text": [
      "file  ../data/artist_embeddings/pca/artist_embedding_norm_transformed_pca100.pickle\n",
      "n_comp  100\n",
      "file  ../data/artist_embeddings/pca/artist_embedding_norm_transformed_pca25.pickle\n",
      "n_comp  25\n",
      "file  ../data/artist_embeddings/pca/artist_embedding_norm_transformed_pca50.pickle\n",
      "n_comp  50\n",
      "file  ../data/artist_embeddings/pca/artist_embedding_transformed_pca100.pickle\n",
      "n_comp  100\n",
      "file  ../data/artist_embeddings/pca/artist_embedding_transformed_pca25.pickle\n",
      "n_comp  25\n",
      "file  ../data/artist_embeddings/pca/artist_embedding_transformed_pca50.pickle\n",
      "n_comp  50\n"
     ]
    }
   ],
   "source": [
    "if os.path.exists(\"../data/artist_embeddings/pca/artists_jumper_results.pickle\"):\n",
    "    os.remove(\"../data/artist_embeddings/pca/artists_jumper_results.pickle\")\n",
    "    \n",
    "if os.path.exists(\"../data/artist_embeddings/pca/artists_ranking_position_results.pickle\"):\n",
    "    os.remove(\"../data/artist_embeddings/pca/artists_ranking_position_results.pickle\")\n",
    "    \n",
    "artist_files = glob.glob(\"../data/artist_embeddings/pca/*.pickle\")\n",
    "artist_jumper_tab, artist_ranking_position_tab = get_user_walk_and_position_ratio(artist_files, 'artists', '../data/artist_embeddings/', 'pca')"
   ]
  },
  {
   "cell_type": "code",
   "execution_count": 17,
   "id": "everyday-typing",
   "metadata": {},
   "outputs": [
    {
     "name": "stdout",
     "output_type": "stream",
     "text": [
      "file  ../data/artist_embeddings/word2vec/word2vec_100.pickle\n",
      "n_comp  100\n",
      "file  ../data/artist_embeddings/word2vec/word2vec_25.pickle\n",
      "n_comp  25\n",
      "file  ../data/artist_embeddings/word2vec/word2vec_50.pickle\n",
      "n_comp  50\n"
     ]
    }
   ],
   "source": [
    "if os.path.exists(\"../data/artist_embeddings/word2vec/artists_jumper_results.pickle\"):\n",
    "    os.remove(\"../data/artist_embeddings/word2vec/artists_jumper_results.pickle\")\n",
    "    \n",
    "if os.path.exists(\"../data/artist_embeddings/word2vec/artists_ranking_position_results.pickle\"):\n",
    "    os.remove(\"../data/artist_embeddings/word2vec/artists_ranking_position_results.pickle\")\n",
    "\n",
    "    \n",
    "artist_files = glob.glob(\"../data/artist_embeddings/word2vec/*.pickle\")\n",
    "artist_jumper_tab_word2vec, artist_ranking_position_tab_word2vec = get_user_walk_and_position_ratio(artist_files, 'artists', '../data/artist_embeddings/', 'word2vec')"
   ]
  },
  {
   "cell_type": "code",
   "execution_count": 20,
   "id": "loved-large",
   "metadata": {},
   "outputs": [
    {
     "name": "stdout",
     "output_type": "stream",
     "text": [
      "file  ../data/user_embeddings/word2vec/word2vec_100.pickle\n",
      "n_comp  100\n",
      "file  ../data/user_embeddings/word2vec/word2vec_25.pickle\n",
      "n_comp  25\n",
      "file  ../data/user_embeddings/word2vec/word2vec_50.pickle\n",
      "n_comp  50\n"
     ]
    }
   ],
   "source": [
    "if os.path.exists(\"../data/user_embeddings/word2vec/users_jumper_results.pickle\"):\n",
    "    os.remove(\"../data/user_embeddings/word2vec/users_jumper_results.pickle\")\n",
    "    \n",
    "if os.path.exists(\"../data/user_embeddings/word2vec/users_ranking_position_results.pickle\"):\n",
    "    os.remove(\"../data/user_embeddings/word2vec/users_ranking_position_results.pickle\")\n",
    "\n",
    "    \n",
    "user_files = glob.glob(\"../data/user_embeddings/word2vec/*.pickle\")\n",
    "user_jumper_tab_word2vec, user_ranking_position_tab_word2vec = get_user_walk_and_position_ratio(user_files, 'users', '../data/user_embeddings/', 'word2vec')"
   ]
  },
  {
   "cell_type": "markdown",
   "id": "alleged-pitch",
   "metadata": {},
   "source": [
    "## User embedding"
   ]
  },
  {
   "cell_type": "markdown",
   "id": "organized-oracle",
   "metadata": {},
   "source": [
    "From the results below, we can observe that pca with tf-idf weights and 25 dimensions have the lowest results."
   ]
  },
  {
   "cell_type": "code",
   "execution_count": 46,
   "id": "apparent-static",
   "metadata": {},
   "outputs": [
    {
     "data": {
      "image/png": "[encoded data removed]",
      "text/plain": [
       "<Figure size 432x288 with 1 Axes>"
      ]
     },
     "metadata": {
      "needs_background": "light"
     },
     "output_type": "display_data"
    }
   ],
   "source": [
    "fig, ax = plt.subplots()\n",
    "ax.bar(['norm_pca100', 'norm_pca25', 'norm_pca50', 'tf-idf_pca100', 'tf-idf_pca25', 'tf-idf_pca50', 'word2vec100', 'word2vec25', 'word2vec50'],\n",
    "       np.append(np.array(user_jumper_tab).sum(axis = 1), np.array(user_jumper_tab_word2vec).sum(axis = 1)),\n",
    "       yerr=np.append(np.array(user_jumper_tab).std(axis = 1), np.array(user_jumper_tab_word2vec).std(axis = 1)),\n",
    "       align='center',\n",
    "       alpha=0.5,\n",
    "       ecolor='black',\n",
    "       capsize=10)\n",
    "ax.set_ylabel('User jumper ratio')\n",
    "plt.xticks(rotation=45)\n",
    "ax.set_title('User jumper ratio in function of the embeddings')\n",
    "ax.yaxis.grid(True)\n",
    "plt.show()"
   ]
  },
  {
   "cell_type": "code",
   "execution_count": 47,
   "id": "atlantic-drink",
   "metadata": {},
   "outputs": [
    {
     "data": {
      "image/png": "[encoded data removed]",
      "text/plain": [
       "<Figure size 432x288 with 1 Axes>"
      ]
     },
     "metadata": {
      "needs_background": "light"
     },
     "output_type": "display_data"
    }
   ],
   "source": [
    "fig, ax = plt.subplots()\n",
    "ax.bar(['norm_pca100', 'norm_pca25', 'norm_pca50', 'tf-idf_pca100', 'tf-idf_pca25', 'tf-idf_pca50', 'word2vec100', 'word2vec25', 'word2vec50'],\n",
    "       np.append(np.array(user_ranking_position_tab).sum(axis = 1), np.array(user_ranking_position_tab_word2vec).sum(axis = 1)),\n",
    "       yerr=np.append(np.array(user_ranking_position_tab).std(axis = 1), np.array(user_ranking_position_tab_word2vec).std(axis = 1)),\n",
    "       align='center',\n",
    "       alpha=0.5,\n",
    "       ecolor='black',\n",
    "       capsize=10)\n",
    "ax.set_ylabel('User position ratio')\n",
    "plt.xticks(rotation=45)\n",
    "ax.set_title('User position ratio in function of the embeddings')\n",
    "ax.yaxis.grid(True)\n",
    "plt.show()"
   ]
  },
  {
   "cell_type": "markdown",
   "id": "vanilla-photograph",
   "metadata": {},
   "source": [
    "### Artists embedding"
   ]
  },
  {
   "cell_type": "markdown",
   "id": "fresh-arrest",
   "metadata": {},
   "source": [
    "The best position ratio result has been obtained by the normalized pca with 25 dimensions."
   ]
  },
  {
   "cell_type": "code",
   "execution_count": 48,
   "id": "extensive-space",
   "metadata": {},
   "outputs": [
    {
     "data": {
      "image/png": "[encoded data removed]",
      "text/plain": [
       "<Figure size 432x288 with 1 Axes>"
      ]
     },
     "metadata": {
      "needs_background": "light"
     },
     "output_type": "display_data"
    }
   ],
   "source": [
    "fig, ax = plt.subplots()\n",
    "ax.bar(['norm_pca100', 'norm_pca25', 'norm_pca50', 'tf-idf_pca100', 'tf-idf_pca25', 'tf-idf_pca50', 'word2vec100', 'word2vec25', 'word2vec50'],\n",
    "       np.append(np.array(artist_jumper_tab).sum(axis = 1), np.array(artist_jumper_tab_word2vec).sum(axis = 1)),\n",
    "       yerr=np.append(np.array(artist_jumper_tab).std(axis = 1), np.array(artist_jumper_tab_word2vec).std(axis = 1)),\n",
    "       align='center',\n",
    "       alpha=0.5,\n",
    "       ecolor='black',\n",
    "       capsize=10)\n",
    "ax.set_ylabel('Artist jumper ratio')\n",
    "plt.xticks(rotation=45)\n",
    "ax.set_title('Artist jumper ratio in function of the embeddings')\n",
    "ax.yaxis.grid(True)\n",
    "plt.show()"
   ]
  },
  {
   "cell_type": "code",
   "execution_count": 49,
   "id": "closed-research",
   "metadata": {},
   "outputs": [
    {
     "data": {
      "image/png": "[encoded data removed]",
      "text/plain": [
       "<Figure size 432x288 with 1 Axes>"
      ]
     },
     "metadata": {
      "needs_background": "light"
     },
     "output_type": "display_data"
    }
   ],
   "source": [
    "fig, ax = plt.subplots()\n",
    "ax.bar(['norm_pca100', 'norm_pca25', 'norm_pca50', 'tf-idf_pca100', 'tf-idf_pca25', 'tf-idf_pca50', 'word2vec100', 'word2vec25', 'word2vec50'],\n",
    "       np.append(np.array(artist_ranking_position_tab).sum(axis = 1), np.array(artist_ranking_position_tab_word2vec).sum(axis = 1)),\n",
    "       yerr=np.append(np.array(artist_ranking_position_tab).std(axis = 1), np.array(artist_ranking_position_tab_word2vec).std(axis = 1)),\n",
    "       align='center',\n",
    "       alpha=0.5,\n",
    "       ecolor='black',\n",
    "       capsize=10)\n",
    "ax.set_ylabel('Artist position ratio')\n",
    "plt.xticks(rotation=45)\n",
    "ax.set_title('Artist position ratio in function of the embeddings')\n",
    "ax.yaxis.grid(True)\n",
    "plt.show()"
   ]
  },
  {
   "cell_type": "markdown",
   "id": "closed-style",
   "metadata": {},
   "source": [
    "## Appendix: \n",
    "___________________________"
   ]
  },
  {
   "cell_type": "markdown",
   "id": "unnecessary-steering",
   "metadata": {},
   "source": [
    "## Axis projection method"
   ]
  },
  {
   "cell_type": "code",
   "execution_count": 188,
   "id": "twenty-elevation",
   "metadata": {},
   "outputs": [],
   "source": [
    "'''\n",
    "For the given ref_item, compute pairs of item between ref_item's k neirest neighbor and ref_item.\n",
    "PARAMETERS:\n",
    "    - items_pairs: List of tuple representing the pair of items already computed,\n",
    "    - ref_item: the item on which we compute the neirest neighbor search,\n",
    "    - index: the annoy index to do the nearest neighbor search,\n",
    "    - k: the number of neighbors to be computed\n",
    "'''\n",
    "def create_pairs(item_pairs, ref_item, index, k):\n",
    "    nearest_neighbors = index.get_nns_by_item(ref_item, k)\n",
    "    for neighbor_item in nearest_neighbors:\n",
    "        item_pairs.append((ref_item, neighbor_item))\n",
    "        \n",
    "        \n",
    "        \n",
    "'''\n",
    "Generate the set of all pairs of tems with their k neirest neighbors\n",
    "PARAMETERS:\n",
    "    - df_embedding: DataFrame representing the tem embedding\n",
    "    - k: the parameter of the nearest neighbor search\n",
    "    - n_comp: the number of components of the embedding (number of columns of the embedding)\n",
    "    - seed: the seed pair\n",
    "RETURN:\n",
    "    - DataFrame representing all the tems - nearest neighbors pairs \n",
    "'''\n",
    "def items_with_neighbors_pairs(df_embedding, k, n_comp, seed):\n",
    "    items_pairs = []\n",
    "    index = get_annoy_index(df_embedding)\n",
    "    \n",
    "    for item in df_embedding.index:\n",
    "        if not item == seed[0] and not item == seed[1]:\n",
    "            create_pairs(items_pairs, item, index, k)\n",
    "    return pd.DataFrame(items_pairs)\n",
    "\n",
    "\n",
    "'''\n",
    "Create the pairs of item - nearest neighbors for each item.\n",
    "Then compute and sort the pairs according to their cosine similarity scores.\n",
    "PARAMETERS:\n",
    "    - path: the path where the embedding is stored,\n",
    "    - k: the number of neirest neighbor search,\n",
    "    - seed: the selected seed pair,\n",
    "    - nb_selected_pairs: number of selected pairs to create the axis,\n",
    "    - selected_items: the subset of items if we want to work on a subset of the items,\n",
    "    - item_crawler: DataFrame having the name - item mapping,\n",
    "    - dict_ind_itemchannel: mapping from items indices to itemchannels id\n",
    "RETURN:\n",
    "    - Call cultural_concept_vector function in order to compute the final axis vector.\n",
    "'''\n",
    "\n",
    "def compute_axis_vector_based_on_seed(path, k, seed, nb_selected_pairs, item_crawler, dict_ind_itemchannel):\n",
    "    \n",
    "    # DataFrame representing the embedding\n",
    "    df_embedding = get_dataframe_in_embedding_space(path)\n",
    "    \n",
    "    n_comp = df_embedding.shape[1]\n",
    "\n",
    "    items_pairs = items_with_neighbors_pairs(df_embedding, k, n_comp, seed)\n",
    "    \n",
    "    # Vectors representing the difference between every pairs of items in itemchannels_pairs\n",
    "    vector_diff_items_pairs = np.array(items_pairs.apply(lambda row: df_embedding.loc[row[0]] - df_embedding.loc[row[1]], axis = 1))\n",
    "    \n",
    "    # Vector difference between the seed pair\n",
    "    vector_diff_seed = np.array(df_embedding.loc[seed[0]] - df_embedding.loc[seed[1]])\n",
    "    \n",
    "    # compute cosine similarity score\n",
    "    similarity_score = cosine_similarity(vector_diff_items_pairs, vector_diff_seed.reshape(1, -1))\n",
    "    items_pairs['similarity'] = similarity_score\n",
    "    # Sort the similrity scores\n",
    "    items_pairs = items_pairs.sort_values(by = ['similarity'], ascending = False)\n",
    "    \n",
    "    return cultural_concept_vector(df_embedding, items_pairs, vector_diff_seed, nb_selected_pairs, seed, item_crawler, dict_ind_itemchannel)\n",
    "\n",
    "\n",
    "'''\n",
    "Creates the axis vector representing the desired cultural concept based on the seed pair. To create the axis, the vector difference of all nb_pairs_selected are averaged together to obtain a single vector \n",
    "for the axis that robustly represents the desired cultural concept.\n",
    "PARAMETERS:\n",
    "    - df_embedding: DataFrame representing the item embedding\n",
    "    - sorted_similarity_score: dataframe of itemchannel pairs ordered by their cosine similarity score\n",
    "    - vector_diff_seed: vector difference between the seed pair\n",
    "    - nb_selected_pairs: number of selected pairs to create the axis\n",
    "    - seed: the seed pair\n",
    "    - item_crawler: Pandas DataFrame having the name - item mapping\n",
    "    - dict_ind_itemchannel: mapping from items indices to items id\n",
    "RETURN:\n",
    "    - Axis vector (of dimension = # columns of the embedding) that represents the desired cultural concept\n",
    "'''\n",
    "\n",
    "def cultural_concept_vector(df_embedding, sorted_similarity_score, vector_diff_seed, nb_selected_pairs, seed, item_crawler, dict_ind_item):\n",
    "    \n",
    "    df_output = pd.DataFrame() # Dataframe to print the selected pairs\n",
    "    \n",
    "    selected_items_pairs = [seed] # All the selected items pairs\n",
    "    \n",
    "    # Select and print the items that we take to create the axis\n",
    "    count_selected_pairs = 0 # Counter to keep track of how many pairs we have selected so far\n",
    "    idx = 0 # Indice counter\n",
    "    \n",
    "    items_already_taken = [seed[0], seed[1]]\n",
    "    df_output = df_output.append(item_crawler[item_crawler['artist_id'] == dict_ind_item[seed[0]]])\n",
    "    df_output = df_output.append(item_crawler[item_crawler['artist_id'] == dict_ind_item[seed[1]]])\n",
    "        \n",
    "    while count_selected_pairs < nb_selected_pairs-1:\n",
    "        pair = sorted_similarity_score.loc[idx]\n",
    "        \n",
    "        # We don't want items to be selected multiple times\n",
    "        if not(pair[0] in items_already_taken or pair[1] in items_already_taken) and pair[0] != pair[1]:\n",
    "            df_output = df_output.append(item_crawler[item_crawler['artist_id'] == dict_ind_item[pair[0]]])\n",
    "            df_output = df_output.append(item_crawler[item_crawler['artist_id'] == dict_ind_item[pair[1]]])\n",
    "            \n",
    "            selected_items_pairs.append((pair[0], pair[1]))\n",
    "            \n",
    "            items_already_taken.append(pair[0])\n",
    "            items_already_taken.append(pair[1])\n",
    "            count_selected_pairs += 1\n",
    "        idx += 1\n",
    "    \n",
    "    cultural_concept_vectors = [vector_diff_seed] # Vectors of the difference of the selected pairs\n",
    "    # Create the axis vector by taking the mean of the vector difference of the selected pairs\n",
    "    for item_pair in selected_items_pairs:\n",
    "        cultural_concept_vectors.append(np.array(df_embedding.loc[item_pair[0]]) - np.array(df_embedding.loc[item_pair[1]]))\n",
    "    cultural_concept_vectors = np.array(cultural_concept_vectors)\n",
    "    \n",
    "    return cultural_concept_vectors.mean(axis = 0), df_output"
   ]
  },
  {
   "cell_type": "code",
   "execution_count": 136,
   "id": "lonely-radar",
   "metadata": {},
   "outputs": [],
   "source": [
    "# Number of neirest neighbors taken\n",
    "k = 10\n",
    "\n",
    "# Selected number of pairs to create the axis\n",
    "nb_selected_pairs = 5"
   ]
  },
  {
   "cell_type": "markdown",
   "id": "going-forth",
   "metadata": {},
   "source": [
    "### Finding cultural axis"
   ]
  },
  {
   "cell_type": "code",
   "execution_count": 56,
   "id": "blocked-italian",
   "metadata": {},
   "outputs": [
    {
     "data": {
      "text/html": [
       "<div>\n",
       "<style scoped>\n",
       "    .dataframe tbody tr th:only-of-type {\n",
       "        vertical-align: middle;\n",
       "    }\n",
       "\n",
       "    .dataframe tbody tr th {\n",
       "        vertical-align: top;\n",
       "    }\n",
       "\n",
       "    .dataframe thead th {\n",
       "        text-align: right;\n",
       "    }\n",
       "</style>\n",
       "<table border=\"1\" class=\"dataframe\">\n",
       "  <thead>\n",
       "    <tr style=\"text-align: right;\">\n",
       "      <th></th>\n",
       "      <th>user_id</th>\n",
       "      <th>artist_id</th>\n",
       "      <th>artist_name</th>\n",
       "      <th>plays</th>\n",
       "    </tr>\n",
       "  </thead>\n",
       "  <tbody>\n",
       "    <tr>\n",
       "      <th>0</th>\n",
       "      <td>00000c289a1829a808ac09c00daf10bc3c4e223b</td>\n",
       "      <td>3bd73256-3905-4f3a-97e2-8b341527f805</td>\n",
       "      <td>betty blowtorch</td>\n",
       "      <td>2137</td>\n",
       "    </tr>\n",
       "    <tr>\n",
       "      <th>1</th>\n",
       "      <td>00000c289a1829a808ac09c00daf10bc3c4e223b</td>\n",
       "      <td>f2fb0ff0-5679-42ec-a55c-15109ce6e320</td>\n",
       "      <td>die Ärzte</td>\n",
       "      <td>1099</td>\n",
       "    </tr>\n",
       "    <tr>\n",
       "      <th>2</th>\n",
       "      <td>00000c289a1829a808ac09c00daf10bc3c4e223b</td>\n",
       "      <td>b3ae82c2-e60b-4551-a76d-6620f1b456aa</td>\n",
       "      <td>melissa etheridge</td>\n",
       "      <td>897</td>\n",
       "    </tr>\n",
       "    <tr>\n",
       "      <th>3</th>\n",
       "      <td>00000c289a1829a808ac09c00daf10bc3c4e223b</td>\n",
       "      <td>3d6bbeb7-f90e-4d10-b440-e153c0d10b53</td>\n",
       "      <td>elvenking</td>\n",
       "      <td>717</td>\n",
       "    </tr>\n",
       "    <tr>\n",
       "      <th>4</th>\n",
       "      <td>00000c289a1829a808ac09c00daf10bc3c4e223b</td>\n",
       "      <td>bbd2ffd7-17f4-4506-8572-c1ea58c3f9a8</td>\n",
       "      <td>juliette &amp; the licks</td>\n",
       "      <td>706</td>\n",
       "    </tr>\n",
       "  </tbody>\n",
       "</table>\n",
       "</div>"
      ],
      "text/plain": [
       "                                    user_id  \\\n",
       "0  00000c289a1829a808ac09c00daf10bc3c4e223b   \n",
       "1  00000c289a1829a808ac09c00daf10bc3c4e223b   \n",
       "2  00000c289a1829a808ac09c00daf10bc3c4e223b   \n",
       "3  00000c289a1829a808ac09c00daf10bc3c4e223b   \n",
       "4  00000c289a1829a808ac09c00daf10bc3c4e223b   \n",
       "\n",
       "                              artist_id           artist_name  plays  \n",
       "0  3bd73256-3905-4f3a-97e2-8b341527f805       betty blowtorch   2137  \n",
       "1  f2fb0ff0-5679-42ec-a55c-15109ce6e320             die Ärzte   1099  \n",
       "2  b3ae82c2-e60b-4551-a76d-6620f1b456aa     melissa etheridge    897  \n",
       "3  3d6bbeb7-f90e-4d10-b440-e153c0d10b53             elvenking    717  \n",
       "4  bbd2ffd7-17f4-4506-8572-c1ea58c3f9a8  juliette & the licks    706  "
      ]
     },
     "execution_count": 56,
     "metadata": {},
     "output_type": "execute_result"
    }
   ],
   "source": [
    "col_names_consumption = ['user-mboxsha1', 'musicbrainz-artist-id', 'artist-name', 'plays']\n",
    "\n",
    "df_plays = pd.read_csv('../data/usersha1-artmbid-artname-plays.tsv', sep='\\t', names=col_names_consumption)\n",
    "df_plays = df_plays.rename({'user-mboxsha1':'user_id', 'musicbrainz-artist-id':'artist_id', 'artist-name': 'artist_name'}, axis=1)\n",
    "df_plays = df_plays.groupby('artist_id').head(1)\n",
    "df_plays = df_plays[(df_plays['artist_id'].isin(list(artist2id.keys())))]\n",
    "df_plays.head()"
   ]
  },
  {
   "cell_type": "code",
   "execution_count": 103,
   "id": "about-blind",
   "metadata": {},
   "outputs": [],
   "source": [
    "PATH = '../data/artist_embeddings/pca/artist_embedding_transformed_pca25.pickle'"
   ]
  },
  {
   "cell_type": "markdown",
   "id": "worst-screw",
   "metadata": {},
   "source": [
    "### Gender axis"
   ]
  },
  {
   "cell_type": "code",
   "execution_count": 176,
   "id": "foster-colombia",
   "metadata": {},
   "outputs": [
    {
     "data": {
      "text/html": [
       "<div>\n",
       "<style scoped>\n",
       "    .dataframe tbody tr th:only-of-type {\n",
       "        vertical-align: middle;\n",
       "    }\n",
       "\n",
       "    .dataframe tbody tr th {\n",
       "        vertical-align: top;\n",
       "    }\n",
       "\n",
       "    .dataframe thead th {\n",
       "        text-align: right;\n",
       "    }\n",
       "</style>\n",
       "<table border=\"1\" class=\"dataframe\">\n",
       "  <thead>\n",
       "    <tr style=\"text-align: right;\">\n",
       "      <th></th>\n",
       "      <th>user_id</th>\n",
       "      <th>artist_id</th>\n",
       "      <th>artist_name</th>\n",
       "      <th>plays</th>\n",
       "      <th>artist_idx</th>\n",
       "    </tr>\n",
       "  </thead>\n",
       "  <tbody>\n",
       "    <tr>\n",
       "      <th>371</th>\n",
       "      <td>0000ef373bbd0d89ce796abae961f2705e8c1faf</td>\n",
       "      <td>73e5e69d-3554-40d8-8516-00cb38737a1c</td>\n",
       "      <td>rihanna</td>\n",
       "      <td>36</td>\n",
       "      <td>20326</td>\n",
       "    </tr>\n",
       "  </tbody>\n",
       "</table>\n",
       "</div>"
      ],
      "text/plain": [
       "                                      user_id  \\\n",
       "371  0000ef373bbd0d89ce796abae961f2705e8c1faf   \n",
       "\n",
       "                                artist_id artist_name  plays  artist_idx  \n",
       "371  73e5e69d-3554-40d8-8516-00cb38737a1c     rihanna     36       20326  "
      ]
     },
     "execution_count": 176,
     "metadata": {},
     "output_type": "execute_result"
    }
   ],
   "source": [
    "df_plays[df_plays['artist_name'].str.startswith('rihanna', na=False)]"
   ]
  },
  {
   "cell_type": "code",
   "execution_count": 120,
   "id": "little-metabolism",
   "metadata": {},
   "outputs": [
    {
     "data": {
      "text/html": [
       "<div>\n",
       "<style scoped>\n",
       "    .dataframe tbody tr th:only-of-type {\n",
       "        vertical-align: middle;\n",
       "    }\n",
       "\n",
       "    .dataframe tbody tr th {\n",
       "        vertical-align: top;\n",
       "    }\n",
       "\n",
       "    .dataframe thead th {\n",
       "        text-align: right;\n",
       "    }\n",
       "</style>\n",
       "<table border=\"1\" class=\"dataframe\">\n",
       "  <thead>\n",
       "    <tr style=\"text-align: right;\">\n",
       "      <th></th>\n",
       "      <th>user_id</th>\n",
       "      <th>artist_id</th>\n",
       "      <th>artist_name</th>\n",
       "      <th>plays</th>\n",
       "      <th>artist_idx</th>\n",
       "    </tr>\n",
       "  </thead>\n",
       "  <tbody>\n",
       "    <tr>\n",
       "      <th>5255</th>\n",
       "      <td>0012380744768a379461293f1bda83c165b7db36</td>\n",
       "      <td>9fff2f8a-21e6-47de-a2b8-7f449929d43f</td>\n",
       "      <td>drake</td>\n",
       "      <td>288</td>\n",
       "      <td>28200</td>\n",
       "    </tr>\n",
       "    <tr>\n",
       "      <th>16848</th>\n",
       "      <td>003cb4ad6399ea5268b39fd15df47c17e3f4d52a</td>\n",
       "      <td>094f10e7-27d5-400d-a145-331013e67229</td>\n",
       "      <td>drake bell</td>\n",
       "      <td>76</td>\n",
       "      <td>1662</td>\n",
       "    </tr>\n",
       "  </tbody>\n",
       "</table>\n",
       "</div>"
      ],
      "text/plain": [
       "                                        user_id  \\\n",
       "5255   0012380744768a379461293f1bda83c165b7db36   \n",
       "16848  003cb4ad6399ea5268b39fd15df47c17e3f4d52a   \n",
       "\n",
       "                                  artist_id artist_name  plays  artist_idx  \n",
       "5255   9fff2f8a-21e6-47de-a2b8-7f449929d43f       drake    288       28200  \n",
       "16848  094f10e7-27d5-400d-a145-331013e67229  drake bell     76        1662  "
      ]
     },
     "execution_count": 120,
     "metadata": {},
     "output_type": "execute_result"
    }
   ],
   "source": [
    "df_plays[df_plays['artist_name'].str.startswith('drake', na=False)]"
   ]
  },
  {
   "cell_type": "code",
   "execution_count": 219,
   "id": "available-spider",
   "metadata": {},
   "outputs": [],
   "source": [
    "gender_seed_name = ('rihanna', 'drake')"
   ]
  },
  {
   "cell_type": "code",
   "execution_count": 189,
   "id": "assigned-saying",
   "metadata": {},
   "outputs": [],
   "source": [
    "gender_seed = (artist2id['73e5e69d-3554-40d8-8516-00cb38737a1c'], artist2id['9fff2f8a-21e6-47de-a2b8-7f449929d43f'])\n",
    "\n",
    "gender_axis, df_gender_axis = compute_axis_vector_based_on_seed(PATH, k, gender_seed, nb_selected_pairs, df_plays, id2artist)\n"
   ]
  },
  {
   "cell_type": "markdown",
   "id": "unlikely-contest",
   "metadata": {},
   "source": [
    "### Visualisation of the created axis"
   ]
  },
  {
   "cell_type": "code",
   "execution_count": 234,
   "id": "cordless-madness",
   "metadata": {},
   "outputs": [],
   "source": [
    "import pandas as pd\n",
    "import matplotlib.pyplot as plt\n",
    "import numpy as np\n",
    "\n",
    "'''\n",
    "Compute the projection score for each item\n",
    "PARAMETER:\n",
    "    - axis_vector: Vector representing the axis.\n",
    "    - item_vector: Vector representing the item\n",
    "RETURN:\n",
    "    - The projection score\n",
    "'''\n",
    "def compute_projection(axis_vector, item_vector):\n",
    "    return np.dot(axis_vector, item_vector)\n",
    "\n",
    "'''\n",
    "Enable to plot and save the distribution of the scores stored in df_gender_projection\n",
    "PARAMETER:\n",
    "    - df_gender_projection: DataFrame (name of the item, score)\n",
    "    - seed_name: pair corresponding to the name of the seed\n",
    "    - color: String correponding to the Colormaps color\n",
    "'''\n",
    "def visualization(df_gender_projection, seed_name, color, nb_for_color, title, save_path = None):\n",
    "    fig, ax = plt.subplots(figsize=(10, 6))\n",
    "\n",
    "    # Plotting a histogram of the scores with 30 equal-witdh bins\n",
    "    n, bins, patches = ax.hist(df_gender_projection['projection'], bins=100, color='green')\n",
    "    ax.set_ylabel('# item')\n",
    "    ax.set_xlabel('Projection score')\n",
    "\n",
    "    # This is  the colormap I'd like to use.\n",
    "    cm = plt.cm.get_cmap(color)\n",
    "\n",
    "    for i, p in enumerate(patches):\n",
    "        plt.setp(p, 'facecolor', cm(i/nb_for_color)) \n",
    "\n",
    "\n",
    "    # Annotate the seed pair\n",
    "    x_position = int(list(df_gender_projection[df_gender_projection['name'] == seed_name[0]]['projection'])[0])\n",
    "    y_position = ax.get_ylim()[1]/10\n",
    "    ax.annotate(seed_name[0], (x_position, 0), (x_position, y_position), arrowprops = dict(arrowstyle=\"->\"), horizontalalignment='center')\n",
    "\n",
    "\n",
    "    x_position = int(list(df_gender_projection[df_gender_projection['name'] == seed_name[1]]['projection'])[0])\n",
    "    y_position = -ax.get_ylim()[1]/10\n",
    "    ax.annotate(seed_name[1], (x_position, 0), (x_position, y_position), arrowprops = dict(arrowstyle=\"->\"), horizontalalignment='center')\n",
    "\n",
    "    ax.legend()\n",
    "    ax.set_title(title)\n",
    "    if save_path != None:\n",
    "        plt.savefig(save_path)\n",
    "    plt.show()\n",
    "    \n",
    "    \n",
    "def create_projection(EMBEDDING, axis_vector, dict_idx_name):\n",
    "    df_projection = pd.DataFrame({'name': EMBEDDING.apply(lambda row: dict_idx_name[row.name], axis = 1)})\n",
    "    df_projection['projection'] = EMBEDDING.apply(lambda item_vector: compute_projection(axis_vector, item_vector), axis = 1)\n",
    "    return df_projection\n",
    "\n",
    "\n",
    "\n",
    "def create_plot(df_left, df_right, selected_pairs, title, size, cm, resize = 1, save_path = None):\n",
    "    fig, ax = plt.subplots(figsize = size)\n",
    "    ax.axis('off')\n",
    "    X = np.arange(selected_pairs)\n",
    "    for ind in X:\n",
    "        ax.annotate(df_left['name'].loc[ind], (0, 0), (df_left['projection'].loc[ind] - 1, ind-0.05), horizontalalignment='right')\n",
    "        ax.annotate(df_right['name'].loc[ind], (0, 0), (df_right['projection'].loc[ind] + 1, ind-0.05), horizontalalignment='left')\n",
    "\n",
    "        ax.annotate(round(df_left['projection'].loc[ind], 2), (0, 0), (-0.1, ind-0.05), horizontalalignment='right', color = 'w')\n",
    "        ax.annotate(round(df_right['projection'].loc[ind], 2), (0, 0), (0.1, ind-0.05), horizontalalignment='left', color = 'w')\n",
    "\n",
    "    ax.barh(X, np.array(df_left['projection'])*resize, color = cm(10))\n",
    "    ax.barh(X, np.array(df_right['projection'])*resize, color = cm(300))\n",
    "    ax.set_title(title)\n",
    "    if save_path != None:\n",
    "        plt.savefig(save_path)\n",
    "    plt.show()"
   ]
  },
  {
   "cell_type": "code",
   "execution_count": 105,
   "id": "chicken-exception",
   "metadata": {},
   "outputs": [],
   "source": [
    "EMBEDDING = get_dataframe_in_embedding_space(PATH)"
   ]
  },
  {
   "cell_type": "code",
   "execution_count": 71,
   "id": "minimal-aberdeen",
   "metadata": {},
   "outputs": [],
   "source": [
    "'''\n",
    "Generate the mapping between the name of the item and the indice of the item\n",
    "PARAMETERS:\n",
    "    - df_plays: Pandas DataFrame having the name - item mapping\n",
    "    - dict_ind_item: dictionary mapping the items indices to the items id\n",
    "RETURN:\n",
    "    - dict_idx_name: dictionary mapping the items indices to the items names\n",
    "    - dict_name_idx: dictionary mapping the items names to the items indices\n",
    "'''\n",
    "def item_to_name(df_plays, dict_itemchannel_ind):\n",
    "    dict_item_name = {}\n",
    "    df_plays['artist_idx'] = df_plays['artist_id'].apply(lambda x: dict_item_ind[x])\n",
    "                                                   \n",
    "    dict_idx_name = df_plays[['artist_idx', 'artist_name']].set_index('artist_idx').to_dict()['artist_name']\n",
    "    dict_name_idx = df_plays[['artist_name', 'artist_idx']].set_index('artist_name').to_dict()['artist_idx']\n",
    "    \n",
    "    return dict_idx_name, dict_name_idx"
   ]
  },
  {
   "cell_type": "code",
   "execution_count": 106,
   "id": "breeding-celebrity",
   "metadata": {},
   "outputs": [],
   "source": [
    "id2artist_name, artist_name2id = item_to_name(df_plays, artist2id)"
   ]
  },
  {
   "cell_type": "markdown",
   "id": "appointed-singing",
   "metadata": {},
   "source": [
    "#### Projection of the gender axis"
   ]
  },
  {
   "cell_type": "code",
   "execution_count": 220,
   "id": "improving-catering",
   "metadata": {},
   "outputs": [],
   "source": [
    "df_gender_projection = create_projection(EMBEDDING, gender_axis, id2artist_name)"
   ]
  },
  {
   "cell_type": "code",
   "execution_count": 221,
   "id": "generous-bottom",
   "metadata": {},
   "outputs": [
    {
     "data": {
      "text/html": [
       "<div>\n",
       "<style scoped>\n",
       "    .dataframe tbody tr th:only-of-type {\n",
       "        vertical-align: middle;\n",
       "    }\n",
       "\n",
       "    .dataframe tbody tr th {\n",
       "        vertical-align: top;\n",
       "    }\n",
       "\n",
       "    .dataframe thead th {\n",
       "        text-align: right;\n",
       "    }\n",
       "</style>\n",
       "<table border=\"1\" class=\"dataframe\">\n",
       "  <thead>\n",
       "    <tr style=\"text-align: right;\">\n",
       "      <th></th>\n",
       "      <th>name</th>\n",
       "      <th>projection</th>\n",
       "    </tr>\n",
       "  </thead>\n",
       "  <tbody>\n",
       "    <tr>\n",
       "      <th>40607</th>\n",
       "      <td>voetsek</td>\n",
       "      <td>-0.000003</td>\n",
       "    </tr>\n",
       "    <tr>\n",
       "      <th>17920</th>\n",
       "      <td>4ft fingers</td>\n",
       "      <td>-0.000003</td>\n",
       "    </tr>\n",
       "    <tr>\n",
       "      <th>39302</th>\n",
       "      <td>silmarils</td>\n",
       "      <td>-0.000003</td>\n",
       "    </tr>\n",
       "    <tr>\n",
       "      <th>26241</th>\n",
       "      <td>bombs over providence</td>\n",
       "      <td>-0.000003</td>\n",
       "    </tr>\n",
       "    <tr>\n",
       "      <th>41595</th>\n",
       "      <td>kojak</td>\n",
       "      <td>-0.000003</td>\n",
       "    </tr>\n",
       "  </tbody>\n",
       "</table>\n",
       "</div>"
      ],
      "text/plain": [
       "                        name  projection\n",
       "40607                voetsek   -0.000003\n",
       "17920            4ft fingers   -0.000003\n",
       "39302              silmarils   -0.000003\n",
       "26241  bombs over providence   -0.000003\n",
       "41595                  kojak   -0.000003"
      ]
     },
     "execution_count": 221,
     "metadata": {},
     "output_type": "execute_result"
    }
   ],
   "source": [
    "df_gender_projection.sort_values(by='projection').head()"
   ]
  },
  {
   "cell_type": "code",
   "execution_count": 222,
   "id": "assigned-correlation",
   "metadata": {},
   "outputs": [
    {
     "data": {
      "text/html": [
       "<div>\n",
       "<style scoped>\n",
       "    .dataframe tbody tr th:only-of-type {\n",
       "        vertical-align: middle;\n",
       "    }\n",
       "\n",
       "    .dataframe tbody tr th {\n",
       "        vertical-align: top;\n",
       "    }\n",
       "\n",
       "    .dataframe thead th {\n",
       "        text-align: right;\n",
       "    }\n",
       "</style>\n",
       "<table border=\"1\" class=\"dataframe\">\n",
       "  <thead>\n",
       "    <tr style=\"text-align: right;\">\n",
       "      <th></th>\n",
       "      <th>name</th>\n",
       "      <th>projection</th>\n",
       "    </tr>\n",
       "  </thead>\n",
       "  <tbody>\n",
       "    <tr>\n",
       "      <th>19056</th>\n",
       "      <td>grupo revelação</td>\n",
       "      <td>0.000046</td>\n",
       "    </tr>\n",
       "    <tr>\n",
       "      <th>20989</th>\n",
       "      <td>daniel indart</td>\n",
       "      <td>0.000047</td>\n",
       "    </tr>\n",
       "    <tr>\n",
       "      <th>3775</th>\n",
       "      <td>20 fingers</td>\n",
       "      <td>0.000056</td>\n",
       "    </tr>\n",
       "    <tr>\n",
       "      <th>30777</th>\n",
       "      <td>stuart chatwood &amp; inon zur</td>\n",
       "      <td>0.000064</td>\n",
       "    </tr>\n",
       "    <tr>\n",
       "      <th>25349</th>\n",
       "      <td>harmonia do samba</td>\n",
       "      <td>0.000072</td>\n",
       "    </tr>\n",
       "  </tbody>\n",
       "</table>\n",
       "</div>"
      ],
      "text/plain": [
       "                             name  projection\n",
       "19056             grupo revelação    0.000046\n",
       "20989               daniel indart    0.000047\n",
       "3775                   20 fingers    0.000056\n",
       "30777  stuart chatwood & inon zur    0.000064\n",
       "25349           harmonia do samba    0.000072"
      ]
     },
     "execution_count": 222,
     "metadata": {},
     "output_type": "execute_result"
    }
   ],
   "source": [
    "df_gender_projection.sort_values(by='projection').tail()"
   ]
  },
  {
   "cell_type": "code",
   "execution_count": 235,
   "id": "chemical-disposition",
   "metadata": {},
   "outputs": [
    {
     "name": "stderr",
     "output_type": "stream",
     "text": [
      "No handles with labels found to put in legend.\n"
     ]
    },
    {
     "data": {
      "image/png": "[encoded data removed]",
      "text/plain": [
       "<Figure size 720x432 with 1 Axes>"
      ]
     },
     "metadata": {
      "needs_background": "light"
     },
     "output_type": "display_data"
    }
   ],
   "source": [
    "visualization(df_gender_projection, gender_seed_name, 'PiYG', 56, 'Distribution of the gender axis projection scores', save_path = '../data/artist_embeddings/gender_projection_pca25_tdidf.pdf')\n"
   ]
  },
  {
   "cell_type": "code",
   "execution_count": 224,
   "id": "agreed-collins",
   "metadata": {},
   "outputs": [],
   "source": [
    "wom_artists = ['jennifer lopez', 'beyoncé', 'selena gomez', 'shakira']\n",
    "men_artists = ['florida', 'dj khaled', 'big sean', 'kid cudi']"
   ]
  },
  {
   "cell_type": "code",
   "execution_count": 225,
   "id": "neural-phrase",
   "metadata": {},
   "outputs": [
    {
     "data": {
      "text/html": [
       "<div>\n",
       "<style scoped>\n",
       "    .dataframe tbody tr th:only-of-type {\n",
       "        vertical-align: middle;\n",
       "    }\n",
       "\n",
       "    .dataframe tbody tr th {\n",
       "        vertical-align: top;\n",
       "    }\n",
       "\n",
       "    .dataframe thead th {\n",
       "        text-align: right;\n",
       "    }\n",
       "</style>\n",
       "<table border=\"1\" class=\"dataframe\">\n",
       "  <thead>\n",
       "    <tr style=\"text-align: right;\">\n",
       "      <th></th>\n",
       "      <th>name</th>\n",
       "      <th>projection</th>\n",
       "    </tr>\n",
       "  </thead>\n",
       "  <tbody>\n",
       "    <tr>\n",
       "      <th>4222</th>\n",
       "      <td>beyoncé</td>\n",
       "      <td>2.037449e-07</td>\n",
       "    </tr>\n",
       "    <tr>\n",
       "      <th>33653</th>\n",
       "      <td>shakira</td>\n",
       "      <td>1.914074e-07</td>\n",
       "    </tr>\n",
       "    <tr>\n",
       "      <th>40247</th>\n",
       "      <td>selena gomez</td>\n",
       "      <td>3.994675e-07</td>\n",
       "    </tr>\n",
       "    <tr>\n",
       "      <th>42287</th>\n",
       "      <td>jennifer lopez</td>\n",
       "      <td>2.086489e-07</td>\n",
       "    </tr>\n",
       "  </tbody>\n",
       "</table>\n",
       "</div>"
      ],
      "text/plain": [
       "                 name    projection\n",
       "4222          beyoncé  2.037449e-07\n",
       "33653         shakira  1.914074e-07\n",
       "40247    selena gomez  3.994675e-07\n",
       "42287  jennifer lopez  2.086489e-07"
      ]
     },
     "execution_count": 225,
     "metadata": {},
     "output_type": "execute_result"
    }
   ],
   "source": [
    "df_gender_projection[df_gender_projection['name'].isin(wom_artists)]"
   ]
  },
  {
   "cell_type": "code",
   "execution_count": 216,
   "id": "comparative-particle",
   "metadata": {},
   "outputs": [
    {
     "data": {
      "text/html": [
       "<div>\n",
       "<style scoped>\n",
       "    .dataframe tbody tr th:only-of-type {\n",
       "        vertical-align: middle;\n",
       "    }\n",
       "\n",
       "    .dataframe tbody tr th {\n",
       "        vertical-align: top;\n",
       "    }\n",
       "\n",
       "    .dataframe thead th {\n",
       "        text-align: right;\n",
       "    }\n",
       "</style>\n",
       "<table border=\"1\" class=\"dataframe\">\n",
       "  <thead>\n",
       "    <tr style=\"text-align: right;\">\n",
       "      <th></th>\n",
       "      <th>name</th>\n",
       "      <th>projection</th>\n",
       "    </tr>\n",
       "  </thead>\n",
       "  <tbody>\n",
       "    <tr>\n",
       "      <th>1432</th>\n",
       "      <td>dj khaled</td>\n",
       "      <td>-1.966886e-08</td>\n",
       "    </tr>\n",
       "    <tr>\n",
       "      <th>26085</th>\n",
       "      <td>big sean</td>\n",
       "      <td>-1.215343e-08</td>\n",
       "    </tr>\n",
       "    <tr>\n",
       "      <th>31830</th>\n",
       "      <td>florida</td>\n",
       "      <td>-2.002780e-08</td>\n",
       "    </tr>\n",
       "    <tr>\n",
       "      <th>39590</th>\n",
       "      <td>kid cudi</td>\n",
       "      <td>-2.086029e-08</td>\n",
       "    </tr>\n",
       "  </tbody>\n",
       "</table>\n",
       "</div>"
      ],
      "text/plain": [
       "            name    projection\n",
       "1432   dj khaled -1.966886e-08\n",
       "26085   big sean -1.215343e-08\n",
       "31830    florida -2.002780e-08\n",
       "39590   kid cudi -2.086029e-08"
      ]
     },
     "execution_count": 216,
     "metadata": {},
     "output_type": "execute_result"
    }
   ],
   "source": [
    "df_gender_projection[df_gender_projection['name'].isin(men_artists)]"
   ]
  },
  {
   "cell_type": "code",
   "execution_count": null,
   "id": "linear-frederick",
   "metadata": {},
   "outputs": [],
   "source": []
  }
 ],
 "metadata": {
  "kernelspec": {
   "display_name": "Python 3",
   "language": "python",
   "name": "python3"
  },
  "language_info": {
   "codemirror_mode": {
    "name": "ipython",
    "version": 3
   },
   "file_extension": ".py",
   "mimetype": "text/x-python",
   "name": "python",
   "nbconvert_exporter": "python",
   "pygments_lexer": "ipython3",
   "version": "3.6.9"
  }
 },
 "nbformat": 4,
 "nbformat_minor": 5
}
