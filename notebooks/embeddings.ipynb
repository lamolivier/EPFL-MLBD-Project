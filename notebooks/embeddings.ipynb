{
 "cells": [
  {
   "cell_type": "markdown",
   "metadata": {},
   "source": [
    "## Import"
   ]
  },
  {
   "cell_type": "code",
   "execution_count": 1,
   "metadata": {},
   "outputs": [],
   "source": [
    "import pickle\n",
    "import scipy.sparse\n",
    "import time\n",
    "\n",
    "import numpy as np\n",
    "import pandas as pd\n",
    "\n",
    "from helper_functions import *\n",
    "from scipy.sparse import dok_matrix\n",
    "from sklearn.preprocessing import normalize"
   ]
  },
  {
   "cell_type": "markdown",
   "metadata": {},
   "source": [
    "# Artist-Level embedding"
   ]
  },
  {
   "cell_type": "markdown",
   "metadata": {},
   "source": [
    "## Tf-IDF"
   ]
  },
  {
   "cell_type": "code",
   "execution_count": 15,
   "metadata": {},
   "outputs": [],
   "source": [
    "# Load precomputed data\n",
    "user2id = load_pickle('../data/user2id.pickle')\n",
    "id2user = load_pickle('../data/id2user.pickle')\n",
    "artist2id = load_pickle('../data/artist2id.pickle')\n",
    "id2artist = load_pickle('../data/id2artist.pickle')\n",
    "\n",
    "matrix_plays = scipy.sparse.load_npz('../data/matrix_plays.npz')"
   ]
  },
  {
   "cell_type": "code",
   "execution_count": 19,
   "metadata": {},
   "outputs": [],
   "source": [
    "# Number of artists and users\n",
    "nb_artists = len(artist2id)\n",
    "nb_users = len(user2id)"
   ]
  },
  {
   "cell_type": "code",
   "execution_count": 16,
   "metadata": {},
   "outputs": [],
   "source": [
    "plays_per_artists = matrix_plays.sum(axis=1)"
   ]
  },
  {
   "cell_type": "code",
   "execution_count": null,
   "metadata": {},
   "outputs": [],
   "source": [
    "# Dictionnary containing artitst, user tuple\n",
    "graph_dict = {}\n",
    "\n",
    "start = time.time()\n",
    "for user_idx in range(nb_users):\n",
    "\n",
    "    user_row = matrix_plays.T[user_idx]\n",
    "    _, non_zero_artists = user_row.nonzero()\n",
    "    idf = np.log(nb_artists / len(non_zero_artists))\n",
    "\n",
    "    for artist_idx in non_zero_artists:\n",
    "        tf = user_row[0, artist_idx] / plays_per_artists[artist_idx, 0]\n",
    "        graph_dict[artist_idx, user_idx] = tf * idf\n",
    "\n",
    "    if (user_idx % 50000 == 0) and (user_idx != 0):\n",
    "        print('Processed {} users... ({:.2f} s)'.format(user_idx,\n",
    "                                                        time.time() - start))\n",
    "        start = time.time()\n",
    "\n",
    "#\n",
    "graph_matrix = dok_matrix((nb_artists, nb_users))\n",
    "dict.update(graph_matrix, graph_dict)\n",
    "graph_dict = {}\n",
    "\n",
    "# Save sparse matrix\n",
    "scipy.sparse.save_npz('../data/artists_embedding.npz', graph_matrix.tocsr())"
   ]
  },
  {
   "cell_type": "markdown",
   "metadata": {},
   "source": [
    "## Number of occurence of plays (normalized)"
   ]
  },
  {
   "cell_type": "code",
   "execution_count": 11,
   "metadata": {},
   "outputs": [],
   "source": [
    "artists_emb_normalized = normalize(matrix_plays, norm='l1', axis=1)\n",
    "scipy.sparse.save_npz('../data/artists_embedding_norm.npz',\n",
    "                      artists_emb_normalized.tocsr())"
   ]
  },
  {
   "cell_type": "markdown",
   "metadata": {},
   "source": [
    "# User-Level embedding"
   ]
  },
  {
   "cell_type": "markdown",
   "metadata": {},
   "source": [
    "## TF-IDF"
   ]
  },
  {
   "cell_type": "code",
   "execution_count": 17,
   "metadata": {},
   "outputs": [],
   "source": [
    "plays_per_user = matrix_plays.sum(axis=0)"
   ]
  },
  {
   "cell_type": "code",
   "execution_count": 23,
   "metadata": {},
   "outputs": [
    {
     "data": {
      "text/plain": [
       "(array([], dtype=int32), array([], dtype=int32))"
      ]
     },
     "execution_count": 23,
     "metadata": {},
     "output_type": "execute_result"
    }
   ],
   "source": [
    "matrix_plays[86].nonzero()"
   ]
  },
  {
   "cell_type": "code",
   "execution_count": 24,
   "metadata": {},
   "outputs": [
    {
     "name": "stdout",
     "output_type": "stream",
     "text": [
      "Processed 10000 artists... (60.05 s)\n",
      "Processed 20000 artists... (59.34 s)\n",
      "Processed 30000 artists... (56.57 s)\n",
      "Processed 40000 artists... (72.65 s)\n",
      "Processed 50000 artists... (64.04 s)\n",
      "Processed 60000 artists... (57.77 s)\n"
     ]
    }
   ],
   "source": [
    "graph_dict = {}\n",
    "\n",
    "start = time.time()\n",
    "for artist_idx in range(nb_artists):\n",
    "    artist_row = matrix_plays[artist_idx]\n",
    "    _, non_zero_users = artist_row.nonzero()\n",
    "    idf = np.log((nb_users + 1) / (len(non_zero_users) + 1))\n",
    "\n",
    "    for user_idx in non_zero_users:\n",
    "        tf = (artist_row[0, user_idx] + 1) / (plays_per_user[0, user_idx] + 1)\n",
    "        graph_dict[user_idx, artist_idx] = tf * idf\n",
    "\n",
    "    if (artist_idx % 10000 == 0) and (artist_idx != 0):\n",
    "        print('Processed {} artists... ({:.2f} s)'.format(\n",
    "            artist_idx,\n",
    "            time.time() - start))\n",
    "        start = time.time()\n",
    "\n",
    "#\n",
    "graph_matrix = dok_matrix((nb_users, nb_artists))\n",
    "dict.update(graph_matrix, graph_dict)\n",
    "graph_dict = {}\n",
    "\n",
    "# Save sparse matrix\n",
    "scipy.sparse.save_npz('../data/user_embeddings/users_embedding.npz', graph_matrix.tocsr())"
   ]
  },
  {
   "cell_type": "markdown",
   "metadata": {},
   "source": [
    "## Number of occurence of plays (normalized)"
   ]
  },
  {
   "cell_type": "code",
   "execution_count": 25,
   "metadata": {},
   "outputs": [],
   "source": [
    "user_emb_normlalized = normalize(matrix_plays, norm='l1', axis=0)\n",
    "scipy.sparse.save_npz('../data/user_embeddings/users_embedding_norm.npz',\n",
    "                      user_emb_normalized.tocsr())"
   ]
  },
  {
   "cell_type": "code",
   "execution_count": null,
   "metadata": {},
   "outputs": [],
   "source": []
  }
 ],
 "metadata": {
  "kernelspec": {
   "display_name": "Python 3",
   "language": "python",
   "name": "python3"
  },
  "language_info": {
   "codemirror_mode": {
    "name": "ipython",
    "version": 3
   },
   "file_extension": ".py",
   "mimetype": "text/x-python",
   "name": "python",
   "nbconvert_exporter": "python",
   "pygments_lexer": "ipython3",
   "version": "3.8.5"
  }
 },
 "nbformat": 4,
 "nbformat_minor": 5
}
