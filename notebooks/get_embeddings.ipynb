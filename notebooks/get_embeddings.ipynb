{
 "cells": [
  {
   "cell_type": "markdown",
   "metadata": {},
   "source": [
    "## Import"
   ]
  },
  {
   "cell_type": "code",
   "execution_count": 1,
   "metadata": {},
   "outputs": [],
   "source": [
    "import pickle\n",
    "import scipy.sparse\n",
    "import time\n",
    "\n",
    "import numpy as np\n",
    "import pandas as pd\n",
    "\n",
    "from helper_functions import *\n",
    "from scipy.sparse import dok_matrix\n",
    "from sklearn.preprocessing import normalize"
   ]
  },
  {
   "cell_type": "code",
   "execution_count": 20,
   "metadata": {},
   "outputs": [],
   "source": [
    "# Load precomputed data\n",
    "user2id = load_pickle('../data/user2id.pickle')\n",
    "id2user = load_pickle('../data/id2user.pickle')\n",
    "artist2id = load_pickle('../data/artist2id.pickle')\n",
    "id2artist = load_pickle('../data/id2artist.pickle')\n",
    "\n",
    "matrix_plays = scipy.sparse.load_npz('../data/matrix_plays.npz')"
   ]
  },
  {
   "cell_type": "code",
   "execution_count": 21,
   "metadata": {},
   "outputs": [],
   "source": [
    "# Number of artists and users\n",
    "nb_artists = len(artist2id)\n",
    "nb_users = len(user2id)"
   ]
  },
  {
   "cell_type": "markdown",
   "metadata": {},
   "source": [
    "# Artist-Level embedding"
   ]
  },
  {
   "cell_type": "markdown",
   "metadata": {},
   "source": [
    "## Tf-IDF"
   ]
  },
  {
   "cell_type": "code",
   "execution_count": 22,
   "metadata": {},
   "outputs": [],
   "source": [
    "plays_per_artists = matrix_plays.sum(axis=1)"
   ]
  },
  {
   "cell_type": "code",
   "execution_count": 23,
   "metadata": {},
   "outputs": [
    {
     "name": "stdout",
     "output_type": "stream",
     "text": [
      "Processed 10000 users... (116.27 s)\n",
      "Processed 20000 users... (134.68 s)\n",
      "Processed 30000 users... (138.11 s)\n",
      "Processed 40000 users... (143.37 s)\n",
      "Processed 50000 users... (147.98 s)\n",
      "Processed 60000 users... (129.69 s)\n",
      "Processed 70000 users... (123.89 s)\n",
      "Processed 80000 users... (145.68 s)\n",
      "Processed 90000 users... (117.69 s)\n"
     ]
    }
   ],
   "source": [
    "# Dictionnary containing artitst, user tuple\n",
    "graph_dict = {}\n",
    "\n",
    "start = time.time()\n",
    "for user_idx in range(nb_users):\n",
    "\n",
    "    user_row = matrix_plays.T[user_idx]\n",
    "    _, non_zero_artists = user_row.nonzero()\n",
    "    idf = np.log(nb_artists / len(non_zero_artists))\n",
    "\n",
    "    for artist_idx in non_zero_artists:\n",
    "        tf = user_row[0, artist_idx] / plays_per_artists[artist_idx, 0]\n",
    "        graph_dict[artist_idx, user_idx] = tf * idf\n",
    "\n",
    "    if (user_idx % 10000 == 0) and (user_idx != 0):\n",
    "        print('Processed {} users... ({:.2f} s)'.format(user_idx,\n",
    "                                                        time.time() - start))\n",
    "        start = time.time()\n",
    "\n",
    "\n",
    "graph_matrix = dok_matrix((nb_artists, nb_users))\n",
    "dict.update(graph_matrix, graph_dict)\n",
    "graph_dict = {}\n",
    "\n",
    "# Save sparse matrix\n",
    "scipy.sparse.save_npz('../data/artist_embeddings/artists_embedding.npz', graph_matrix.tocsr())"
   ]
  },
  {
   "cell_type": "markdown",
   "metadata": {},
   "source": [
    "## Number of occurence of plays (normalized)"
   ]
  },
  {
   "cell_type": "code",
   "execution_count": 24,
   "metadata": {},
   "outputs": [],
   "source": [
    "artists_emb_normalized = normalize(matrix_plays, norm='l1', axis=1)\n",
    "scipy.sparse.save_npz('../data/artist_embeddings/artists_embedding_norm.npz',\n",
    "                      artists_emb_normalized.tocsr())"
   ]
  },
  {
   "cell_type": "markdown",
   "metadata": {},
   "source": [
    "# User-Level embedding"
   ]
  },
  {
   "cell_type": "markdown",
   "metadata": {},
   "source": [
    "## TF-IDF"
   ]
  },
  {
   "cell_type": "code",
   "execution_count": 25,
   "metadata": {},
   "outputs": [],
   "source": [
    "matrix_plays_t = matrix_plays.T"
   ]
  },
  {
   "cell_type": "code",
   "execution_count": 26,
   "metadata": {},
   "outputs": [],
   "source": [
    "plays_per_user = matrix_plays_t.sum(axis=1)"
   ]
  },
  {
   "cell_type": "code",
   "execution_count": 27,
   "metadata": {},
   "outputs": [
    {
     "name": "stdout",
     "output_type": "stream",
     "text": [
      "Processed 10000 artists... (60.28 s)\n",
      "Processed 20000 artists... (53.91 s)\n",
      "Processed 30000 artists... (62.94 s)\n",
      "Processed 40000 artists... (56.62 s)\n"
     ]
    }
   ],
   "source": [
    "# Dictionnary containing user, artist tuple\n",
    "graph_dict = {}\n",
    "\n",
    "start = time.time()\n",
    "for artist_idx in range(nb_artists):\n",
    "    artist_row = matrix_plays_t.T[artist_idx]\n",
    "    _, non_zero_users = artist_row.nonzero()\n",
    "    idf = np.log((nb_users + 1) / (len(non_zero_users) + 1))\n",
    "\n",
    "    for user_idx in non_zero_users:\n",
    "        tf = (artist_row[0, user_idx] + 1) / (plays_per_user[user_idx, 0] + 1)\n",
    "        graph_dict[user_idx, artist_idx] = tf * idf\n",
    "\n",
    "    if (artist_idx % 10000 == 0) and (artist_idx != 0):\n",
    "        print('Processed {} artists... ({:.2f} s)'.format(\n",
    "            artist_idx,\n",
    "            time.time() - start))\n",
    "        start = time.time()\n",
    "\n",
    "\n",
    "graph_matrix = dok_matrix((nb_users, nb_artists))\n",
    "dict.update(graph_matrix, graph_dict)\n",
    "graph_dict = {}\n",
    "\n",
    "# Save sparse matrix\n",
    "scipy.sparse.save_npz('../data/user_embeddings/users_embedding.npz', graph_matrix.tocsr())"
   ]
  },
  {
   "cell_type": "markdown",
   "metadata": {},
   "source": [
    "## Number of occurence of plays (normalized)"
   ]
  },
  {
   "cell_type": "code",
   "execution_count": 28,
   "metadata": {},
   "outputs": [],
   "source": [
    "user_emb_normalized = normalize(matrix_plays_t, norm='l1', axis=1)\n",
    "scipy.sparse.save_npz('../data/user_embeddings/users_embedding_norm.npz',\n",
    "                      user_emb_normalized.tocsr())"
   ]
  },
  {
   "cell_type": "code",
   "execution_count": null,
   "metadata": {},
   "outputs": [],
   "source": []
  }
 ],
 "metadata": {
  "kernelspec": {
   "display_name": "Python 3",
   "language": "python",
   "name": "python3"
  },
  "language_info": {
   "codemirror_mode": {
    "name": "ipython",
    "version": 3
   },
   "file_extension": ".py",
   "mimetype": "text/x-python",
   "name": "python",
   "nbconvert_exporter": "python",
   "pygments_lexer": "ipython3",
   "version": "3.8.5"
  }
 },
 "nbformat": 4,
 "nbformat_minor": 5
}
