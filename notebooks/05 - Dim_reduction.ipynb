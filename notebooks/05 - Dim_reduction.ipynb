{
 "cells": [
  {
   "cell_type": "code",
   "execution_count": 2,
   "id": "electronic-jerusalem",
   "metadata": {},
   "outputs": [],
   "source": [
    "import scipy.sparse\n",
    "import numpy as np\n",
    "\n",
    "from fbpca import pca"
   ]
  },
  {
   "cell_type": "code",
   "execution_count": null,
   "id": "formed-detective",
   "metadata": {},
   "outputs": [],
   "source": [
    "dir_1 = '/dlabdata1/youtube_large/jouven/channel_embedding/channels_more_10k/bipartite_matrix/'\n",
    "check_directory(dir_1)\n",
    "(graph_reduced, s, Va) = pca(graph_sparse_matrix, raw = False, k=200, n_iter = 1)\n",
    "# Save the array into npz format\n",
    "np.savez_compressed('/dlabdata1/youtube_large/jouven/channel_embedding/channels_more_10k/bipartite_matrix/fpca_'+ str(200) +'.npz', graph_reduced)"
   ]
  }
 ],
 "metadata": {
  "kernelspec": {
   "display_name": "Python 3",
   "language": "python",
   "name": "python3"
  },
  "language_info": {
   "codemirror_mode": {
    "name": "ipython",
    "version": 3
   },
   "file_extension": ".py",
   "mimetype": "text/x-python",
   "name": "python",
   "nbconvert_exporter": "python",
   "pygments_lexer": "ipython3",
   "version": "3.6.9"
  }
 },
 "nbformat": 4,
 "nbformat_minor": 5
}
