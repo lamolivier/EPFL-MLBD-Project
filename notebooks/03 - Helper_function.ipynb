{
 "cells": [
  {
   "cell_type": "code",
   "execution_count": 1,
   "id": "finnish-hotel",
   "metadata": {},
   "outputs": [],
   "source": [
    "import numpy as np\n",
    "import pandas as pd"
   ]
  },
  {
   "cell_type": "code",
   "execution_count": null,
   "id": "behavioral-worse",
   "metadata": {},
   "outputs": [],
   "source": [
    "'''\n",
    "This function creates a mapping between the selected channels id and their corresponding index.\n",
    "\n",
    "RETURN:\n",
    "    - dict_artist_idx: dictonnary mapping the artists id to the artists index\n",
    "    - dict_idx_artist: dictionnary mapping the artists index to the artists id\n",
    "    - artists_id: List of selected artists id\n",
    "'''\n",
    "def filtered_channels_index_id_mapping(df):\n",
    "    \n",
    "    artists_id = sorted(df['musicbrainz-artist-id'].unique().astype(str))\n",
    "    # Dictionnary mapping the channel id to an integer corresponding to the row of the sparse matrix.\n",
    "    dict_artist_idx = {}\n",
    "    dict_idx_artist = {}\n",
    "    for idx, artist_id in enumerate(artists_id):\n",
    "        dict_artist_idx[artist_id] = idx\n",
    "        dict_idx_artist[idx] = artist_id\n",
    "    artists_id = set(artists_id)\n",
    "    return dict_artist_idx, dict_idx_artist, artists_id"
   ]
  }
 ],
 "metadata": {
  "kernelspec": {
   "display_name": "Python 3",
   "language": "python",
   "name": "python3"
  },
  "language_info": {
   "codemirror_mode": {
    "name": "ipython",
    "version": 3
   },
   "file_extension": ".py",
   "mimetype": "text/x-python",
   "name": "python",
   "nbconvert_exporter": "python",
   "pygments_lexer": "ipython3",
   "version": "3.6.9"
  }
 },
 "nbformat": 4,
 "nbformat_minor": 5
}
