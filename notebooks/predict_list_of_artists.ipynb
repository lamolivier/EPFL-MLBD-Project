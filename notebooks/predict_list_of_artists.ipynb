{
 "cells": [
  {
   "cell_type": "markdown",
   "id": "nasty-heather",
   "metadata": {},
   "source": [
    "This notebook tries to answer our 3rd research question which is: \n",
    "\n",
    "`Can we predict an optimal list of artists for a group of arbitrary users?`"
   ]
  },
  {
   "cell_type": "markdown",
   "id": "formal-turner",
   "metadata": {},
   "source": [
    "## Imports and Data"
   ]
  },
  {
   "cell_type": "code",
   "execution_count": 1,
   "id": "involved-framing",
   "metadata": {},
   "outputs": [],
   "source": [
    "import pickle\n",
    "import scipy.sparse\n",
    "import random\n",
    "import collections\n",
    "\n",
    "import pandas as pd\n",
    "import numpy as np\n",
    "\n",
    "from helper_functions import *\n",
    "from annoy import AnnoyIndex"
   ]
  },
  {
   "cell_type": "code",
   "execution_count": 23,
   "id": "chemical-share",
   "metadata": {},
   "outputs": [],
   "source": [
    "# Load dictionnaries mapping user/artists with their index\n",
    "user2id = load_pickle('../data/user2id.pickle')\n",
    "id2user = load_pickle('../data/id2user.pickle')\n",
    "artist2id = load_pickle('../data/artist2id.pickle')\n",
    "id2artist = load_pickle('../data/id2artist.pickle')\n",
    "\n",
    "# Load the matrix of plays\n",
    "matrix_plays = scipy.sparse.load_npz('../data/matrix_plays.npz')\n",
    "\n",
    "# Load the embeddings\n",
    "user_embedding = load_pickle('../data/user_embeddings/pca/user_embedding_transformed_pca25.pickle')\n",
    "artist_embedding = load_pickle('../data/artist_embeddings/pca/artist_embedding_transformed_pca25.pickle')\n",
    "\n",
    "# Cluster labels\n",
    "artist_cluster_labels = np.array([x for x in range(40000)]) # Need np.array format\n",
    "user_cluster_labels = np.array(load_pickle('../data/clustering/hdbscan_user_labels.pickle')) # Need np.array format\n",
    "\n",
    "# The group of users on which we want to predict the list of artists\n",
    "users_group_id = range(10)\n",
    "\n"
   ]
  },
  {
   "cell_type": "markdown",
   "id": "disabled-charger",
   "metadata": {},
   "source": [
    "## Methods"
   ]
  },
  {
   "cell_type": "code",
   "execution_count": 16,
   "id": "durable-spelling",
   "metadata": {},
   "outputs": [],
   "source": [
    "'''\n",
    "Use KNN to retrieve the artists\n",
    "PARAMETERS:\n",
    "    - artist_embedding: the artist embedding\n",
    "    - artist_ref: the artist on which we want to compute knn on\n",
    "    - k: the number of artists to retrieve\n",
    "RETURN:\n",
    "    - k_nearest_neighbor: the set of artists close to artist_ref\n",
    "'''\n",
    "\n",
    "def retrieve_artists_by_using_knn(artist_embedding, artist_ref, k):\n",
    "    annoy_index = get_annoy_index(artist_embedding, range(len(artist_embedding)))\n",
    "    k_nearest_neighbor = annoy_index.get_nns_by_item(artist_ref, k)\n",
    "    return k_nearest_neighbor\n",
    "    \n",
    "    \n",
    "'''\n",
    "Retrieve the artists by selecting artists belonging to a cluster\n",
    "PARAMETERS:\n",
    "    - artist_cluster_labels: \n",
    "    - k: the number of artists to retrieve\n",
    "    - artist_ref: if not None -> the reference artist representing the group of users\n",
    "    - cluster_ref: if not None -> the reference cluster representing the group of users\n",
    "RETURN:\n",
    "    -  the set of artists close to artist_ref\n",
    "'''\n",
    "def retrieve_artists_by_picking_in_cluster(artist_cluster_labels, k, artist_ref = None, cluster_ref = None):\n",
    "    if artist_ref is not None:\n",
    "        artists_in_same_cluster = np.where(artist_cluster_labels==artist_cluster_labels[artist_ref])[0]\n",
    "    elif cluster_value is not None:\n",
    "        artists_in_same_cluster = np.where(artist_cluster_labels==cluster_value)[0]\n",
    "        \n",
    "    if k >= len(artists_in_same_cluster):\n",
    "            return artists_in_same_cluster\n",
    "    else:\n",
    "        return random.sample(list(artists_in_same_cluster), k)"
   ]
  },
  {
   "cell_type": "code",
   "execution_count": 4,
   "id": "favorite-forth",
   "metadata": {},
   "outputs": [],
   "source": [
    "'''\n",
    "Build the Annoy index in order to compute afterwords the nearest neighbors\n",
    "PARAMETERS:\n",
    "    - X: array of shape (number of samples, number of features)\n",
    "    - items_id: list of id refencing each artist\n",
    "    - extra_item: extra artists if needed\n",
    "    - last_item_id: id of the extra added artist\n",
    "RETURN:\n",
    "    - The annoy index\n",
    "'''\n",
    "def get_annoy_index(X, items_id, extra_item = None, last_item_id = None):\n",
    "    nb_trees = 100\n",
    "    index = AnnoyIndex(X.shape[1], \"euclidean\")\n",
    "    for i in range(X.shape[0]):\n",
    "        index.add_item(items_id[i], X[i])\n",
    "    if extra_item is not None:\n",
    "        index.add_item(last_item_id, extra_item)\n",
    "    index.build(nb_trees) \n",
    "    return index"
   ]
  },
  {
   "cell_type": "markdown",
   "id": "adjacent-arcade",
   "metadata": {},
   "source": [
    "### Retrieve artists from single cluster"
   ]
  },
  {
   "cell_type": "markdown",
   "id": "angry-bristol",
   "metadata": {},
   "source": [
    "#### Mean user vector"
   ]
  },
  {
   "cell_type": "code",
   "execution_count": 13,
   "id": "floating-course",
   "metadata": {},
   "outputs": [],
   "source": [
    "'''\n",
    "Mean user vector method. \n",
    "- Compute the mean user vector\n",
    "- Select the nearest neighbor of the user mean -> user_ref\n",
    "- Select the artist with the max number of plays user_ref listen to\n",
    "- Compute knn OR randomly retrieve artist that belong to the cluster \n",
    "\n",
    "PARAMETERS:\n",
    "    - user_embedding: the user embedding\n",
    "    - artist_embedding: the artist embedding\n",
    "    - artist_cluster_labels: the cluster labels of all the data sample appearing in the embedding\n",
    "    - users_group_id: index (id) representing our reference group of users\n",
    "    - matrix_plays: matrix of shape (artists, users) representing the number of plays.\n",
    "    - k: the number of artists to retrieve\n",
    "RETURN:\n",
    "    - artists_knn: selects artists by using the KNN method\n",
    "    - artists_cluster: selects artists by randomly picking artists inside the cluster\n",
    "'''\n",
    "def compute_by_mean(user_embedding, artist_embedding, artist_cluster_labels, users_group_id, matrix_plays, k):\n",
    "    idx_mean_user = 100000\n",
    "    users_group_embedding = user_embedding[users_group_id]\n",
    "    mean_user = users_group_embedding.mean(axis=0)\n",
    "    annoy_index = get_annoy_index(users_group_embedding, users_group_id, mean_user, idx_mean_user)\n",
    "    nearest_neighbor = annoy_index.get_nns_by_item(idx_mean_user, 2)[1]\n",
    "    artist_idx = matrix_plays[:, nearest_neighbor].argmax()\n",
    "    \n",
    "    artists_knn = retrieve_artists_by_using_knn(artist_embedding, artist_idx, k)\n",
    "    artists_cluster = retrieve_artists_by_picking_in_cluster(artist_cluster_labels, k, artist_ref=artist_idx)\n",
    "    return artists_knn, artists_cluster"
   ]
  },
  {
   "cell_type": "code",
   "execution_count": 14,
   "id": "better-toddler",
   "metadata": {},
   "outputs": [],
   "source": [
    "nb_selected_artists = 10\n",
    "artists_knn, artists_cluster = compute_by_mean(user_embedding, artist_embedding, artist_cluster_labels, users_group_id, matrix_plays, nb_selected_artists)\n"
   ]
  },
  {
   "cell_type": "markdown",
   "id": "adopted-style",
   "metadata": {},
   "source": [
    "#### Majority vote"
   ]
  },
  {
   "cell_type": "code",
   "execution_count": 8,
   "id": "breathing-suffering",
   "metadata": {},
   "outputs": [],
   "source": [
    "'''\n",
    "Majority vote method. \n",
    "- Look at the set of artists played by these users: select the artist cluster having the most number of artist.\n",
    "- Compute knn OR randomly retrieve artist that belong to the cluster \n",
    "\n",
    "PARAMETERS:\n",
    "    - user_embedding: the user embedding\n",
    "    - artist_embedding: the artist embedding\n",
    "    - artist_cluster_labels: the cluster labels of all the data sample appearing in the embedding\n",
    "    - users_group_id: index (id) representing our reference group of users\n",
    "    - matrix_plays: matrix of shape (artists, users) representing the number of plays.\n",
    "    - k: the number of artists to retrieve\n",
    "RETURN:\n",
    "    - artists_knn: selects artists by using the KNN method\n",
    "    - artists_cluster: selects artists by randomly picking artists inside the cluster\n",
    "'''\n",
    "def compute_by_majority_vote(users_group_id, matrix_plays, artist_cluster_labels):\n",
    "    artist2occurences = collections.Counter(matrix_plays[:, users_group_id].nonzero()[0])\n",
    "    cluster2occurences = {}\n",
    "    for cluster_label in set(artist_cluster_labels):\n",
    "        # Initialize the nuumber of occurences to 0\n",
    "        cluster2occurences[cluster_label] = 0\n",
    "        \n",
    "        selected_indices = np.where(artist_cluster_labels==cluster_label)[0]\n",
    "        set_artist = set(artist2occurences.keys())\n",
    "        for artist_idx in selected_indices:\n",
    "            if artist_idx in set_artist:\n",
    "                cluster2occurences[cluster_label] += artist2occurences[artist_idx]\n",
    "    return max(cluster2occurences, key=cluster2occurences.get)"
   ]
  },
  {
   "cell_type": "code",
   "execution_count": 17,
   "id": "continental-spanish",
   "metadata": {},
   "outputs": [],
   "source": [
    "nb_selected_artists = 10\n",
    "cluster_value = compute_by_majority_vote(users_group_id, matrix_plays, artist_cluster_labels)\n",
    "\n",
    "artists_cluster = retrieve_artists_by_picking_in_cluster(artist_cluster_labels, nb_selected_artists, cluster_ref=cluster_value)"
   ]
  },
  {
   "cell_type": "markdown",
   "id": "intense-surfing",
   "metadata": {},
   "source": [
    "### Retrieve artists from multiple clusters"
   ]
  },
  {
   "cell_type": "markdown",
   "id": "aggressive-command",
   "metadata": {},
   "source": [
    "#### Mean user vector per cluster"
   ]
  },
  {
   "cell_type": "markdown",
   "id": "greenhouse-definition",
   "metadata": {},
   "source": [
    "- Select the clusters of users these users belong to\n",
    "- For each user cluster: \n",
    "    - compute the mean user vector\n",
    "    - select the nearest neighbor of the user mean\n",
    "    - select the artist with the max number of plays\n",
    "    - compute knn OR randomly retrieve artist of belong to the cluster \n",
    "    "
   ]
  },
  {
   "cell_type": "code",
   "execution_count": 25,
   "id": "ecological-internship",
   "metadata": {},
   "outputs": [],
   "source": [
    "cluster_labels = user_cluster_labels[users_group_id]\n",
    "nb_clusters = len(set(cluster_labels))\n",
    "nb_selected_artists = 10"
   ]
  },
  {
   "cell_type": "code",
   "execution_count": 26,
   "id": "combined-lucas",
   "metadata": {},
   "outputs": [],
   "source": [
    "selected_artists_knn = []\n",
    "selected_artists_clusters = []\n",
    "nb_artists_per_cluster = nb_selected_artists//nb_clusters # Number of artists to select for each cluster\n",
    "if nb_artists_per_cluster == 0:\n",
    "    nb_artists_per_cluster = 1\n",
    "\n",
    "for i, label in enumerate(set(cluster_labels)):\n",
    "    selected_indices = np.where(cluster_labels==label)[0]\n",
    "    artists_knn, artists_cluster = compute_by_mean(user_embedding, artist_embedding, artist_cluster_labels, users_group_id, matrix_plays, nb_selected_artists)\n",
    "    selected_artists_knn.append(artists_knn)\n",
    "    selected_artists_clusters.append(artists_cluster)"
   ]
  },
  {
   "cell_type": "code",
   "execution_count": null,
   "id": "common-adolescent",
   "metadata": {},
   "outputs": [],
   "source": []
  }
 ],
 "metadata": {
  "kernelspec": {
   "display_name": "Python 3",
   "language": "python",
   "name": "python3"
  },
  "language_info": {
   "codemirror_mode": {
    "name": "ipython",
    "version": 3
   },
   "file_extension": ".py",
   "mimetype": "text/x-python",
   "name": "python",
   "nbconvert_exporter": "python",
   "pygments_lexer": "ipython3",
   "version": "3.6.9"
  }
 },
 "nbformat": 4,
 "nbformat_minor": 5
}
